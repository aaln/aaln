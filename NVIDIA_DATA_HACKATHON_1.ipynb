{
  "cells": [
    {
      "cell_type": "markdown",
      "metadata": {
        "id": "view-in-github",
        "colab_type": "text"
      },
      "source": [
        "<a href=\"https://colab.research.google.com/github/aaln/aaln/blob/main/NVIDIA_DATA_HACKATHON_1.ipynb\" target=\"_parent\"><img src=\"https://colab.research.google.com/assets/colab-badge.svg\" alt=\"Open In Colab\"/></a>"
      ]
    },
    {
      "cell_type": "code",
      "execution_count": null,
      "metadata": {
        "colab": {
          "base_uri": "https://localhost:8080/"
        },
        "id": "5duS0Nx7zLel",
        "outputId": "7f47194d-a617-4494-fc33-af6471e827ec"
      },
      "outputs": [
        {
          "data": {
            "text/plain": [
              "{'status': 'ok', 'restart': True}"
            ]
          },
          "execution_count": 24,
          "metadata": {},
          "output_type": "execute_result"
        }
      ],
      "source": [
        "get_ipython().kernel.do_shutdown(restart=True)"
      ]
    },
    {
      "cell_type": "code",
      "execution_count": null,
      "metadata": {
        "id": "RGDhiXJK_3cz"
      },
      "outputs": [],
      "source": [
        "import locale\n",
        "locale.getpreferredencoding = lambda: \"UTF-8\"\n",
        "# Installing GPU driver for LightGBM:-\n",
        "!mkdir -p /etc/OpenCL/vendors && echo \"libnvidia-opencl.so.1\" > /etc/OpenCL/vendors/nvidia.icd\n",
        "!sudo apt install nvidia-driver-460 nvidia-cuda-toolkit clinfo\n",
        "!apt-get update --fix-missing\n",
        "!pip install -q  lightgbm==4.1.0 \\\n",
        "  --config-settings=cmake.define.USE_GPU=ON \\\n",
        "  --config-settings=cmake.define.OpenCL_INCLUDE_DIR=\"/usr/local/cuda/include/\" \\\n",
        "  --config-settings=cmake.define.OpenCL_LIBRARY=\"/usr/local/cuda/lib64/libOpenCL.so\""
      ]
    },
    {
      "cell_type": "code",
      "source": [
        "# Colab warns and provides remediation steps if the GPUs is not compatible with RAPIDS.\n",
        "\n",
        "!git clone https://github.com/rapidsai/rapidsai-csp-utils.git\n",
        "!python rapidsai-csp-utils/colab/pip-install.py"
      ],
      "metadata": {
        "id": "Oo85xPqpVSQa"
      },
      "execution_count": null,
      "outputs": []
    },
    {
      "cell_type": "code",
      "execution_count": 1,
      "metadata": {
        "id": "zhPt4Xj8THgo"
      },
      "outputs": [],
      "source": [
        "%load_ext cudf.pandas\n",
        "\n",
        "import cudf  # this should work without any errors\n",
        "import cupy as cp\n",
        "import lightgbm as lgb\n",
        "import pandas as pd\n",
        "import numpy as np\n",
        "from sklearn.preprocessing import LabelEncoder, StandardScaler, KBinsDiscretizer\n",
        "from sklearn.decomposition import PCA\n",
        "from sklearn.feature_selection import SelectKBest, mutual_info_regression\n",
        "\n",
        "from sklearn.model_selection import train_test_split\n",
        "from sklearn.metrics import mean_squared_error\n",
        "from scipy import stats\n",
        "import gc\n"
      ]
    },
    {
      "cell_type": "code",
      "execution_count": 2,
      "metadata": {
        "colab": {
          "base_uri": "https://localhost:8080/",
          "height": 92
        },
        "id": "7B1QOEWPpyvF",
        "outputId": "6bebc099-a3bd-4736-aea5-70194779c4d5"
      },
      "outputs": [
        {
          "output_type": "display_data",
          "data": {
            "text/plain": [
              "<IPython.core.display.HTML object>"
            ],
            "text/html": [
              "\n",
              "     <input type=\"file\" id=\"files-a6e32f9b-4be7-43e5-a361-f11fbfc6c9e0\" name=\"files[]\" multiple disabled\n",
              "        style=\"border:none\" />\n",
              "     <output id=\"result-a6e32f9b-4be7-43e5-a361-f11fbfc6c9e0\">\n",
              "      Upload widget is only available when the cell has been executed in the\n",
              "      current browser session. Please rerun this cell to enable.\n",
              "      </output>\n",
              "      <script>// Copyright 2017 Google LLC\n",
              "//\n",
              "// Licensed under the Apache License, Version 2.0 (the \"License\");\n",
              "// you may not use this file except in compliance with the License.\n",
              "// You may obtain a copy of the License at\n",
              "//\n",
              "//      http://www.apache.org/licenses/LICENSE-2.0\n",
              "//\n",
              "// Unless required by applicable law or agreed to in writing, software\n",
              "// distributed under the License is distributed on an \"AS IS\" BASIS,\n",
              "// WITHOUT WARRANTIES OR CONDITIONS OF ANY KIND, either express or implied.\n",
              "// See the License for the specific language governing permissions and\n",
              "// limitations under the License.\n",
              "\n",
              "/**\n",
              " * @fileoverview Helpers for google.colab Python module.\n",
              " */\n",
              "(function(scope) {\n",
              "function span(text, styleAttributes = {}) {\n",
              "  const element = document.createElement('span');\n",
              "  element.textContent = text;\n",
              "  for (const key of Object.keys(styleAttributes)) {\n",
              "    element.style[key] = styleAttributes[key];\n",
              "  }\n",
              "  return element;\n",
              "}\n",
              "\n",
              "// Max number of bytes which will be uploaded at a time.\n",
              "const MAX_PAYLOAD_SIZE = 100 * 1024;\n",
              "\n",
              "function _uploadFiles(inputId, outputId) {\n",
              "  const steps = uploadFilesStep(inputId, outputId);\n",
              "  const outputElement = document.getElementById(outputId);\n",
              "  // Cache steps on the outputElement to make it available for the next call\n",
              "  // to uploadFilesContinue from Python.\n",
              "  outputElement.steps = steps;\n",
              "\n",
              "  return _uploadFilesContinue(outputId);\n",
              "}\n",
              "\n",
              "// This is roughly an async generator (not supported in the browser yet),\n",
              "// where there are multiple asynchronous steps and the Python side is going\n",
              "// to poll for completion of each step.\n",
              "// This uses a Promise to block the python side on completion of each step,\n",
              "// then passes the result of the previous step as the input to the next step.\n",
              "function _uploadFilesContinue(outputId) {\n",
              "  const outputElement = document.getElementById(outputId);\n",
              "  const steps = outputElement.steps;\n",
              "\n",
              "  const next = steps.next(outputElement.lastPromiseValue);\n",
              "  return Promise.resolve(next.value.promise).then((value) => {\n",
              "    // Cache the last promise value to make it available to the next\n",
              "    // step of the generator.\n",
              "    outputElement.lastPromiseValue = value;\n",
              "    return next.value.response;\n",
              "  });\n",
              "}\n",
              "\n",
              "/**\n",
              " * Generator function which is called between each async step of the upload\n",
              " * process.\n",
              " * @param {string} inputId Element ID of the input file picker element.\n",
              " * @param {string} outputId Element ID of the output display.\n",
              " * @return {!Iterable<!Object>} Iterable of next steps.\n",
              " */\n",
              "function* uploadFilesStep(inputId, outputId) {\n",
              "  const inputElement = document.getElementById(inputId);\n",
              "  inputElement.disabled = false;\n",
              "\n",
              "  const outputElement = document.getElementById(outputId);\n",
              "  outputElement.innerHTML = '';\n",
              "\n",
              "  const pickedPromise = new Promise((resolve) => {\n",
              "    inputElement.addEventListener('change', (e) => {\n",
              "      resolve(e.target.files);\n",
              "    });\n",
              "  });\n",
              "\n",
              "  const cancel = document.createElement('button');\n",
              "  inputElement.parentElement.appendChild(cancel);\n",
              "  cancel.textContent = 'Cancel upload';\n",
              "  const cancelPromise = new Promise((resolve) => {\n",
              "    cancel.onclick = () => {\n",
              "      resolve(null);\n",
              "    };\n",
              "  });\n",
              "\n",
              "  // Wait for the user to pick the files.\n",
              "  const files = yield {\n",
              "    promise: Promise.race([pickedPromise, cancelPromise]),\n",
              "    response: {\n",
              "      action: 'starting',\n",
              "    }\n",
              "  };\n",
              "\n",
              "  cancel.remove();\n",
              "\n",
              "  // Disable the input element since further picks are not allowed.\n",
              "  inputElement.disabled = true;\n",
              "\n",
              "  if (!files) {\n",
              "    return {\n",
              "      response: {\n",
              "        action: 'complete',\n",
              "      }\n",
              "    };\n",
              "  }\n",
              "\n",
              "  for (const file of files) {\n",
              "    const li = document.createElement('li');\n",
              "    li.append(span(file.name, {fontWeight: 'bold'}));\n",
              "    li.append(span(\n",
              "        `(${file.type || 'n/a'}) - ${file.size} bytes, ` +\n",
              "        `last modified: ${\n",
              "            file.lastModifiedDate ? file.lastModifiedDate.toLocaleDateString() :\n",
              "                                    'n/a'} - `));\n",
              "    const percent = span('0% done');\n",
              "    li.appendChild(percent);\n",
              "\n",
              "    outputElement.appendChild(li);\n",
              "\n",
              "    const fileDataPromise = new Promise((resolve) => {\n",
              "      const reader = new FileReader();\n",
              "      reader.onload = (e) => {\n",
              "        resolve(e.target.result);\n",
              "      };\n",
              "      reader.readAsArrayBuffer(file);\n",
              "    });\n",
              "    // Wait for the data to be ready.\n",
              "    let fileData = yield {\n",
              "      promise: fileDataPromise,\n",
              "      response: {\n",
              "        action: 'continue',\n",
              "      }\n",
              "    };\n",
              "\n",
              "    // Use a chunked sending to avoid message size limits. See b/62115660.\n",
              "    let position = 0;\n",
              "    do {\n",
              "      const length = Math.min(fileData.byteLength - position, MAX_PAYLOAD_SIZE);\n",
              "      const chunk = new Uint8Array(fileData, position, length);\n",
              "      position += length;\n",
              "\n",
              "      const base64 = btoa(String.fromCharCode.apply(null, chunk));\n",
              "      yield {\n",
              "        response: {\n",
              "          action: 'append',\n",
              "          file: file.name,\n",
              "          data: base64,\n",
              "        },\n",
              "      };\n",
              "\n",
              "      let percentDone = fileData.byteLength === 0 ?\n",
              "          100 :\n",
              "          Math.round((position / fileData.byteLength) * 100);\n",
              "      percent.textContent = `${percentDone}% done`;\n",
              "\n",
              "    } while (position < fileData.byteLength);\n",
              "  }\n",
              "\n",
              "  // All done.\n",
              "  yield {\n",
              "    response: {\n",
              "      action: 'complete',\n",
              "    }\n",
              "  };\n",
              "}\n",
              "\n",
              "scope.google = scope.google || {};\n",
              "scope.google.colab = scope.google.colab || {};\n",
              "scope.google.colab._files = {\n",
              "  _uploadFiles,\n",
              "  _uploadFilesContinue,\n",
              "};\n",
              "})(self);\n",
              "</script> "
            ]
          },
          "metadata": {}
        },
        {
          "output_type": "stream",
          "name": "stdout",
          "text": [
            "Saving kaggle.json to kaggle (1).json\n"
          ]
        },
        {
          "output_type": "execute_result",
          "data": {
            "text/plain": [
              "{'kaggle (1).json': b'{\"username\":\"aalndy\",\"key\":\"3d3aac3e0773862d88152e8c280a92c2\"}'}"
            ]
          },
          "metadata": {},
          "execution_count": 2
        }
      ],
      "source": [
        "from google.colab import files\n",
        "files.upload()  # Select kaggle.json from your local files (the api key)"
      ]
    },
    {
      "cell_type": "code",
      "execution_count": 3,
      "metadata": {
        "id": "gH1KfFBLp4VU"
      },
      "outputs": [],
      "source": [
        "!mkdir -p ~/.kaggle  # Use -p to avoid errors if the directory exists\n",
        "!cp kaggle.json ~/.kaggle/\n",
        "!chmod 600 ~/.kaggle/kaggle.json"
      ]
    },
    {
      "cell_type": "code",
      "execution_count": 4,
      "metadata": {
        "id": "uDAMyczl0Ais"
      },
      "outputs": [],
      "source": [
        "!pip install -q kaggle"
      ]
    },
    {
      "cell_type": "code",
      "execution_count": 8,
      "metadata": {
        "colab": {
          "base_uri": "https://localhost:8080/"
        },
        "id": "91ltoa2up6Uq",
        "outputId": "89d59d58-792e-434a-8417-1b70a43e9aca"
      },
      "outputs": [
        {
          "output_type": "stream",
          "name": "stdout",
          "text": [
            "Downloading odsc-2024-nvidia-hackathon.zip to /content\n",
            "100% 3.70G/3.72G [00:09<00:00, 439MB/s]\n",
            "100% 3.72G/3.72G [00:09<00:00, 431MB/s]\n"
          ]
        }
      ],
      "source": [
        "\n",
        "!kaggle competitions download -c odsc-2024-nvidia-hackathon"
      ]
    },
    {
      "cell_type": "code",
      "execution_count": 9,
      "metadata": {
        "id": "dcnoFWRPp-qU"
      },
      "outputs": [],
      "source": [
        "import zipfile\n",
        "with zipfile.ZipFile(\"odsc-2024-nvidia-hackathon.zip\", \"r\") as zip_ref:\n",
        "    zip_ref.extractall(\"odsc-2024-nvidia-hackathon\")"
      ]
    },
    {
      "cell_type": "code",
      "execution_count": 4,
      "metadata": {
        "id": "A1U444zc82G7"
      },
      "outputs": [],
      "source": [
        "def round_float_columns(df, decimals=2):\n",
        "    \"\"\"Round all float columns to specified decimal places.\"\"\"\n",
        "    float_cols = df.select_dtypes(include=['float64']).columns\n",
        "    df[float_cols] = df[float_cols].round(decimals)\n",
        "    return df\n",
        "\n",
        "def get_important_numeric_features(df, target, n_features=20):\n",
        "    \"\"\"Select most important numeric features for binning using correlation.\"\"\"\n",
        "    numeric_cols = df.select_dtypes(include=['int64', 'float64']).columns\n",
        "    numeric_cols = numeric_cols.drop(['id', 'y']) if 'y' in numeric_cols else numeric_cols.drop('id')\n",
        "\n",
        "    # Calculate correlations\n",
        "    correlations = np.abs(df[numeric_cols].corrwith(target))\n",
        "\n",
        "    # Get top n_features\n",
        "    top_features = correlations.nlargest(n_features).index.tolist()\n",
        "    return top_features\n",
        "\n",
        "def create_bins_optimized(df, numeric_cols):\n",
        "    \"\"\"Create optimized binned versions of numeric features.\"\"\"\n",
        "    binned_features = pd.DataFrame()\n",
        "\n",
        "    for col in numeric_cols:\n",
        "        if df[col].nunique() > 10:  # Only bin if enough unique values\n",
        "            # Simple quartile binning (faster than KBinsDiscretizer)\n",
        "            binned_features[f'{col}_quartile'] = pd.qcut(\n",
        "                df[col], q=4, labels=False, duplicates='drop')\n",
        "\n",
        "            # Decile binning for more granularity where needed\n",
        "            binned_features[f'{col}_decile'] = pd.qcut(\n",
        "                df[col], q=10, labels=False, duplicates='drop')\n",
        "\n",
        "            # Simple binary flag for values above median\n",
        "            median_val = df[col].median()\n",
        "            binned_features[f'{col}_above_median'] = (df[col] > median_val).astype(int)\n",
        "\n",
        "            # Add extreme value flags\n",
        "            q1, q3 = df[col].quantile([0.25, 0.75])\n",
        "            iqr = q3 - q1\n",
        "            binned_features[f'{col}_is_outlier'] = (\n",
        "                (df[col] < (q1 - 1.5 * iqr)) |\n",
        "                (df[col] > (q3 + 1.5 * iqr))\n",
        "            ).astype(int)\n",
        "\n",
        "    return binned_features\n",
        "\n",
        "def create_statistical_features_optimized(df, numeric_cols):\n",
        "    \"\"\"Create statistical features using optimized calculations.\"\"\"\n",
        "    # Convert to numpy array for faster operations\n",
        "    data = df[numeric_cols].values\n",
        "\n",
        "    # Preallocate the DataFrame with NaN values\n",
        "    stats_df = pd.DataFrame(index=df.index)\n",
        "\n",
        "    # Calculate basic statistics using numpy (much faster than pandas)\n",
        "    stats_df['row_mean'] = np.nanmean(data, axis=1).round(2)\n",
        "    stats_df['row_std'] = np.nanstd(data, axis=1).round(2)\n",
        "\n",
        "    # Use numpy percentile for quartiles (faster than pandas quantile)\n",
        "    stats_df['row_q25'] = np.nanpercentile(data, 25, axis=1).round(2)\n",
        "    stats_df['row_q75'] = np.nanpercentile(data, 75, axis=1).round(2)\n",
        "\n",
        "    # Calculate IQR\n",
        "    stats_df['row_iqr'] = (stats_df['row_q75'] - stats_df['row_q25']).round(2)\n",
        "\n",
        "    # Add count of extreme values (outside 1.5 IQR)\n",
        "    lower_bound = stats_df['row_q25'] - 1.5 * stats_df['row_iqr']\n",
        "    upper_bound = stats_df['row_q75'] + 1.5 * stats_df['row_iqr']\n",
        "\n",
        "    # Count extremes using numpy operations\n",
        "    extremes = ((data < lower_bound.values.reshape(-1, 1)) |\n",
        "               (data > upper_bound.values.reshape(-1, 1)))\n",
        "    stats_df['extreme_count'] = np.sum(extremes, axis=1)\n",
        "\n",
        "    return stats_df\n",
        "\n",
        "def process_in_chunks(df, target, chunk_size=50000):\n",
        "    \"\"\"Process the data in chunks to reduce memory usage.\"\"\"\n",
        "    n_samples = len(df)\n",
        "\n",
        "    # Create train-test indices first\n",
        "    all_indices = np.arange(n_samples)\n",
        "    train_idx, valid_idx = train_test_split(all_indices, test_size=0.2, random_state=42)\n",
        "\n",
        "    # Initialize empty lists to store chunks\n",
        "    train_data = []\n",
        "    train_labels = []\n",
        "    valid_data = []\n",
        "    valid_labels = []\n",
        "\n",
        "    # Process in chunks\n",
        "    for start_idx in range(0, n_samples, chunk_size):\n",
        "        end_idx = min(start_idx + chunk_size, n_samples)\n",
        "        chunk_indices = np.arange(start_idx, end_idx)\n",
        "\n",
        "        # Get chunk data\n",
        "        chunk_data = df.iloc[chunk_indices].values\n",
        "        chunk_target = target.iloc[chunk_indices].values\n",
        "\n",
        "        # Split chunk into train and validation\n",
        "        chunk_train_mask = np.isin(chunk_indices, train_idx)\n",
        "        chunk_valid_mask = np.isin(chunk_indices, valid_idx)\n",
        "\n",
        "        if chunk_train_mask.any():\n",
        "            train_data.append(chunk_data[chunk_train_mask])\n",
        "            train_labels.append(chunk_target[chunk_train_mask])\n",
        "\n",
        "        if chunk_valid_mask.any():\n",
        "            valid_data.append(chunk_data[chunk_valid_mask])\n",
        "            valid_labels.append(chunk_target[chunk_valid_mask])\n",
        "\n",
        "        # Clear memory\n",
        "        del chunk_data, chunk_target\n",
        "        gc.collect()\n",
        "\n",
        "    # Combine chunks\n",
        "    X_train = np.vstack(train_data)\n",
        "    y_train = np.concatenate(train_labels)\n",
        "    X_valid = np.vstack(valid_data)\n",
        "    y_valid = np.concatenate(valid_labels)\n",
        "\n",
        "    # Clear memory\n",
        "    del train_data, train_labels, valid_data, valid_labels\n",
        "    gc.collect()\n",
        "\n",
        "    # Create LightGBM datasets\n",
        "    lgb_train = lgb.Dataset(X_train, y_train)\n",
        "    lgb_valid = lgb.Dataset(X_valid, y_valid, reference=lgb_train)\n",
        "\n",
        "    # Clear memory\n",
        "    del X_train, y_train, X_valid, y_valid\n",
        "    gc.collect()\n",
        "\n",
        "    return lgb_train, lgb_valid\n"
      ]
    },
    {
      "cell_type": "code",
      "execution_count": 5,
      "metadata": {
        "id": "DfaAleL5qhim"
      },
      "outputs": [],
      "source": [
        "# prompt: # the csvs should be in the odsc-2024-nvidia-hackathon directory\n",
        "# train = cudf.read_csv('train.csv', nrows=1000000)  # Load a sample of 1 million rows\n",
        "# test = cudf.read_csv('test.csv')\n",
        "\n",
        "# Assuming 'train.csv' and 'test.csv' are in the 'odsc-2024-nvidia-hackathon' directory\n",
        "# train = cudf.read_csv('odsc-2024-nvidia-hackathon/train.csv', nrows=1000000)  # Load a sample of 1 million rows\n",
        "# test = cudf.read_csv('odsc-2024-nvidia-hackathon/test.csv')\n",
        "\n",
        "# Load a sample of the train.csv using Pandas\n",
        "# Note: Assuming train.csv is uploaded to Colab environment.\n",
        "train = pd.read_csv('odsc-2024-nvidia-hackathon/train.csv')\n",
        "test = pd.read_csv('odsc-2024-nvidia-hackathon/test.csv')\n"
      ]
    },
    {
      "cell_type": "code",
      "execution_count": 6,
      "metadata": {
        "id": "NHYb7a7v9AIt"
      },
      "outputs": [],
      "source": [
        "# Round float columns\n",
        "train = round_float_columns(train)\n",
        "test = round_float_columns(test)"
      ]
    },
    {
      "cell_type": "code",
      "execution_count": 7,
      "metadata": {
        "colab": {
          "base_uri": "https://localhost:8080/"
        },
        "collapsed": true,
        "id": "b86MQ0Tv9DWY",
        "outputId": "01b299b9-6c05-485f-df51-5c5eb7763d9e"
      },
      "outputs": [
        {
          "output_type": "stream",
          "name": "stderr",
          "text": [
            "/usr/local/lib/python3.10/dist-packages/cudf/core/column/numerical.py:730: RuntimeWarning: invalid value encountered in cast\n",
            "  col_to_normalize_casted = np.array(col_to_normalize[0]).astype(\n",
            "/usr/local/lib/python3.10/dist-packages/cudf/core/column/numerical.py:730: RuntimeWarning: invalid value encountered in cast\n",
            "  col_to_normalize_casted = np.array(col_to_normalize[0]).astype(\n",
            "/usr/local/lib/python3.10/dist-packages/cudf/core/column/numerical.py:730: RuntimeWarning: invalid value encountered in cast\n",
            "  col_to_normalize_casted = np.array(col_to_normalize[0]).astype(\n",
            "/usr/local/lib/python3.10/dist-packages/cudf/core/column/numerical.py:730: RuntimeWarning: invalid value encountered in cast\n",
            "  col_to_normalize_casted = np.array(col_to_normalize[0]).astype(\n",
            "/usr/local/lib/python3.10/dist-packages/cudf/core/column/numerical.py:730: RuntimeWarning: invalid value encountered in cast\n",
            "  col_to_normalize_casted = np.array(col_to_normalize[0]).astype(\n",
            "/usr/local/lib/python3.10/dist-packages/cudf/core/column/numerical.py:730: RuntimeWarning: invalid value encountered in cast\n",
            "  col_to_normalize_casted = np.array(col_to_normalize[0]).astype(\n",
            "/usr/local/lib/python3.10/dist-packages/cudf/core/column/numerical.py:730: RuntimeWarning: invalid value encountered in cast\n",
            "  col_to_normalize_casted = np.array(col_to_normalize[0]).astype(\n",
            "/usr/local/lib/python3.10/dist-packages/cudf/core/column/numerical.py:730: RuntimeWarning: invalid value encountered in cast\n",
            "  col_to_normalize_casted = np.array(col_to_normalize[0]).astype(\n",
            "/usr/local/lib/python3.10/dist-packages/cudf/core/column/numerical.py:730: RuntimeWarning: invalid value encountered in cast\n",
            "  col_to_normalize_casted = np.array(col_to_normalize[0]).astype(\n",
            "/usr/local/lib/python3.10/dist-packages/cudf/core/column/numerical.py:730: RuntimeWarning: invalid value encountered in cast\n",
            "  col_to_normalize_casted = np.array(col_to_normalize[0]).astype(\n",
            "/usr/local/lib/python3.10/dist-packages/cudf/core/column/numerical.py:730: RuntimeWarning: invalid value encountered in cast\n",
            "  col_to_normalize_casted = np.array(col_to_normalize[0]).astype(\n",
            "/usr/local/lib/python3.10/dist-packages/cudf/core/column/numerical.py:730: RuntimeWarning: invalid value encountered in cast\n",
            "  col_to_normalize_casted = np.array(col_to_normalize[0]).astype(\n",
            "/usr/local/lib/python3.10/dist-packages/cudf/core/column/numerical.py:730: RuntimeWarning: invalid value encountered in cast\n",
            "  col_to_normalize_casted = np.array(col_to_normalize[0]).astype(\n",
            "/usr/local/lib/python3.10/dist-packages/cudf/core/column/numerical.py:730: RuntimeWarning: invalid value encountered in cast\n",
            "  col_to_normalize_casted = np.array(col_to_normalize[0]).astype(\n",
            "/usr/local/lib/python3.10/dist-packages/cudf/core/column/numerical.py:730: RuntimeWarning: invalid value encountered in cast\n",
            "  col_to_normalize_casted = np.array(col_to_normalize[0]).astype(\n",
            "/usr/local/lib/python3.10/dist-packages/cudf/core/column/numerical.py:730: RuntimeWarning: invalid value encountered in cast\n",
            "  col_to_normalize_casted = np.array(col_to_normalize[0]).astype(\n",
            "/usr/local/lib/python3.10/dist-packages/cudf/core/column/numerical.py:730: RuntimeWarning: invalid value encountered in cast\n",
            "  col_to_normalize_casted = np.array(col_to_normalize[0]).astype(\n",
            "/usr/local/lib/python3.10/dist-packages/cudf/core/column/numerical.py:730: RuntimeWarning: invalid value encountered in cast\n",
            "  col_to_normalize_casted = np.array(col_to_normalize[0]).astype(\n",
            "/usr/local/lib/python3.10/dist-packages/cudf/core/column/numerical.py:730: RuntimeWarning: invalid value encountered in cast\n",
            "  col_to_normalize_casted = np.array(col_to_normalize[0]).astype(\n",
            "/usr/local/lib/python3.10/dist-packages/cudf/core/column/numerical.py:730: RuntimeWarning: invalid value encountered in cast\n",
            "  col_to_normalize_casted = np.array(col_to_normalize[0]).astype(\n",
            "/usr/local/lib/python3.10/dist-packages/cudf/core/column/numerical.py:730: RuntimeWarning: invalid value encountered in cast\n",
            "  col_to_normalize_casted = np.array(col_to_normalize[0]).astype(\n",
            "/usr/local/lib/python3.10/dist-packages/cudf/core/column/numerical.py:730: RuntimeWarning: invalid value encountered in cast\n",
            "  col_to_normalize_casted = np.array(col_to_normalize[0]).astype(\n",
            "/usr/local/lib/python3.10/dist-packages/cudf/core/column/numerical.py:730: RuntimeWarning: invalid value encountered in cast\n",
            "  col_to_normalize_casted = np.array(col_to_normalize[0]).astype(\n",
            "/usr/local/lib/python3.10/dist-packages/cudf/core/column/numerical.py:730: RuntimeWarning: invalid value encountered in cast\n",
            "  col_to_normalize_casted = np.array(col_to_normalize[0]).astype(\n",
            "/usr/local/lib/python3.10/dist-packages/cudf/core/column/numerical.py:730: RuntimeWarning: invalid value encountered in cast\n",
            "  col_to_normalize_casted = np.array(col_to_normalize[0]).astype(\n",
            "/usr/local/lib/python3.10/dist-packages/cudf/core/column/numerical.py:730: RuntimeWarning: invalid value encountered in cast\n",
            "  col_to_normalize_casted = np.array(col_to_normalize[0]).astype(\n",
            "/usr/local/lib/python3.10/dist-packages/cudf/core/column/numerical.py:730: RuntimeWarning: invalid value encountered in cast\n",
            "  col_to_normalize_casted = np.array(col_to_normalize[0]).astype(\n",
            "/usr/local/lib/python3.10/dist-packages/cudf/core/column/numerical.py:730: RuntimeWarning: invalid value encountered in cast\n",
            "  col_to_normalize_casted = np.array(col_to_normalize[0]).astype(\n",
            "/usr/local/lib/python3.10/dist-packages/cudf/core/column/numerical.py:730: RuntimeWarning: invalid value encountered in cast\n",
            "  col_to_normalize_casted = np.array(col_to_normalize[0]).astype(\n",
            "/usr/local/lib/python3.10/dist-packages/cudf/core/column/numerical.py:730: RuntimeWarning: invalid value encountered in cast\n",
            "  col_to_normalize_casted = np.array(col_to_normalize[0]).astype(\n",
            "/usr/local/lib/python3.10/dist-packages/cudf/core/column/numerical.py:730: RuntimeWarning: invalid value encountered in cast\n",
            "  col_to_normalize_casted = np.array(col_to_normalize[0]).astype(\n",
            "/usr/local/lib/python3.10/dist-packages/cudf/core/column/numerical.py:730: RuntimeWarning: invalid value encountered in cast\n",
            "  col_to_normalize_casted = np.array(col_to_normalize[0]).astype(\n",
            "/usr/local/lib/python3.10/dist-packages/cudf/core/column/numerical.py:730: RuntimeWarning: invalid value encountered in cast\n",
            "  col_to_normalize_casted = np.array(col_to_normalize[0]).astype(\n",
            "/usr/local/lib/python3.10/dist-packages/cudf/core/column/numerical.py:730: RuntimeWarning: invalid value encountered in cast\n",
            "  col_to_normalize_casted = np.array(col_to_normalize[0]).astype(\n",
            "/usr/local/lib/python3.10/dist-packages/cudf/core/column/numerical.py:730: RuntimeWarning: invalid value encountered in cast\n",
            "  col_to_normalize_casted = np.array(col_to_normalize[0]).astype(\n",
            "/usr/local/lib/python3.10/dist-packages/cudf/core/column/numerical.py:730: RuntimeWarning: invalid value encountered in cast\n",
            "  col_to_normalize_casted = np.array(col_to_normalize[0]).astype(\n",
            "/usr/local/lib/python3.10/dist-packages/cudf/core/column/numerical.py:730: RuntimeWarning: invalid value encountered in cast\n",
            "  col_to_normalize_casted = np.array(col_to_normalize[0]).astype(\n",
            "/usr/local/lib/python3.10/dist-packages/cudf/core/column/numerical.py:730: RuntimeWarning: invalid value encountered in cast\n",
            "  col_to_normalize_casted = np.array(col_to_normalize[0]).astype(\n",
            "/usr/local/lib/python3.10/dist-packages/cudf/core/column/numerical.py:730: RuntimeWarning: invalid value encountered in cast\n",
            "  col_to_normalize_casted = np.array(col_to_normalize[0]).astype(\n",
            "/usr/local/lib/python3.10/dist-packages/cudf/core/column/numerical.py:730: RuntimeWarning: invalid value encountered in cast\n",
            "  col_to_normalize_casted = np.array(col_to_normalize[0]).astype(\n",
            "/usr/local/lib/python3.10/dist-packages/cudf/core/column/numerical.py:730: RuntimeWarning: invalid value encountered in cast\n",
            "  col_to_normalize_casted = np.array(col_to_normalize[0]).astype(\n",
            "/usr/local/lib/python3.10/dist-packages/cudf/core/column/numerical.py:730: RuntimeWarning: invalid value encountered in cast\n",
            "  col_to_normalize_casted = np.array(col_to_normalize[0]).astype(\n",
            "/usr/local/lib/python3.10/dist-packages/cudf/core/column/numerical.py:730: RuntimeWarning: invalid value encountered in cast\n",
            "  col_to_normalize_casted = np.array(col_to_normalize[0]).astype(\n",
            "/usr/local/lib/python3.10/dist-packages/cudf/core/column/numerical.py:730: RuntimeWarning: invalid value encountered in cast\n",
            "  col_to_normalize_casted = np.array(col_to_normalize[0]).astype(\n",
            "/usr/local/lib/python3.10/dist-packages/cudf/core/column/numerical.py:730: RuntimeWarning: invalid value encountered in cast\n",
            "  col_to_normalize_casted = np.array(col_to_normalize[0]).astype(\n",
            "/usr/local/lib/python3.10/dist-packages/cudf/core/column/numerical.py:730: RuntimeWarning: invalid value encountered in cast\n",
            "  col_to_normalize_casted = np.array(col_to_normalize[0]).astype(\n",
            "/usr/local/lib/python3.10/dist-packages/cudf/core/column/numerical.py:730: RuntimeWarning: invalid value encountered in cast\n",
            "  col_to_normalize_casted = np.array(col_to_normalize[0]).astype(\n",
            "/usr/local/lib/python3.10/dist-packages/cudf/core/column/numerical.py:730: RuntimeWarning: invalid value encountered in cast\n",
            "  col_to_normalize_casted = np.array(col_to_normalize[0]).astype(\n",
            "/usr/local/lib/python3.10/dist-packages/cudf/core/column/numerical.py:730: RuntimeWarning: invalid value encountered in cast\n",
            "  col_to_normalize_casted = np.array(col_to_normalize[0]).astype(\n",
            "/usr/local/lib/python3.10/dist-packages/cudf/core/column/numerical.py:730: RuntimeWarning: invalid value encountered in cast\n",
            "  col_to_normalize_casted = np.array(col_to_normalize[0]).astype(\n",
            "/usr/local/lib/python3.10/dist-packages/cudf/core/column/numerical.py:730: RuntimeWarning: invalid value encountered in cast\n",
            "  col_to_normalize_casted = np.array(col_to_normalize[0]).astype(\n",
            "/usr/local/lib/python3.10/dist-packages/cudf/core/column/numerical.py:730: RuntimeWarning: invalid value encountered in cast\n",
            "  col_to_normalize_casted = np.array(col_to_normalize[0]).astype(\n",
            "/usr/local/lib/python3.10/dist-packages/cudf/core/column/numerical.py:730: RuntimeWarning: invalid value encountered in cast\n",
            "  col_to_normalize_casted = np.array(col_to_normalize[0]).astype(\n",
            "/usr/local/lib/python3.10/dist-packages/cudf/core/column/numerical.py:730: RuntimeWarning: invalid value encountered in cast\n",
            "  col_to_normalize_casted = np.array(col_to_normalize[0]).astype(\n",
            "/usr/local/lib/python3.10/dist-packages/cudf/core/column/numerical.py:730: RuntimeWarning: invalid value encountered in cast\n",
            "  col_to_normalize_casted = np.array(col_to_normalize[0]).astype(\n",
            "/usr/local/lib/python3.10/dist-packages/cudf/core/column/numerical.py:730: RuntimeWarning: invalid value encountered in cast\n",
            "  col_to_normalize_casted = np.array(col_to_normalize[0]).astype(\n",
            "/usr/local/lib/python3.10/dist-packages/cudf/core/column/numerical.py:730: RuntimeWarning: invalid value encountered in cast\n",
            "  col_to_normalize_casted = np.array(col_to_normalize[0]).astype(\n",
            "/usr/local/lib/python3.10/dist-packages/cudf/core/column/numerical.py:730: RuntimeWarning: invalid value encountered in cast\n",
            "  col_to_normalize_casted = np.array(col_to_normalize[0]).astype(\n",
            "/usr/local/lib/python3.10/dist-packages/cudf/core/column/numerical.py:730: RuntimeWarning: invalid value encountered in cast\n",
            "  col_to_normalize_casted = np.array(col_to_normalize[0]).astype(\n",
            "/usr/local/lib/python3.10/dist-packages/cudf/core/column/numerical.py:730: RuntimeWarning: invalid value encountered in cast\n",
            "  col_to_normalize_casted = np.array(col_to_normalize[0]).astype(\n",
            "/usr/local/lib/python3.10/dist-packages/cudf/core/column/numerical.py:730: RuntimeWarning: invalid value encountered in cast\n",
            "  col_to_normalize_casted = np.array(col_to_normalize[0]).astype(\n",
            "/usr/local/lib/python3.10/dist-packages/cudf/core/column/numerical.py:730: RuntimeWarning: invalid value encountered in cast\n",
            "  col_to_normalize_casted = np.array(col_to_normalize[0]).astype(\n",
            "/usr/local/lib/python3.10/dist-packages/cudf/core/column/numerical.py:730: RuntimeWarning: invalid value encountered in cast\n",
            "  col_to_normalize_casted = np.array(col_to_normalize[0]).astype(\n",
            "/usr/local/lib/python3.10/dist-packages/cudf/core/column/numerical.py:730: RuntimeWarning: invalid value encountered in cast\n",
            "  col_to_normalize_casted = np.array(col_to_normalize[0]).astype(\n",
            "/usr/local/lib/python3.10/dist-packages/cudf/core/column/numerical.py:730: RuntimeWarning: invalid value encountered in cast\n",
            "  col_to_normalize_casted = np.array(col_to_normalize[0]).astype(\n",
            "/usr/local/lib/python3.10/dist-packages/cudf/core/column/numerical.py:730: RuntimeWarning: invalid value encountered in cast\n",
            "  col_to_normalize_casted = np.array(col_to_normalize[0]).astype(\n",
            "/usr/local/lib/python3.10/dist-packages/cudf/core/column/numerical.py:730: RuntimeWarning: invalid value encountered in cast\n",
            "  col_to_normalize_casted = np.array(col_to_normalize[0]).astype(\n",
            "/usr/local/lib/python3.10/dist-packages/cudf/core/column/numerical.py:730: RuntimeWarning: invalid value encountered in cast\n",
            "  col_to_normalize_casted = np.array(col_to_normalize[0]).astype(\n",
            "/usr/local/lib/python3.10/dist-packages/cudf/core/column/numerical.py:730: RuntimeWarning: invalid value encountered in cast\n",
            "  col_to_normalize_casted = np.array(col_to_normalize[0]).astype(\n",
            "/usr/local/lib/python3.10/dist-packages/cudf/core/column/numerical.py:730: RuntimeWarning: invalid value encountered in cast\n",
            "  col_to_normalize_casted = np.array(col_to_normalize[0]).astype(\n",
            "/usr/local/lib/python3.10/dist-packages/cudf/core/column/numerical.py:730: RuntimeWarning: invalid value encountered in cast\n",
            "  col_to_normalize_casted = np.array(col_to_normalize[0]).astype(\n",
            "/usr/local/lib/python3.10/dist-packages/cudf/core/column/numerical.py:730: RuntimeWarning: invalid value encountered in cast\n",
            "  col_to_normalize_casted = np.array(col_to_normalize[0]).astype(\n",
            "/usr/local/lib/python3.10/dist-packages/cudf/core/column/numerical.py:730: RuntimeWarning: invalid value encountered in cast\n",
            "  col_to_normalize_casted = np.array(col_to_normalize[0]).astype(\n",
            "/usr/local/lib/python3.10/dist-packages/cudf/core/column/numerical.py:730: RuntimeWarning: invalid value encountered in cast\n",
            "  col_to_normalize_casted = np.array(col_to_normalize[0]).astype(\n",
            "/usr/local/lib/python3.10/dist-packages/cudf/core/column/numerical.py:730: RuntimeWarning: invalid value encountered in cast\n",
            "  col_to_normalize_casted = np.array(col_to_normalize[0]).astype(\n",
            "/usr/local/lib/python3.10/dist-packages/cudf/core/column/numerical.py:730: RuntimeWarning: invalid value encountered in cast\n",
            "  col_to_normalize_casted = np.array(col_to_normalize[0]).astype(\n",
            "/usr/local/lib/python3.10/dist-packages/cudf/core/column/numerical.py:730: RuntimeWarning: invalid value encountered in cast\n",
            "  col_to_normalize_casted = np.array(col_to_normalize[0]).astype(\n",
            "/usr/local/lib/python3.10/dist-packages/cudf/core/column/numerical.py:730: RuntimeWarning: invalid value encountered in cast\n",
            "  col_to_normalize_casted = np.array(col_to_normalize[0]).astype(\n",
            "/usr/local/lib/python3.10/dist-packages/cudf/core/column/numerical.py:730: RuntimeWarning: invalid value encountered in cast\n",
            "  col_to_normalize_casted = np.array(col_to_normalize[0]).astype(\n",
            "/usr/local/lib/python3.10/dist-packages/cudf/core/column/numerical.py:730: RuntimeWarning: invalid value encountered in cast\n",
            "  col_to_normalize_casted = np.array(col_to_normalize[0]).astype(\n",
            "/usr/local/lib/python3.10/dist-packages/cudf/core/column/numerical.py:730: RuntimeWarning: invalid value encountered in cast\n",
            "  col_to_normalize_casted = np.array(col_to_normalize[0]).astype(\n",
            "/usr/local/lib/python3.10/dist-packages/cudf/core/column/numerical.py:730: RuntimeWarning: invalid value encountered in cast\n",
            "  col_to_normalize_casted = np.array(col_to_normalize[0]).astype(\n",
            "/usr/local/lib/python3.10/dist-packages/cudf/core/column/numerical.py:730: RuntimeWarning: invalid value encountered in cast\n",
            "  col_to_normalize_casted = np.array(col_to_normalize[0]).astype(\n",
            "/usr/local/lib/python3.10/dist-packages/cudf/core/column/numerical.py:730: RuntimeWarning: invalid value encountered in cast\n",
            "  col_to_normalize_casted = np.array(col_to_normalize[0]).astype(\n",
            "/usr/local/lib/python3.10/dist-packages/cudf/core/column/numerical.py:730: RuntimeWarning: invalid value encountered in cast\n",
            "  col_to_normalize_casted = np.array(col_to_normalize[0]).astype(\n",
            "/usr/local/lib/python3.10/dist-packages/cudf/core/column/numerical.py:730: RuntimeWarning: invalid value encountered in cast\n",
            "  col_to_normalize_casted = np.array(col_to_normalize[0]).astype(\n",
            "/usr/local/lib/python3.10/dist-packages/cudf/core/column/numerical.py:730: RuntimeWarning: invalid value encountered in cast\n",
            "  col_to_normalize_casted = np.array(col_to_normalize[0]).astype(\n",
            "/usr/local/lib/python3.10/dist-packages/cudf/core/column/numerical.py:730: RuntimeWarning: invalid value encountered in cast\n",
            "  col_to_normalize_casted = np.array(col_to_normalize[0]).astype(\n",
            "/usr/local/lib/python3.10/dist-packages/cudf/core/column/numerical.py:730: RuntimeWarning: invalid value encountered in cast\n",
            "  col_to_normalize_casted = np.array(col_to_normalize[0]).astype(\n",
            "/usr/local/lib/python3.10/dist-packages/cudf/core/column/numerical.py:730: RuntimeWarning: invalid value encountered in cast\n",
            "  col_to_normalize_casted = np.array(col_to_normalize[0]).astype(\n",
            "/usr/local/lib/python3.10/dist-packages/cudf/core/column/numerical.py:730: RuntimeWarning: invalid value encountered in cast\n",
            "  col_to_normalize_casted = np.array(col_to_normalize[0]).astype(\n",
            "/usr/local/lib/python3.10/dist-packages/cudf/core/column/numerical.py:730: RuntimeWarning: invalid value encountered in cast\n",
            "  col_to_normalize_casted = np.array(col_to_normalize[0]).astype(\n",
            "/usr/local/lib/python3.10/dist-packages/cudf/core/column/numerical.py:730: RuntimeWarning: invalid value encountered in cast\n",
            "  col_to_normalize_casted = np.array(col_to_normalize[0]).astype(\n",
            "/usr/local/lib/python3.10/dist-packages/cudf/core/column/numerical.py:730: RuntimeWarning: invalid value encountered in cast\n",
            "  col_to_normalize_casted = np.array(col_to_normalize[0]).astype(\n",
            "/usr/local/lib/python3.10/dist-packages/cudf/core/column/numerical.py:730: RuntimeWarning: invalid value encountered in cast\n",
            "  col_to_normalize_casted = np.array(col_to_normalize[0]).astype(\n",
            "/usr/local/lib/python3.10/dist-packages/cudf/core/column/numerical.py:730: RuntimeWarning: invalid value encountered in cast\n",
            "  col_to_normalize_casted = np.array(col_to_normalize[0]).astype(\n",
            "/usr/local/lib/python3.10/dist-packages/cudf/core/column/numerical.py:730: RuntimeWarning: invalid value encountered in cast\n",
            "  col_to_normalize_casted = np.array(col_to_normalize[0]).astype(\n",
            "/usr/local/lib/python3.10/dist-packages/cudf/core/column/numerical.py:730: RuntimeWarning: invalid value encountered in cast\n",
            "  col_to_normalize_casted = np.array(col_to_normalize[0]).astype(\n",
            "/usr/local/lib/python3.10/dist-packages/cudf/core/column/numerical.py:730: RuntimeWarning: invalid value encountered in cast\n",
            "  col_to_normalize_casted = np.array(col_to_normalize[0]).astype(\n",
            "/usr/local/lib/python3.10/dist-packages/cudf/core/column/numerical.py:730: RuntimeWarning: invalid value encountered in cast\n",
            "  col_to_normalize_casted = np.array(col_to_normalize[0]).astype(\n",
            "/usr/local/lib/python3.10/dist-packages/cudf/core/column/numerical.py:730: RuntimeWarning: invalid value encountered in cast\n",
            "  col_to_normalize_casted = np.array(col_to_normalize[0]).astype(\n",
            "/usr/local/lib/python3.10/dist-packages/cudf/core/column/numerical.py:730: RuntimeWarning: invalid value encountered in cast\n",
            "  col_to_normalize_casted = np.array(col_to_normalize[0]).astype(\n",
            "/usr/local/lib/python3.10/dist-packages/cudf/core/column/numerical.py:730: RuntimeWarning: invalid value encountered in cast\n",
            "  col_to_normalize_casted = np.array(col_to_normalize[0]).astype(\n",
            "/usr/local/lib/python3.10/dist-packages/cudf/core/column/numerical.py:730: RuntimeWarning: invalid value encountered in cast\n",
            "  col_to_normalize_casted = np.array(col_to_normalize[0]).astype(\n",
            "/usr/local/lib/python3.10/dist-packages/cudf/core/column/numerical.py:730: RuntimeWarning: invalid value encountered in cast\n",
            "  col_to_normalize_casted = np.array(col_to_normalize[0]).astype(\n",
            "/usr/local/lib/python3.10/dist-packages/cudf/core/column/numerical.py:730: RuntimeWarning: invalid value encountered in cast\n",
            "  col_to_normalize_casted = np.array(col_to_normalize[0]).astype(\n",
            "/usr/local/lib/python3.10/dist-packages/cudf/core/column/numerical.py:730: RuntimeWarning: invalid value encountered in cast\n",
            "  col_to_normalize_casted = np.array(col_to_normalize[0]).astype(\n",
            "/usr/local/lib/python3.10/dist-packages/cudf/core/column/numerical.py:730: RuntimeWarning: invalid value encountered in cast\n",
            "  col_to_normalize_casted = np.array(col_to_normalize[0]).astype(\n"
          ]
        }
      ],
      "source": [
        "# Handle missing values\n",
        "for col in train.columns:\n",
        "    if train[col].dtype in ['int64', 'float64']:\n",
        "        # Replace -1 and -999 with NaN\n",
        "        train[col] = train[col].replace([-1, -999], np.nan)\n",
        "        test[col] = test[col].replace([-1, -999], np.nan)\n",
        "\n",
        "        # Fill numeric missing values with median\n",
        "        median_value = train[col].median()\n",
        "        train[col] = train[col].fillna(median_value)\n",
        "        test[col] = test[col].fillna(median_value)\n",
        "    else:\n",
        "        # Fill categorical missing values with 'Unknown'\n",
        "        train[col] = train[col].fillna('Unknown')\n",
        "        test[col] = test[col].fillna('Unknown')\n"
      ]
    },
    {
      "cell_type": "code",
      "execution_count": 8,
      "metadata": {
        "id": "HqiLNzOo9KZl"
      },
      "outputs": [],
      "source": [
        "target = train['y']"
      ]
    },
    {
      "cell_type": "code",
      "execution_count": 9,
      "metadata": {
        "id": "986ijglV9NJi"
      },
      "outputs": [],
      "source": [
        "# Prepare numeric features\n",
        "numeric_cols = train.select_dtypes(include=['int64', 'float64']).columns\n",
        "numeric_cols = numeric_cols.drop(['id', 'y']) if 'y' in numeric_cols else numeric_cols.drop('id')\n"
      ]
    },
    {
      "cell_type": "code",
      "execution_count": 21,
      "metadata": {
        "id": "cqTiliXW9N3j",
        "colab": {
          "base_uri": "https://localhost:8080/",
          "height": 418
        },
        "outputId": "b44502b1-3ffa-45f5-df77-3fb4480326fa"
      },
      "outputs": [
        {
          "output_type": "error",
          "ename": "KeyboardInterrupt",
          "evalue": "",
          "traceback": [
            "\u001b[0;31m---------------------------------------------------------------------------\u001b[0m",
            "\u001b[0;31mTypeError\u001b[0m                                 Traceback (most recent call last)",
            "\u001b[0;32m/usr/local/lib/python3.10/dist-packages/cudf/pandas/fast_slow_proxy.py\u001b[0m in \u001b[0;36m_fast_slow_function_call\u001b[0;34m(func, *args, **kwargs)\u001b[0m\n\u001b[1;32m    927\u001b[0m             \u001b[0mfast_args\u001b[0m\u001b[0;34m,\u001b[0m \u001b[0mfast_kwargs\u001b[0m \u001b[0;34m=\u001b[0m \u001b[0m_fast_arg\u001b[0m\u001b[0;34m(\u001b[0m\u001b[0margs\u001b[0m\u001b[0;34m)\u001b[0m\u001b[0;34m,\u001b[0m \u001b[0m_fast_arg\u001b[0m\u001b[0;34m(\u001b[0m\u001b[0mkwargs\u001b[0m\u001b[0;34m)\u001b[0m\u001b[0;34m\u001b[0m\u001b[0;34m\u001b[0m\u001b[0m\n\u001b[0;32m--> 928\u001b[0;31m             \u001b[0mresult\u001b[0m \u001b[0;34m=\u001b[0m \u001b[0mfunc\u001b[0m\u001b[0;34m(\u001b[0m\u001b[0;34m*\u001b[0m\u001b[0mfast_args\u001b[0m\u001b[0;34m,\u001b[0m \u001b[0;34m**\u001b[0m\u001b[0mfast_kwargs\u001b[0m\u001b[0;34m)\u001b[0m\u001b[0;34m\u001b[0m\u001b[0;34m\u001b[0m\u001b[0m\n\u001b[0m\u001b[1;32m    929\u001b[0m             \u001b[0;32mif\u001b[0m \u001b[0mresult\u001b[0m \u001b[0;32mis\u001b[0m \u001b[0mNotImplemented\u001b[0m\u001b[0;34m:\u001b[0m\u001b[0;34m\u001b[0m\u001b[0;34m\u001b[0m\u001b[0m\n",
            "\u001b[0;32m/usr/local/lib/python3.10/dist-packages/cudf/pandas/fast_slow_proxy.py\u001b[0m in \u001b[0;36mcall_operator\u001b[0;34m(fn, args, kwargs)\u001b[0m\n\u001b[1;32m     25\u001b[0m \u001b[0;32mdef\u001b[0m \u001b[0mcall_operator\u001b[0m\u001b[0;34m(\u001b[0m\u001b[0mfn\u001b[0m\u001b[0;34m,\u001b[0m \u001b[0margs\u001b[0m\u001b[0;34m,\u001b[0m \u001b[0mkwargs\u001b[0m\u001b[0;34m)\u001b[0m\u001b[0;34m:\u001b[0m\u001b[0;34m\u001b[0m\u001b[0;34m\u001b[0m\u001b[0m\n\u001b[0;32m---> 26\u001b[0;31m     \u001b[0;32mreturn\u001b[0m \u001b[0mfn\u001b[0m\u001b[0;34m(\u001b[0m\u001b[0;34m*\u001b[0m\u001b[0margs\u001b[0m\u001b[0;34m,\u001b[0m \u001b[0;34m**\u001b[0m\u001b[0mkwargs\u001b[0m\u001b[0;34m)\u001b[0m\u001b[0;34m\u001b[0m\u001b[0;34m\u001b[0m\u001b[0m\n\u001b[0m\u001b[1;32m     27\u001b[0m \u001b[0;34m\u001b[0m\u001b[0m\n",
            "\u001b[0;32m/usr/local/lib/python3.10/dist-packages/cudf/utils/performance_tracking.py\u001b[0m in \u001b[0;36mwrapper\u001b[0;34m(*args, **kwargs)\u001b[0m\n\u001b[1;32m     50\u001b[0m                 )\n\u001b[0;32m---> 51\u001b[0;31m             \u001b[0;32mreturn\u001b[0m \u001b[0mfunc\u001b[0m\u001b[0;34m(\u001b[0m\u001b[0;34m*\u001b[0m\u001b[0margs\u001b[0m\u001b[0;34m,\u001b[0m \u001b[0;34m**\u001b[0m\u001b[0mkwargs\u001b[0m\u001b[0;34m)\u001b[0m\u001b[0;34m\u001b[0m\u001b[0;34m\u001b[0m\u001b[0m\n\u001b[0m\u001b[1;32m     52\u001b[0m \u001b[0;34m\u001b[0m\u001b[0m\n",
            "\u001b[0;32m/usr/local/lib/python3.10/dist-packages/cudf/core/dataframe.py\u001b[0m in \u001b[0;36m__getitem__\u001b[0;34m(self, arg)\u001b[0m\n\u001b[1;32m   1368\u001b[0m             \u001b[0;32melse\u001b[0m\u001b[0;34m:\u001b[0m\u001b[0;34m\u001b[0m\u001b[0;34m\u001b[0m\u001b[0m\n\u001b[0;32m-> 1369\u001b[0;31m                 \u001b[0;32mreturn\u001b[0m \u001b[0mself\u001b[0m\u001b[0;34m.\u001b[0m\u001b[0m_get_columns_by_label\u001b[0m\u001b[0;34m(\u001b[0m\u001b[0mmask\u001b[0m\u001b[0;34m)\u001b[0m\u001b[0;34m\u001b[0m\u001b[0;34m\u001b[0m\u001b[0m\n\u001b[0m\u001b[1;32m   1370\u001b[0m         \u001b[0;32melif\u001b[0m \u001b[0misinstance\u001b[0m\u001b[0;34m(\u001b[0m\u001b[0marg\u001b[0m\u001b[0;34m,\u001b[0m \u001b[0mDataFrame\u001b[0m\u001b[0;34m)\u001b[0m\u001b[0;34m:\u001b[0m\u001b[0;34m\u001b[0m\u001b[0;34m\u001b[0m\u001b[0m\n",
            "\u001b[0;32m/usr/local/lib/python3.10/dist-packages/cudf/utils/performance_tracking.py\u001b[0m in \u001b[0;36mwrapper\u001b[0;34m(*args, **kwargs)\u001b[0m\n\u001b[1;32m     50\u001b[0m                 )\n\u001b[0;32m---> 51\u001b[0;31m             \u001b[0;32mreturn\u001b[0m \u001b[0mfunc\u001b[0m\u001b[0;34m(\u001b[0m\u001b[0;34m*\u001b[0m\u001b[0margs\u001b[0m\u001b[0;34m,\u001b[0m \u001b[0;34m**\u001b[0m\u001b[0mkwargs\u001b[0m\u001b[0;34m)\u001b[0m\u001b[0;34m\u001b[0m\u001b[0;34m\u001b[0m\u001b[0m\n\u001b[0m\u001b[1;32m     52\u001b[0m \u001b[0;34m\u001b[0m\u001b[0m\n",
            "\u001b[0;32m/usr/local/lib/python3.10/dist-packages/cudf/core/frame.py\u001b[0m in \u001b[0;36m_get_columns_by_label\u001b[0;34m(self, labels)\u001b[0m\n\u001b[1;32m    357\u001b[0m         \"\"\"\n\u001b[0;32m--> 358\u001b[0;31m         \u001b[0;32mreturn\u001b[0m \u001b[0mself\u001b[0m\u001b[0;34m.\u001b[0m\u001b[0m_from_data_like_self\u001b[0m\u001b[0;34m(\u001b[0m\u001b[0mself\u001b[0m\u001b[0;34m.\u001b[0m\u001b[0m_data\u001b[0m\u001b[0;34m.\u001b[0m\u001b[0mselect_by_label\u001b[0m\u001b[0;34m(\u001b[0m\u001b[0mlabels\u001b[0m\u001b[0;34m)\u001b[0m\u001b[0;34m)\u001b[0m\u001b[0;34m\u001b[0m\u001b[0;34m\u001b[0m\u001b[0m\n\u001b[0m\u001b[1;32m    359\u001b[0m \u001b[0;34m\u001b[0m\u001b[0m\n",
            "\u001b[0;32m/usr/local/lib/python3.10/dist-packages/cudf/core/column_accessor.py\u001b[0m in \u001b[0;36mselect_by_label\u001b[0;34m(self, key)\u001b[0m\n\u001b[1;32m    395\u001b[0m         \u001b[0;32melif\u001b[0m \u001b[0mpd\u001b[0m\u001b[0;34m.\u001b[0m\u001b[0mapi\u001b[0m\u001b[0;34m.\u001b[0m\u001b[0mtypes\u001b[0m\u001b[0;34m.\u001b[0m\u001b[0mis_list_like\u001b[0m\u001b[0;34m(\u001b[0m\u001b[0mkey\u001b[0m\u001b[0;34m)\u001b[0m \u001b[0;32mand\u001b[0m \u001b[0;32mnot\u001b[0m \u001b[0misinstance\u001b[0m\u001b[0;34m(\u001b[0m\u001b[0mkey\u001b[0m\u001b[0;34m,\u001b[0m \u001b[0mtuple\u001b[0m\u001b[0;34m)\u001b[0m\u001b[0;34m:\u001b[0m\u001b[0;34m\u001b[0m\u001b[0;34m\u001b[0m\u001b[0m\n\u001b[0;32m--> 396\u001b[0;31m             \u001b[0;32mreturn\u001b[0m \u001b[0mself\u001b[0m\u001b[0;34m.\u001b[0m\u001b[0m_select_by_label_list_like\u001b[0m\u001b[0;34m(\u001b[0m\u001b[0mtuple\u001b[0m\u001b[0;34m(\u001b[0m\u001b[0mkey\u001b[0m\u001b[0;34m)\u001b[0m\u001b[0;34m)\u001b[0m\u001b[0;34m\u001b[0m\u001b[0;34m\u001b[0m\u001b[0m\n\u001b[0m\u001b[1;32m    397\u001b[0m         \u001b[0;32melse\u001b[0m\u001b[0;34m:\u001b[0m\u001b[0;34m\u001b[0m\u001b[0;34m\u001b[0m\u001b[0m\n",
            "\u001b[0;32m/usr/local/lib/python3.10/dist-packages/cudf/utils/utils.py\u001b[0m in \u001b[0;36m__iter__\u001b[0;34m(self)\u001b[0m\n\u001b[1;32m    242\u001b[0m         \"\"\"\n\u001b[0;32m--> 243\u001b[0;31m         raise TypeError(\n\u001b[0m\u001b[1;32m    244\u001b[0m             \u001b[0;34mf\"{self.__class__.__name__} object is not iterable. \"\u001b[0m\u001b[0;34m\u001b[0m\u001b[0;34m\u001b[0m\u001b[0m\n",
            "\u001b[0;31mTypeError\u001b[0m: Index object is not iterable. Consider using `.to_arrow()`, `.to_pandas()` or `.values_host` if you wish to iterate over the values.",
            "\nDuring handling of the above exception, another exception occurred:\n",
            "\u001b[0;31mKeyboardInterrupt\u001b[0m                         Traceback (most recent call last)",
            "\u001b[0;32m<ipython-input-21-452ee44a9564>\u001b[0m in \u001b[0;36m<cell line: 3>\u001b[0;34m()\u001b[0m\n\u001b[1;32m      1\u001b[0m \u001b[0;31m# Usage in main code:\u001b[0m\u001b[0;34m\u001b[0m\u001b[0;34m\u001b[0m\u001b[0m\n\u001b[1;32m      2\u001b[0m \u001b[0;31m# First, get the most important features for binning\u001b[0m\u001b[0;34m\u001b[0m\u001b[0;34m\u001b[0m\u001b[0m\n\u001b[0;32m----> 3\u001b[0;31m \u001b[0mimportant_numeric_features\u001b[0m \u001b[0;34m=\u001b[0m \u001b[0mget_important_numeric_features\u001b[0m\u001b[0;34m(\u001b[0m\u001b[0mtrain\u001b[0m\u001b[0;34m,\u001b[0m \u001b[0mtarget\u001b[0m\u001b[0;34m)\u001b[0m\u001b[0;34m\u001b[0m\u001b[0;34m\u001b[0m\u001b[0m\n\u001b[0m\u001b[1;32m      4\u001b[0m \u001b[0;34m\u001b[0m\u001b[0m\n\u001b[1;32m      5\u001b[0m \u001b[0;31m# Then create bins only for important features\u001b[0m\u001b[0;34m\u001b[0m\u001b[0;34m\u001b[0m\u001b[0m\n",
            "\u001b[0;32m<ipython-input-4-61fada5cd623>\u001b[0m in \u001b[0;36mget_important_numeric_features\u001b[0;34m(df, target, n_features)\u001b[0m\n\u001b[1;32m     11\u001b[0m \u001b[0;34m\u001b[0m\u001b[0m\n\u001b[1;32m     12\u001b[0m     \u001b[0;31m# Calculate correlations\u001b[0m\u001b[0;34m\u001b[0m\u001b[0;34m\u001b[0m\u001b[0m\n\u001b[0;32m---> 13\u001b[0;31m     \u001b[0mcorrelations\u001b[0m \u001b[0;34m=\u001b[0m \u001b[0mnp\u001b[0m\u001b[0;34m.\u001b[0m\u001b[0mabs\u001b[0m\u001b[0;34m(\u001b[0m\u001b[0mdf\u001b[0m\u001b[0;34m[\u001b[0m\u001b[0mnumeric_cols\u001b[0m\u001b[0;34m]\u001b[0m\u001b[0;34m.\u001b[0m\u001b[0mcorrwith\u001b[0m\u001b[0;34m(\u001b[0m\u001b[0mtarget\u001b[0m\u001b[0;34m)\u001b[0m\u001b[0;34m)\u001b[0m\u001b[0;34m\u001b[0m\u001b[0;34m\u001b[0m\u001b[0m\n\u001b[0m\u001b[1;32m     14\u001b[0m \u001b[0;34m\u001b[0m\u001b[0m\n\u001b[1;32m     15\u001b[0m     \u001b[0;31m# Get top n_features\u001b[0m\u001b[0;34m\u001b[0m\u001b[0;34m\u001b[0m\u001b[0m\n",
            "\u001b[0;32m/usr/local/lib/python3.10/dist-packages/cudf/pandas/fast_slow_proxy.py\u001b[0m in \u001b[0;36m__call__\u001b[0;34m(self, *args, **kwargs)\u001b[0m\n\u001b[1;32m    695\u001b[0m \u001b[0;34m\u001b[0m\u001b[0m\n\u001b[1;32m    696\u001b[0m     \u001b[0;32mdef\u001b[0m \u001b[0m__call__\u001b[0m\u001b[0;34m(\u001b[0m\u001b[0mself\u001b[0m\u001b[0;34m,\u001b[0m \u001b[0;34m*\u001b[0m\u001b[0margs\u001b[0m\u001b[0;34m,\u001b[0m \u001b[0;34m**\u001b[0m\u001b[0mkwargs\u001b[0m\u001b[0;34m)\u001b[0m \u001b[0;34m->\u001b[0m \u001b[0mAny\u001b[0m\u001b[0;34m:\u001b[0m\u001b[0;34m\u001b[0m\u001b[0;34m\u001b[0m\u001b[0m\n\u001b[0;32m--> 697\u001b[0;31m         result, _ = _fast_slow_function_call(\n\u001b[0m\u001b[1;32m    698\u001b[0m             \u001b[0;31m# We cannot directly call self here because we need it to be\u001b[0m\u001b[0;34m\u001b[0m\u001b[0;34m\u001b[0m\u001b[0m\n\u001b[1;32m    699\u001b[0m             \u001b[0;31m# converted into either the fast or slow object (by\u001b[0m\u001b[0;34m\u001b[0m\u001b[0;34m\u001b[0m\u001b[0m\n",
            "\u001b[0;32m/usr/local/lib/python3.10/dist-packages/cudf/pandas/fast_slow_proxy.py\u001b[0m in \u001b[0;36m_fast_slow_function_call\u001b[0;34m(func, *args, **kwargs)\u001b[0m\n\u001b[1;32m    973\u001b[0m             \u001b[0mdomain\u001b[0m\u001b[0;34m=\u001b[0m\u001b[0;34m\"cudf_pandas\"\u001b[0m\u001b[0;34m,\u001b[0m\u001b[0;34m\u001b[0m\u001b[0;34m\u001b[0m\u001b[0m\n\u001b[1;32m    974\u001b[0m         ):\n\u001b[0;32m--> 975\u001b[0;31m             \u001b[0mslow_args\u001b[0m\u001b[0;34m,\u001b[0m \u001b[0mslow_kwargs\u001b[0m \u001b[0;34m=\u001b[0m \u001b[0m_slow_arg\u001b[0m\u001b[0;34m(\u001b[0m\u001b[0margs\u001b[0m\u001b[0;34m)\u001b[0m\u001b[0;34m,\u001b[0m \u001b[0m_slow_arg\u001b[0m\u001b[0;34m(\u001b[0m\u001b[0mkwargs\u001b[0m\u001b[0;34m)\u001b[0m\u001b[0;34m\u001b[0m\u001b[0;34m\u001b[0m\u001b[0m\n\u001b[0m\u001b[1;32m    976\u001b[0m             \u001b[0;32mif\u001b[0m \u001b[0m_env_get_bool\u001b[0m\u001b[0;34m(\u001b[0m\u001b[0;34m\"LOG_FAST_FALLBACK\"\u001b[0m\u001b[0;34m,\u001b[0m \u001b[0;32mFalse\u001b[0m\u001b[0;34m)\u001b[0m\u001b[0;34m:\u001b[0m\u001b[0;34m\u001b[0m\u001b[0;34m\u001b[0m\u001b[0m\n\u001b[1;32m    977\u001b[0m                 \u001b[0;32mfrom\u001b[0m \u001b[0;34m.\u001b[0m\u001b[0m_logger\u001b[0m \u001b[0;32mimport\u001b[0m \u001b[0mlog_fallback\u001b[0m\u001b[0;34m\u001b[0m\u001b[0;34m\u001b[0m\u001b[0m\n",
            "\u001b[0;32m/usr/local/lib/python3.10/dist-packages/cudf/pandas/fast_slow_proxy.py\u001b[0m in \u001b[0;36m_slow_arg\u001b[0;34m(arg)\u001b[0m\n\u001b[1;32m   1093\u001b[0m     \"\"\"\n\u001b[1;32m   1094\u001b[0m     \u001b[0mseen\u001b[0m\u001b[0;34m:\u001b[0m \u001b[0mset\u001b[0m\u001b[0;34m[\u001b[0m\u001b[0mint\u001b[0m\u001b[0;34m]\u001b[0m \u001b[0;34m=\u001b[0m \u001b[0mset\u001b[0m\u001b[0;34m(\u001b[0m\u001b[0;34m)\u001b[0m\u001b[0;34m\u001b[0m\u001b[0;34m\u001b[0m\u001b[0m\n\u001b[0;32m-> 1095\u001b[0;31m     \u001b[0;32mreturn\u001b[0m \u001b[0m_transform_arg\u001b[0m\u001b[0;34m(\u001b[0m\u001b[0marg\u001b[0m\u001b[0;34m,\u001b[0m \u001b[0;34m\"_fsproxy_slow\"\u001b[0m\u001b[0;34m,\u001b[0m \u001b[0mseen\u001b[0m\u001b[0;34m)\u001b[0m\u001b[0;34m\u001b[0m\u001b[0;34m\u001b[0m\u001b[0m\n\u001b[0m\u001b[1;32m   1096\u001b[0m \u001b[0;34m\u001b[0m\u001b[0m\n\u001b[1;32m   1097\u001b[0m \u001b[0;34m\u001b[0m\u001b[0m\n",
            "\u001b[0;32m/usr/local/lib/python3.10/dist-packages/cudf/pandas/fast_slow_proxy.py\u001b[0m in \u001b[0;36m_transform_arg\u001b[0;34m(arg, attribute_name, seen)\u001b[0m\n\u001b[1;32m   1012\u001b[0m         \u001b[0;32mif\u001b[0m \u001b[0mtype\u001b[0m\u001b[0;34m(\u001b[0m\u001b[0marg\u001b[0m\u001b[0;34m)\u001b[0m \u001b[0;32mis\u001b[0m \u001b[0mtuple\u001b[0m\u001b[0;34m:\u001b[0m\u001b[0;34m\u001b[0m\u001b[0;34m\u001b[0m\u001b[0m\n\u001b[1;32m   1013\u001b[0m             \u001b[0;31m# Must come first to avoid infinite recursion\u001b[0m\u001b[0;34m\u001b[0m\u001b[0;34m\u001b[0m\u001b[0m\n\u001b[0;32m-> 1014\u001b[0;31m             \u001b[0;32mreturn\u001b[0m \u001b[0mtuple\u001b[0m\u001b[0;34m(\u001b[0m\u001b[0m_transform_arg\u001b[0m\u001b[0;34m(\u001b[0m\u001b[0ma\u001b[0m\u001b[0;34m,\u001b[0m \u001b[0mattribute_name\u001b[0m\u001b[0;34m,\u001b[0m \u001b[0mseen\u001b[0m\u001b[0;34m)\u001b[0m \u001b[0;32mfor\u001b[0m \u001b[0ma\u001b[0m \u001b[0;32min\u001b[0m \u001b[0marg\u001b[0m\u001b[0;34m)\u001b[0m\u001b[0;34m\u001b[0m\u001b[0;34m\u001b[0m\u001b[0m\n\u001b[0m\u001b[1;32m   1015\u001b[0m         \u001b[0;32melif\u001b[0m \u001b[0mhasattr\u001b[0m\u001b[0;34m(\u001b[0m\u001b[0marg\u001b[0m\u001b[0;34m,\u001b[0m \u001b[0;34m\"__getnewargs_ex__\"\u001b[0m\u001b[0;34m)\u001b[0m\u001b[0;34m:\u001b[0m\u001b[0;34m\u001b[0m\u001b[0;34m\u001b[0m\u001b[0m\n\u001b[1;32m   1016\u001b[0m             \u001b[0;31m# Partial implementation of to reconstruct with\u001b[0m\u001b[0;34m\u001b[0m\u001b[0;34m\u001b[0m\u001b[0m\n",
            "\u001b[0;32m/usr/local/lib/python3.10/dist-packages/cudf/pandas/fast_slow_proxy.py\u001b[0m in \u001b[0;36m<genexpr>\u001b[0;34m(.0)\u001b[0m\n\u001b[1;32m   1012\u001b[0m         \u001b[0;32mif\u001b[0m \u001b[0mtype\u001b[0m\u001b[0;34m(\u001b[0m\u001b[0marg\u001b[0m\u001b[0;34m)\u001b[0m \u001b[0;32mis\u001b[0m \u001b[0mtuple\u001b[0m\u001b[0;34m:\u001b[0m\u001b[0;34m\u001b[0m\u001b[0;34m\u001b[0m\u001b[0m\n\u001b[1;32m   1013\u001b[0m             \u001b[0;31m# Must come first to avoid infinite recursion\u001b[0m\u001b[0;34m\u001b[0m\u001b[0;34m\u001b[0m\u001b[0m\n\u001b[0;32m-> 1014\u001b[0;31m             \u001b[0;32mreturn\u001b[0m \u001b[0mtuple\u001b[0m\u001b[0;34m(\u001b[0m\u001b[0m_transform_arg\u001b[0m\u001b[0;34m(\u001b[0m\u001b[0ma\u001b[0m\u001b[0;34m,\u001b[0m \u001b[0mattribute_name\u001b[0m\u001b[0;34m,\u001b[0m \u001b[0mseen\u001b[0m\u001b[0;34m)\u001b[0m \u001b[0;32mfor\u001b[0m \u001b[0ma\u001b[0m \u001b[0;32min\u001b[0m \u001b[0marg\u001b[0m\u001b[0;34m)\u001b[0m\u001b[0;34m\u001b[0m\u001b[0;34m\u001b[0m\u001b[0m\n\u001b[0m\u001b[1;32m   1015\u001b[0m         \u001b[0;32melif\u001b[0m \u001b[0mhasattr\u001b[0m\u001b[0;34m(\u001b[0m\u001b[0marg\u001b[0m\u001b[0;34m,\u001b[0m \u001b[0;34m\"__getnewargs_ex__\"\u001b[0m\u001b[0;34m)\u001b[0m\u001b[0;34m:\u001b[0m\u001b[0;34m\u001b[0m\u001b[0;34m\u001b[0m\u001b[0m\n\u001b[1;32m   1016\u001b[0m             \u001b[0;31m# Partial implementation of to reconstruct with\u001b[0m\u001b[0;34m\u001b[0m\u001b[0;34m\u001b[0m\u001b[0m\n",
            "\u001b[0;32m/usr/local/lib/python3.10/dist-packages/cudf/pandas/fast_slow_proxy.py\u001b[0m in \u001b[0;36m_transform_arg\u001b[0;34m(arg, attribute_name, seen)\u001b[0m\n\u001b[1;32m   1012\u001b[0m         \u001b[0;32mif\u001b[0m \u001b[0mtype\u001b[0m\u001b[0;34m(\u001b[0m\u001b[0marg\u001b[0m\u001b[0;34m)\u001b[0m \u001b[0;32mis\u001b[0m \u001b[0mtuple\u001b[0m\u001b[0;34m:\u001b[0m\u001b[0;34m\u001b[0m\u001b[0;34m\u001b[0m\u001b[0m\n\u001b[1;32m   1013\u001b[0m             \u001b[0;31m# Must come first to avoid infinite recursion\u001b[0m\u001b[0;34m\u001b[0m\u001b[0;34m\u001b[0m\u001b[0m\n\u001b[0;32m-> 1014\u001b[0;31m             \u001b[0;32mreturn\u001b[0m \u001b[0mtuple\u001b[0m\u001b[0;34m(\u001b[0m\u001b[0m_transform_arg\u001b[0m\u001b[0;34m(\u001b[0m\u001b[0ma\u001b[0m\u001b[0;34m,\u001b[0m \u001b[0mattribute_name\u001b[0m\u001b[0;34m,\u001b[0m \u001b[0mseen\u001b[0m\u001b[0;34m)\u001b[0m \u001b[0;32mfor\u001b[0m \u001b[0ma\u001b[0m \u001b[0;32min\u001b[0m \u001b[0marg\u001b[0m\u001b[0;34m)\u001b[0m\u001b[0;34m\u001b[0m\u001b[0;34m\u001b[0m\u001b[0m\n\u001b[0m\u001b[1;32m   1015\u001b[0m         \u001b[0;32melif\u001b[0m \u001b[0mhasattr\u001b[0m\u001b[0;34m(\u001b[0m\u001b[0marg\u001b[0m\u001b[0;34m,\u001b[0m \u001b[0;34m\"__getnewargs_ex__\"\u001b[0m\u001b[0;34m)\u001b[0m\u001b[0;34m:\u001b[0m\u001b[0;34m\u001b[0m\u001b[0;34m\u001b[0m\u001b[0m\n\u001b[1;32m   1016\u001b[0m             \u001b[0;31m# Partial implementation of to reconstruct with\u001b[0m\u001b[0;34m\u001b[0m\u001b[0;34m\u001b[0m\u001b[0m\n",
            "\u001b[0;32m/usr/local/lib/python3.10/dist-packages/cudf/pandas/fast_slow_proxy.py\u001b[0m in \u001b[0;36m<genexpr>\u001b[0;34m(.0)\u001b[0m\n\u001b[1;32m   1012\u001b[0m         \u001b[0;32mif\u001b[0m \u001b[0mtype\u001b[0m\u001b[0;34m(\u001b[0m\u001b[0marg\u001b[0m\u001b[0;34m)\u001b[0m \u001b[0;32mis\u001b[0m \u001b[0mtuple\u001b[0m\u001b[0;34m:\u001b[0m\u001b[0;34m\u001b[0m\u001b[0;34m\u001b[0m\u001b[0m\n\u001b[1;32m   1013\u001b[0m             \u001b[0;31m# Must come first to avoid infinite recursion\u001b[0m\u001b[0;34m\u001b[0m\u001b[0;34m\u001b[0m\u001b[0m\n\u001b[0;32m-> 1014\u001b[0;31m             \u001b[0;32mreturn\u001b[0m \u001b[0mtuple\u001b[0m\u001b[0;34m(\u001b[0m\u001b[0m_transform_arg\u001b[0m\u001b[0;34m(\u001b[0m\u001b[0ma\u001b[0m\u001b[0;34m,\u001b[0m \u001b[0mattribute_name\u001b[0m\u001b[0;34m,\u001b[0m \u001b[0mseen\u001b[0m\u001b[0;34m)\u001b[0m \u001b[0;32mfor\u001b[0m \u001b[0ma\u001b[0m \u001b[0;32min\u001b[0m \u001b[0marg\u001b[0m\u001b[0;34m)\u001b[0m\u001b[0;34m\u001b[0m\u001b[0;34m\u001b[0m\u001b[0m\n\u001b[0m\u001b[1;32m   1015\u001b[0m         \u001b[0;32melif\u001b[0m \u001b[0mhasattr\u001b[0m\u001b[0;34m(\u001b[0m\u001b[0marg\u001b[0m\u001b[0;34m,\u001b[0m \u001b[0;34m\"__getnewargs_ex__\"\u001b[0m\u001b[0;34m)\u001b[0m\u001b[0;34m:\u001b[0m\u001b[0;34m\u001b[0m\u001b[0;34m\u001b[0m\u001b[0m\n\u001b[1;32m   1016\u001b[0m             \u001b[0;31m# Partial implementation of to reconstruct with\u001b[0m\u001b[0;34m\u001b[0m\u001b[0;34m\u001b[0m\u001b[0m\n",
            "\u001b[0;32m/usr/local/lib/python3.10/dist-packages/cudf/pandas/fast_slow_proxy.py\u001b[0m in \u001b[0;36m_transform_arg\u001b[0;34m(arg, attribute_name, seen)\u001b[0m\n\u001b[1;32m    995\u001b[0m \u001b[0;34m\u001b[0m\u001b[0m\n\u001b[1;32m    996\u001b[0m     \u001b[0;32mif\u001b[0m \u001b[0misinstance\u001b[0m\u001b[0;34m(\u001b[0m\u001b[0marg\u001b[0m\u001b[0;34m,\u001b[0m \u001b[0;34m(\u001b[0m\u001b[0m_FastSlowProxy\u001b[0m\u001b[0;34m,\u001b[0m \u001b[0m_FastSlowProxyMeta\u001b[0m\u001b[0;34m,\u001b[0m \u001b[0m_FunctionProxy\u001b[0m\u001b[0;34m)\u001b[0m\u001b[0;34m)\u001b[0m\u001b[0;34m:\u001b[0m\u001b[0;34m\u001b[0m\u001b[0;34m\u001b[0m\u001b[0m\n\u001b[0;32m--> 997\u001b[0;31m         \u001b[0mtyp\u001b[0m \u001b[0;34m=\u001b[0m \u001b[0mgetattr\u001b[0m\u001b[0;34m(\u001b[0m\u001b[0marg\u001b[0m\u001b[0;34m,\u001b[0m \u001b[0mattribute_name\u001b[0m\u001b[0;34m)\u001b[0m\u001b[0;34m\u001b[0m\u001b[0;34m\u001b[0m\u001b[0m\n\u001b[0m\u001b[1;32m    998\u001b[0m         \u001b[0;32mif\u001b[0m \u001b[0mtyp\u001b[0m \u001b[0;32mis\u001b[0m \u001b[0m_Unusable\u001b[0m\u001b[0;34m:\u001b[0m\u001b[0;34m\u001b[0m\u001b[0;34m\u001b[0m\u001b[0m\n\u001b[1;32m    999\u001b[0m             \u001b[0;32mraise\u001b[0m \u001b[0mException\u001b[0m\u001b[0;34m(\u001b[0m\u001b[0;34m\"Cannot transform _Unusable\"\u001b[0m\u001b[0;34m)\u001b[0m\u001b[0;34m\u001b[0m\u001b[0;34m\u001b[0m\u001b[0m\n",
            "\u001b[0;32m/usr/local/lib/python3.10/dist-packages/cudf/pandas/fast_slow_proxy.py\u001b[0m in \u001b[0;36m_fsproxy_slow\u001b[0;34m(self)\u001b[0m\n\u001b[1;32m    513\u001b[0m         \u001b[0mreturning\u001b[0m \u001b[0mit\u001b[0m\u001b[0;34m.\u001b[0m\u001b[0;34m\u001b[0m\u001b[0;34m\u001b[0m\u001b[0m\n\u001b[1;32m    514\u001b[0m         \"\"\"\n\u001b[0;32m--> 515\u001b[0;31m         \u001b[0mself\u001b[0m\u001b[0;34m.\u001b[0m\u001b[0m_fsproxy_wrapped\u001b[0m \u001b[0;34m=\u001b[0m \u001b[0mself\u001b[0m\u001b[0;34m.\u001b[0m\u001b[0m_fsproxy_fast_to_slow\u001b[0m\u001b[0;34m(\u001b[0m\u001b[0;34m)\u001b[0m\u001b[0;34m\u001b[0m\u001b[0;34m\u001b[0m\u001b[0m\n\u001b[0m\u001b[1;32m    516\u001b[0m         \u001b[0;32mreturn\u001b[0m \u001b[0mself\u001b[0m\u001b[0;34m.\u001b[0m\u001b[0m_fsproxy_wrapped\u001b[0m\u001b[0;34m\u001b[0m\u001b[0;34m\u001b[0m\u001b[0m\n\u001b[1;32m    517\u001b[0m \u001b[0;34m\u001b[0m\u001b[0m\n",
            "\u001b[0;32m/usr/local/lib/python3.10/dist-packages/nvtx/nvtx.py\u001b[0m in \u001b[0;36minner\u001b[0;34m(*args, **kwargs)\u001b[0m\n\u001b[1;32m    114\u001b[0m         \u001b[0;32mdef\u001b[0m \u001b[0minner\u001b[0m\u001b[0;34m(\u001b[0m\u001b[0;34m*\u001b[0m\u001b[0margs\u001b[0m\u001b[0;34m,\u001b[0m \u001b[0;34m**\u001b[0m\u001b[0mkwargs\u001b[0m\u001b[0;34m)\u001b[0m\u001b[0;34m:\u001b[0m\u001b[0;34m\u001b[0m\u001b[0;34m\u001b[0m\u001b[0m\n\u001b[1;32m    115\u001b[0m             \u001b[0mlibnvtx_push_range\u001b[0m\u001b[0;34m(\u001b[0m\u001b[0mself\u001b[0m\u001b[0;34m.\u001b[0m\u001b[0mattributes\u001b[0m\u001b[0;34m,\u001b[0m \u001b[0mself\u001b[0m\u001b[0;34m.\u001b[0m\u001b[0mdomain\u001b[0m\u001b[0;34m.\u001b[0m\u001b[0mhandle\u001b[0m\u001b[0;34m)\u001b[0m\u001b[0;34m\u001b[0m\u001b[0;34m\u001b[0m\u001b[0m\n\u001b[0;32m--> 116\u001b[0;31m             \u001b[0mresult\u001b[0m \u001b[0;34m=\u001b[0m \u001b[0mfunc\u001b[0m\u001b[0;34m(\u001b[0m\u001b[0;34m*\u001b[0m\u001b[0margs\u001b[0m\u001b[0;34m,\u001b[0m \u001b[0;34m**\u001b[0m\u001b[0mkwargs\u001b[0m\u001b[0;34m)\u001b[0m\u001b[0;34m\u001b[0m\u001b[0;34m\u001b[0m\u001b[0m\n\u001b[0m\u001b[1;32m    117\u001b[0m             \u001b[0mlibnvtx_pop_range\u001b[0m\u001b[0;34m(\u001b[0m\u001b[0mself\u001b[0m\u001b[0;34m.\u001b[0m\u001b[0mdomain\u001b[0m\u001b[0;34m.\u001b[0m\u001b[0mhandle\u001b[0m\u001b[0;34m)\u001b[0m\u001b[0;34m\u001b[0m\u001b[0;34m\u001b[0m\u001b[0m\n\u001b[1;32m    118\u001b[0m             \u001b[0;32mreturn\u001b[0m \u001b[0mresult\u001b[0m\u001b[0;34m\u001b[0m\u001b[0;34m\u001b[0m\u001b[0m\n",
            "\u001b[0;32m/usr/local/lib/python3.10/dist-packages/cudf/pandas/fast_slow_proxy.py\u001b[0m in \u001b[0;36m_fsproxy_fast_to_slow\u001b[0;34m(self)\u001b[0m\n\u001b[1;32m    186\u001b[0m         \u001b[0;31m# convert it to a slow one\u001b[0m\u001b[0;34m\u001b[0m\u001b[0;34m\u001b[0m\u001b[0m\n\u001b[1;32m    187\u001b[0m         \u001b[0;32mif\u001b[0m \u001b[0mself\u001b[0m\u001b[0;34m.\u001b[0m\u001b[0m_fsproxy_state\u001b[0m \u001b[0;32mis\u001b[0m \u001b[0m_State\u001b[0m\u001b[0;34m.\u001b[0m\u001b[0mFAST\u001b[0m\u001b[0;34m:\u001b[0m\u001b[0;34m\u001b[0m\u001b[0;34m\u001b[0m\u001b[0m\n\u001b[0;32m--> 188\u001b[0;31m             \u001b[0;32mreturn\u001b[0m \u001b[0mfast_to_slow\u001b[0m\u001b[0;34m(\u001b[0m\u001b[0mself\u001b[0m\u001b[0;34m.\u001b[0m\u001b[0m_fsproxy_wrapped\u001b[0m\u001b[0;34m)\u001b[0m\u001b[0;34m\u001b[0m\u001b[0;34m\u001b[0m\u001b[0m\n\u001b[0m\u001b[1;32m    189\u001b[0m         \u001b[0;32mreturn\u001b[0m \u001b[0mself\u001b[0m\u001b[0;34m.\u001b[0m\u001b[0m_fsproxy_wrapped\u001b[0m\u001b[0;34m\u001b[0m\u001b[0;34m\u001b[0m\u001b[0m\n\u001b[1;32m    190\u001b[0m \u001b[0;34m\u001b[0m\u001b[0m\n",
            "\u001b[0;32m/usr/local/lib/python3.10/dist-packages/cudf/pandas/_wrappers/pandas.py\u001b[0m in \u001b[0;36m<lambda>\u001b[0;34m(fast)\u001b[0m\n\u001b[1;32m    225\u001b[0m     \u001b[0mcudf\u001b[0m\u001b[0;34m.\u001b[0m\u001b[0mDataFrame\u001b[0m\u001b[0;34m,\u001b[0m\u001b[0;34m\u001b[0m\u001b[0;34m\u001b[0m\u001b[0m\n\u001b[1;32m    226\u001b[0m     \u001b[0mpd\u001b[0m\u001b[0;34m.\u001b[0m\u001b[0mDataFrame\u001b[0m\u001b[0;34m,\u001b[0m\u001b[0;34m\u001b[0m\u001b[0;34m\u001b[0m\u001b[0m\n\u001b[0;32m--> 227\u001b[0;31m     \u001b[0mfast_to_slow\u001b[0m\u001b[0;34m=\u001b[0m\u001b[0;32mlambda\u001b[0m \u001b[0mfast\u001b[0m\u001b[0;34m:\u001b[0m \u001b[0mfast\u001b[0m\u001b[0;34m.\u001b[0m\u001b[0mto_pandas\u001b[0m\u001b[0;34m(\u001b[0m\u001b[0;34m)\u001b[0m\u001b[0;34m,\u001b[0m\u001b[0;34m\u001b[0m\u001b[0;34m\u001b[0m\u001b[0m\n\u001b[0m\u001b[1;32m    228\u001b[0m     \u001b[0mslow_to_fast\u001b[0m\u001b[0;34m=\u001b[0m\u001b[0mcudf\u001b[0m\u001b[0;34m.\u001b[0m\u001b[0mfrom_pandas\u001b[0m\u001b[0;34m,\u001b[0m\u001b[0;34m\u001b[0m\u001b[0;34m\u001b[0m\u001b[0m\n\u001b[1;32m    229\u001b[0m     additional_attributes={\n",
            "\u001b[0;32m/usr/local/lib/python3.10/dist-packages/cudf/utils/performance_tracking.py\u001b[0m in \u001b[0;36mwrapper\u001b[0;34m(*args, **kwargs)\u001b[0m\n\u001b[1;32m     49\u001b[0m                     )\n\u001b[1;32m     50\u001b[0m                 )\n\u001b[0;32m---> 51\u001b[0;31m             \u001b[0;32mreturn\u001b[0m \u001b[0mfunc\u001b[0m\u001b[0;34m(\u001b[0m\u001b[0;34m*\u001b[0m\u001b[0margs\u001b[0m\u001b[0;34m,\u001b[0m \u001b[0;34m**\u001b[0m\u001b[0mkwargs\u001b[0m\u001b[0;34m)\u001b[0m\u001b[0;34m\u001b[0m\u001b[0;34m\u001b[0m\u001b[0m\n\u001b[0m\u001b[1;32m     52\u001b[0m \u001b[0;34m\u001b[0m\u001b[0m\n\u001b[1;32m     53\u001b[0m     \u001b[0;32mreturn\u001b[0m \u001b[0mwrapper\u001b[0m\u001b[0;34m\u001b[0m\u001b[0;34m\u001b[0m\u001b[0m\n",
            "\u001b[0;32m/usr/local/lib/python3.10/dist-packages/cudf/core/dataframe.py\u001b[0m in \u001b[0;36mto_pandas\u001b[0;34m(self, nullable, arrow_type)\u001b[0m\n\u001b[1;32m   5446\u001b[0m         }\n\u001b[1;32m   5447\u001b[0m \u001b[0;34m\u001b[0m\u001b[0m\n\u001b[0;32m-> 5448\u001b[0;31m         \u001b[0mout_df\u001b[0m \u001b[0;34m=\u001b[0m \u001b[0mpd\u001b[0m\u001b[0;34m.\u001b[0m\u001b[0mDataFrame\u001b[0m\u001b[0;34m(\u001b[0m\u001b[0mout_data\u001b[0m\u001b[0;34m,\u001b[0m \u001b[0mindex\u001b[0m\u001b[0;34m=\u001b[0m\u001b[0mout_index\u001b[0m\u001b[0;34m)\u001b[0m\u001b[0;34m\u001b[0m\u001b[0;34m\u001b[0m\u001b[0m\n\u001b[0m\u001b[1;32m   5449\u001b[0m         \u001b[0mout_df\u001b[0m\u001b[0;34m.\u001b[0m\u001b[0mcolumns\u001b[0m \u001b[0;34m=\u001b[0m \u001b[0mself\u001b[0m\u001b[0;34m.\u001b[0m\u001b[0m_data\u001b[0m\u001b[0;34m.\u001b[0m\u001b[0mto_pandas_index\u001b[0m\u001b[0;34m(\u001b[0m\u001b[0;34m)\u001b[0m\u001b[0;34m\u001b[0m\u001b[0;34m\u001b[0m\u001b[0m\n\u001b[1;32m   5450\u001b[0m \u001b[0;34m\u001b[0m\u001b[0m\n",
            "\u001b[0;32m/usr/local/lib/python3.10/dist-packages/pandas/core/frame.py\u001b[0m in \u001b[0;36m__init__\u001b[0;34m(self, data, index, columns, dtype, copy)\u001b[0m\n\u001b[1;32m    776\u001b[0m         \u001b[0;32melif\u001b[0m \u001b[0misinstance\u001b[0m\u001b[0;34m(\u001b[0m\u001b[0mdata\u001b[0m\u001b[0;34m,\u001b[0m \u001b[0mdict\u001b[0m\u001b[0;34m)\u001b[0m\u001b[0;34m:\u001b[0m\u001b[0;34m\u001b[0m\u001b[0;34m\u001b[0m\u001b[0m\n\u001b[1;32m    777\u001b[0m             \u001b[0;31m# GH#38939 de facto copy defaults to False only in non-dict cases\u001b[0m\u001b[0;34m\u001b[0m\u001b[0;34m\u001b[0m\u001b[0m\n\u001b[0;32m--> 778\u001b[0;31m             \u001b[0mmgr\u001b[0m \u001b[0;34m=\u001b[0m \u001b[0mdict_to_mgr\u001b[0m\u001b[0;34m(\u001b[0m\u001b[0mdata\u001b[0m\u001b[0;34m,\u001b[0m \u001b[0mindex\u001b[0m\u001b[0;34m,\u001b[0m \u001b[0mcolumns\u001b[0m\u001b[0;34m,\u001b[0m \u001b[0mdtype\u001b[0m\u001b[0;34m=\u001b[0m\u001b[0mdtype\u001b[0m\u001b[0;34m,\u001b[0m \u001b[0mcopy\u001b[0m\u001b[0;34m=\u001b[0m\u001b[0mcopy\u001b[0m\u001b[0;34m,\u001b[0m \u001b[0mtyp\u001b[0m\u001b[0;34m=\u001b[0m\u001b[0mmanager\u001b[0m\u001b[0;34m)\u001b[0m\u001b[0;34m\u001b[0m\u001b[0;34m\u001b[0m\u001b[0m\n\u001b[0m\u001b[1;32m    779\u001b[0m         \u001b[0;32melif\u001b[0m \u001b[0misinstance\u001b[0m\u001b[0;34m(\u001b[0m\u001b[0mdata\u001b[0m\u001b[0;34m,\u001b[0m \u001b[0mma\u001b[0m\u001b[0;34m.\u001b[0m\u001b[0mMaskedArray\u001b[0m\u001b[0;34m)\u001b[0m\u001b[0;34m:\u001b[0m\u001b[0;34m\u001b[0m\u001b[0;34m\u001b[0m\u001b[0m\n\u001b[1;32m    780\u001b[0m             \u001b[0;32mfrom\u001b[0m \u001b[0mnumpy\u001b[0m\u001b[0;34m.\u001b[0m\u001b[0mma\u001b[0m \u001b[0;32mimport\u001b[0m \u001b[0mmrecords\u001b[0m\u001b[0;34m\u001b[0m\u001b[0;34m\u001b[0m\u001b[0m\n",
            "\u001b[0;32m/usr/local/lib/python3.10/dist-packages/pandas/core/internals/construction.py\u001b[0m in \u001b[0;36mdict_to_mgr\u001b[0;34m(data, index, columns, dtype, typ, copy)\u001b[0m\n\u001b[1;32m    501\u001b[0m             \u001b[0marrays\u001b[0m \u001b[0;34m=\u001b[0m \u001b[0;34m[\u001b[0m\u001b[0mx\u001b[0m\u001b[0;34m.\u001b[0m\u001b[0mcopy\u001b[0m\u001b[0;34m(\u001b[0m\u001b[0;34m)\u001b[0m \u001b[0;32mif\u001b[0m \u001b[0mhasattr\u001b[0m\u001b[0;34m(\u001b[0m\u001b[0mx\u001b[0m\u001b[0;34m,\u001b[0m \u001b[0;34m\"dtype\"\u001b[0m\u001b[0;34m)\u001b[0m \u001b[0;32melse\u001b[0m \u001b[0mx\u001b[0m \u001b[0;32mfor\u001b[0m \u001b[0mx\u001b[0m \u001b[0;32min\u001b[0m \u001b[0marrays\u001b[0m\u001b[0;34m]\u001b[0m\u001b[0;34m\u001b[0m\u001b[0;34m\u001b[0m\u001b[0m\n\u001b[1;32m    502\u001b[0m \u001b[0;34m\u001b[0m\u001b[0m\n\u001b[0;32m--> 503\u001b[0;31m     \u001b[0;32mreturn\u001b[0m \u001b[0marrays_to_mgr\u001b[0m\u001b[0;34m(\u001b[0m\u001b[0marrays\u001b[0m\u001b[0;34m,\u001b[0m \u001b[0mcolumns\u001b[0m\u001b[0;34m,\u001b[0m \u001b[0mindex\u001b[0m\u001b[0;34m,\u001b[0m \u001b[0mdtype\u001b[0m\u001b[0;34m=\u001b[0m\u001b[0mdtype\u001b[0m\u001b[0;34m,\u001b[0m \u001b[0mtyp\u001b[0m\u001b[0;34m=\u001b[0m\u001b[0mtyp\u001b[0m\u001b[0;34m,\u001b[0m \u001b[0mconsolidate\u001b[0m\u001b[0;34m=\u001b[0m\u001b[0mcopy\u001b[0m\u001b[0;34m)\u001b[0m\u001b[0;34m\u001b[0m\u001b[0;34m\u001b[0m\u001b[0m\n\u001b[0m\u001b[1;32m    504\u001b[0m \u001b[0;34m\u001b[0m\u001b[0m\n\u001b[1;32m    505\u001b[0m \u001b[0;34m\u001b[0m\u001b[0m\n",
            "\u001b[0;32m/usr/local/lib/python3.10/dist-packages/pandas/core/internals/construction.py\u001b[0m in \u001b[0;36marrays_to_mgr\u001b[0;34m(arrays, columns, index, dtype, verify_integrity, typ, consolidate)\u001b[0m\n\u001b[1;32m    150\u001b[0m \u001b[0;34m\u001b[0m\u001b[0m\n\u001b[1;32m    151\u001b[0m     \u001b[0;32mif\u001b[0m \u001b[0mtyp\u001b[0m \u001b[0;34m==\u001b[0m \u001b[0;34m\"block\"\u001b[0m\u001b[0;34m:\u001b[0m\u001b[0;34m\u001b[0m\u001b[0;34m\u001b[0m\u001b[0m\n\u001b[0;32m--> 152\u001b[0;31m         return create_block_manager_from_column_arrays(\n\u001b[0m\u001b[1;32m    153\u001b[0m             \u001b[0marrays\u001b[0m\u001b[0;34m,\u001b[0m \u001b[0maxes\u001b[0m\u001b[0;34m,\u001b[0m \u001b[0mconsolidate\u001b[0m\u001b[0;34m=\u001b[0m\u001b[0mconsolidate\u001b[0m\u001b[0;34m,\u001b[0m \u001b[0mrefs\u001b[0m\u001b[0;34m=\u001b[0m\u001b[0mrefs\u001b[0m\u001b[0;34m\u001b[0m\u001b[0;34m\u001b[0m\u001b[0m\n\u001b[1;32m    154\u001b[0m         )\n",
            "\u001b[0;32m/usr/local/lib/python3.10/dist-packages/pandas/core/internals/managers.py\u001b[0m in \u001b[0;36mcreate_block_manager_from_column_arrays\u001b[0;34m(arrays, axes, consolidate, refs)\u001b[0m\n\u001b[1;32m   2142\u001b[0m         \u001b[0mraise_construction_error\u001b[0m\u001b[0;34m(\u001b[0m\u001b[0mlen\u001b[0m\u001b[0;34m(\u001b[0m\u001b[0marrays\u001b[0m\u001b[0;34m)\u001b[0m\u001b[0;34m,\u001b[0m \u001b[0marrays\u001b[0m\u001b[0;34m[\u001b[0m\u001b[0;36m0\u001b[0m\u001b[0;34m]\u001b[0m\u001b[0;34m.\u001b[0m\u001b[0mshape\u001b[0m\u001b[0;34m,\u001b[0m \u001b[0maxes\u001b[0m\u001b[0;34m,\u001b[0m \u001b[0me\u001b[0m\u001b[0;34m)\u001b[0m\u001b[0;34m\u001b[0m\u001b[0;34m\u001b[0m\u001b[0m\n\u001b[1;32m   2143\u001b[0m     \u001b[0;32mif\u001b[0m \u001b[0mconsolidate\u001b[0m\u001b[0;34m:\u001b[0m\u001b[0;34m\u001b[0m\u001b[0;34m\u001b[0m\u001b[0m\n\u001b[0;32m-> 2144\u001b[0;31m         \u001b[0mmgr\u001b[0m\u001b[0;34m.\u001b[0m\u001b[0m_consolidate_inplace\u001b[0m\u001b[0;34m(\u001b[0m\u001b[0;34m)\u001b[0m\u001b[0;34m\u001b[0m\u001b[0;34m\u001b[0m\u001b[0m\n\u001b[0m\u001b[1;32m   2145\u001b[0m     \u001b[0;32mreturn\u001b[0m \u001b[0mmgr\u001b[0m\u001b[0;34m\u001b[0m\u001b[0;34m\u001b[0m\u001b[0m\n\u001b[1;32m   2146\u001b[0m \u001b[0;34m\u001b[0m\u001b[0m\n",
            "\u001b[0;32m/usr/local/lib/python3.10/dist-packages/pandas/core/internals/managers.py\u001b[0m in \u001b[0;36m_consolidate_inplace\u001b[0;34m(self)\u001b[0m\n\u001b[1;32m   1786\u001b[0m         \u001b[0;31m#  BlockManager objects not yet attached to a DataFrame.\u001b[0m\u001b[0;34m\u001b[0m\u001b[0;34m\u001b[0m\u001b[0m\n\u001b[1;32m   1787\u001b[0m         \u001b[0;32mif\u001b[0m \u001b[0;32mnot\u001b[0m \u001b[0mself\u001b[0m\u001b[0;34m.\u001b[0m\u001b[0mis_consolidated\u001b[0m\u001b[0;34m(\u001b[0m\u001b[0;34m)\u001b[0m\u001b[0;34m:\u001b[0m\u001b[0;34m\u001b[0m\u001b[0;34m\u001b[0m\u001b[0m\n\u001b[0;32m-> 1788\u001b[0;31m             \u001b[0mself\u001b[0m\u001b[0;34m.\u001b[0m\u001b[0mblocks\u001b[0m \u001b[0;34m=\u001b[0m \u001b[0m_consolidate\u001b[0m\u001b[0;34m(\u001b[0m\u001b[0mself\u001b[0m\u001b[0;34m.\u001b[0m\u001b[0mblocks\u001b[0m\u001b[0;34m)\u001b[0m\u001b[0;34m\u001b[0m\u001b[0;34m\u001b[0m\u001b[0m\n\u001b[0m\u001b[1;32m   1789\u001b[0m             \u001b[0mself\u001b[0m\u001b[0;34m.\u001b[0m\u001b[0m_is_consolidated\u001b[0m \u001b[0;34m=\u001b[0m \u001b[0;32mTrue\u001b[0m\u001b[0;34m\u001b[0m\u001b[0;34m\u001b[0m\u001b[0m\n\u001b[1;32m   1790\u001b[0m             \u001b[0mself\u001b[0m\u001b[0;34m.\u001b[0m\u001b[0m_known_consolidated\u001b[0m \u001b[0;34m=\u001b[0m \u001b[0;32mTrue\u001b[0m\u001b[0;34m\u001b[0m\u001b[0;34m\u001b[0m\u001b[0m\n",
            "\u001b[0;32m/usr/local/lib/python3.10/dist-packages/pandas/core/internals/managers.py\u001b[0m in \u001b[0;36m_consolidate\u001b[0;34m(blocks)\u001b[0m\n\u001b[1;32m   2267\u001b[0m     \u001b[0mnew_blocks\u001b[0m\u001b[0;34m:\u001b[0m \u001b[0mlist\u001b[0m\u001b[0;34m[\u001b[0m\u001b[0mBlock\u001b[0m\u001b[0;34m]\u001b[0m \u001b[0;34m=\u001b[0m \u001b[0;34m[\u001b[0m\u001b[0;34m]\u001b[0m\u001b[0;34m\u001b[0m\u001b[0;34m\u001b[0m\u001b[0m\n\u001b[1;32m   2268\u001b[0m     \u001b[0;32mfor\u001b[0m \u001b[0;34m(\u001b[0m\u001b[0m_can_consolidate\u001b[0m\u001b[0;34m,\u001b[0m \u001b[0mdtype\u001b[0m\u001b[0;34m)\u001b[0m\u001b[0;34m,\u001b[0m \u001b[0mgroup_blocks\u001b[0m \u001b[0;32min\u001b[0m \u001b[0mgrouper\u001b[0m\u001b[0;34m:\u001b[0m\u001b[0;34m\u001b[0m\u001b[0;34m\u001b[0m\u001b[0m\n\u001b[0;32m-> 2269\u001b[0;31m         merged_blocks, _ = _merge_blocks(\n\u001b[0m\u001b[1;32m   2270\u001b[0m             \u001b[0mlist\u001b[0m\u001b[0;34m(\u001b[0m\u001b[0mgroup_blocks\u001b[0m\u001b[0;34m)\u001b[0m\u001b[0;34m,\u001b[0m \u001b[0mdtype\u001b[0m\u001b[0;34m=\u001b[0m\u001b[0mdtype\u001b[0m\u001b[0;34m,\u001b[0m \u001b[0mcan_consolidate\u001b[0m\u001b[0;34m=\u001b[0m\u001b[0m_can_consolidate\u001b[0m\u001b[0;34m\u001b[0m\u001b[0;34m\u001b[0m\u001b[0m\n\u001b[1;32m   2271\u001b[0m         )\n",
            "\u001b[0;32m/usr/local/lib/python3.10/dist-packages/pandas/core/internals/managers.py\u001b[0m in \u001b[0;36m_merge_blocks\u001b[0;34m(blocks, dtype, can_consolidate)\u001b[0m\n\u001b[1;32m   2292\u001b[0m             \u001b[0;31m# Sequence[Union[int, float, complex, str, bytes, generic]],\u001b[0m\u001b[0;34m\u001b[0m\u001b[0;34m\u001b[0m\u001b[0m\n\u001b[1;32m   2293\u001b[0m             \u001b[0;31m# Sequence[Sequence[Any]], SupportsArray]]\u001b[0m\u001b[0;34m\u001b[0m\u001b[0;34m\u001b[0m\u001b[0m\n\u001b[0;32m-> 2294\u001b[0;31m             \u001b[0mnew_values\u001b[0m \u001b[0;34m=\u001b[0m \u001b[0mnp\u001b[0m\u001b[0;34m.\u001b[0m\u001b[0mvstack\u001b[0m\u001b[0;34m(\u001b[0m\u001b[0;34m[\u001b[0m\u001b[0mb\u001b[0m\u001b[0;34m.\u001b[0m\u001b[0mvalues\u001b[0m \u001b[0;32mfor\u001b[0m \u001b[0mb\u001b[0m \u001b[0;32min\u001b[0m \u001b[0mblocks\u001b[0m\u001b[0;34m]\u001b[0m\u001b[0;34m)\u001b[0m  \u001b[0;31m# type: ignore[misc]\u001b[0m\u001b[0;34m\u001b[0m\u001b[0;34m\u001b[0m\u001b[0m\n\u001b[0m\u001b[1;32m   2295\u001b[0m         \u001b[0;32melse\u001b[0m\u001b[0;34m:\u001b[0m\u001b[0;34m\u001b[0m\u001b[0;34m\u001b[0m\u001b[0m\n\u001b[1;32m   2296\u001b[0m             \u001b[0mbvals\u001b[0m \u001b[0;34m=\u001b[0m \u001b[0;34m[\u001b[0m\u001b[0mblk\u001b[0m\u001b[0;34m.\u001b[0m\u001b[0mvalues\u001b[0m \u001b[0;32mfor\u001b[0m \u001b[0mblk\u001b[0m \u001b[0;32min\u001b[0m \u001b[0mblocks\u001b[0m\u001b[0;34m]\u001b[0m\u001b[0;34m\u001b[0m\u001b[0;34m\u001b[0m\u001b[0m\n",
            "\u001b[0;32m/usr/local/lib/python3.10/dist-packages/numpy/core/shape_base.py\u001b[0m in \u001b[0;36mvstack\u001b[0;34m(tup, dtype, casting)\u001b[0m\n\u001b[1;32m    287\u001b[0m     \u001b[0;32mif\u001b[0m \u001b[0;32mnot\u001b[0m \u001b[0misinstance\u001b[0m\u001b[0;34m(\u001b[0m\u001b[0marrs\u001b[0m\u001b[0;34m,\u001b[0m \u001b[0mlist\u001b[0m\u001b[0;34m)\u001b[0m\u001b[0;34m:\u001b[0m\u001b[0;34m\u001b[0m\u001b[0;34m\u001b[0m\u001b[0m\n\u001b[1;32m    288\u001b[0m         \u001b[0marrs\u001b[0m \u001b[0;34m=\u001b[0m \u001b[0;34m[\u001b[0m\u001b[0marrs\u001b[0m\u001b[0;34m]\u001b[0m\u001b[0;34m\u001b[0m\u001b[0;34m\u001b[0m\u001b[0m\n\u001b[0;32m--> 289\u001b[0;31m     \u001b[0;32mreturn\u001b[0m \u001b[0m_nx\u001b[0m\u001b[0;34m.\u001b[0m\u001b[0mconcatenate\u001b[0m\u001b[0;34m(\u001b[0m\u001b[0marrs\u001b[0m\u001b[0;34m,\u001b[0m \u001b[0;36m0\u001b[0m\u001b[0;34m,\u001b[0m \u001b[0mdtype\u001b[0m\u001b[0;34m=\u001b[0m\u001b[0mdtype\u001b[0m\u001b[0;34m,\u001b[0m \u001b[0mcasting\u001b[0m\u001b[0;34m=\u001b[0m\u001b[0mcasting\u001b[0m\u001b[0;34m)\u001b[0m\u001b[0;34m\u001b[0m\u001b[0;34m\u001b[0m\u001b[0m\n\u001b[0m\u001b[1;32m    290\u001b[0m \u001b[0;34m\u001b[0m\u001b[0m\n\u001b[1;32m    291\u001b[0m \u001b[0;34m\u001b[0m\u001b[0m\n",
            "\u001b[0;31mKeyboardInterrupt\u001b[0m: "
          ]
        }
      ],
      "source": [
        "# Usage in main code:\n",
        "# First, get the most important features for binning\n",
        "important_numeric_features = get_important_numeric_features(train, target)\n",
        "\n"
      ]
    },
    {
      "cell_type": "code",
      "source": [
        "# Then create bins only for important features\n",
        "train_bins = create_bins_optimized(train, important_numeric_features)\n",
        "test_bins = create_bins_optimized(test, important_numeric_features)"
      ],
      "metadata": {
        "id": "1m0oFoEHZLJs"
      },
      "execution_count": 22,
      "outputs": []
    },
    {
      "cell_type": "code",
      "execution_count": 11,
      "metadata": {
        "id": "VQHFghmu_qjg"
      },
      "outputs": [],
      "source": [
        "# Add simple aggregated bin features\n",
        "train_bins['total_outliers'] = train_bins[[col for col in train_bins.columns if 'is_outlier' in col]].sum(axis=1)\n",
        "test_bins['total_outliers'] = test_bins[[col for col in test_bins.columns if 'is_outlier' in col]].sum(axis=1)\n",
        "\n",
        "train_bins['total_above_median'] = train_bins[[col for col in train_bins.columns if 'above_median' in col]].sum(axis=1)\n",
        "test_bins['total_above_median'] = test_bins[[col for col in test_bins.columns if 'above_median' in col]].sum(axis=1)"
      ]
    },
    {
      "cell_type": "code",
      "source": [
        "# Create train-test split indices\n",
        "train_indices, validation_indices = train_test_split(\n",
        "    np.arange(len(target)),\n",
        "    test_size=0.2,\n",
        "    random_state=42\n",
        ")\n",
        "\n",
        "# Create LightGBM datasets\n",
        "lgb_train = lgb.Dataset(train_bins.iloc[train_indices].values, target.iloc[train_indices])\n",
        "lgb_valid = lgb.Dataset(train_bins.iloc[validation_indices].values, target.iloc[validation_indices], reference=lgb_train)\n",
        "\n",
        "\n",
        "# Process data in chunks\n",
        "print(\"Processing data in chunks...\")\n",
        "lgb_train, lgb_valid = process_in_chunks(train_bins, target)\n",
        "\n",
        "\n",
        "gc.collect()"
      ],
      "metadata": {
        "colab": {
          "base_uri": "https://localhost:8080/",
          "height": 382
        },
        "id": "9ZzqkJfOT9DT",
        "outputId": "b5adce53-6db5-4864-f62b-477287daea7b"
      },
      "execution_count": 24,
      "outputs": [
        {
          "output_type": "stream",
          "name": "stdout",
          "text": [
            "Processing data in chunks...\n"
          ]
        },
        {
          "output_type": "error",
          "ename": "KeyboardInterrupt",
          "evalue": "",
          "traceback": [
            "\u001b[0;31m---------------------------------------------------------------------------\u001b[0m",
            "\u001b[0;31mKeyboardInterrupt\u001b[0m                         Traceback (most recent call last)",
            "\u001b[0;32m<ipython-input-24-f22653b6483f>\u001b[0m in \u001b[0;36m<cell line: 15>\u001b[0;34m()\u001b[0m\n\u001b[1;32m     13\u001b[0m \u001b[0;31m# Process data in chunks\u001b[0m\u001b[0;34m\u001b[0m\u001b[0;34m\u001b[0m\u001b[0m\n\u001b[1;32m     14\u001b[0m \u001b[0mprint\u001b[0m\u001b[0;34m(\u001b[0m\u001b[0;34m\"Processing data in chunks...\"\u001b[0m\u001b[0;34m)\u001b[0m\u001b[0;34m\u001b[0m\u001b[0;34m\u001b[0m\u001b[0m\n\u001b[0;32m---> 15\u001b[0;31m \u001b[0mlgb_train\u001b[0m\u001b[0;34m,\u001b[0m \u001b[0mlgb_valid\u001b[0m \u001b[0;34m=\u001b[0m \u001b[0mprocess_in_chunks\u001b[0m\u001b[0;34m(\u001b[0m\u001b[0mtrain_bins\u001b[0m\u001b[0;34m,\u001b[0m \u001b[0mtarget\u001b[0m\u001b[0;34m)\u001b[0m\u001b[0;34m\u001b[0m\u001b[0;34m\u001b[0m\u001b[0m\n\u001b[0m\u001b[1;32m     16\u001b[0m \u001b[0;34m\u001b[0m\u001b[0m\n\u001b[1;32m     17\u001b[0m \u001b[0;34m\u001b[0m\u001b[0m\n",
            "\u001b[0;32m<ipython-input-4-61fada5cd623>\u001b[0m in \u001b[0;36mprocess_in_chunks\u001b[0;34m(df, target, chunk_size)\u001b[0m\n\u001b[1;32m     95\u001b[0m \u001b[0;34m\u001b[0m\u001b[0m\n\u001b[1;32m     96\u001b[0m         \u001b[0;31m# Get chunk data\u001b[0m\u001b[0;34m\u001b[0m\u001b[0;34m\u001b[0m\u001b[0m\n\u001b[0;32m---> 97\u001b[0;31m         \u001b[0mchunk_data\u001b[0m \u001b[0;34m=\u001b[0m \u001b[0mdf\u001b[0m\u001b[0;34m.\u001b[0m\u001b[0miloc\u001b[0m\u001b[0;34m[\u001b[0m\u001b[0mchunk_indices\u001b[0m\u001b[0;34m]\u001b[0m\u001b[0;34m.\u001b[0m\u001b[0mvalues\u001b[0m\u001b[0;34m\u001b[0m\u001b[0;34m\u001b[0m\u001b[0m\n\u001b[0m\u001b[1;32m     98\u001b[0m         \u001b[0mchunk_target\u001b[0m \u001b[0;34m=\u001b[0m \u001b[0mtarget\u001b[0m\u001b[0;34m.\u001b[0m\u001b[0miloc\u001b[0m\u001b[0;34m[\u001b[0m\u001b[0mchunk_indices\u001b[0m\u001b[0;34m]\u001b[0m\u001b[0;34m.\u001b[0m\u001b[0mvalues\u001b[0m\u001b[0;34m\u001b[0m\u001b[0;34m\u001b[0m\u001b[0m\n\u001b[1;32m     99\u001b[0m \u001b[0;34m\u001b[0m\u001b[0m\n",
            "\u001b[0;32m/usr/local/lib/python3.10/dist-packages/cudf/pandas/fast_slow_proxy.py\u001b[0m in \u001b[0;36m__get__\u001b[0;34m(self, instance, owner)\u001b[0m\n\u001b[1;32m    838\u001b[0m                         \u001b[0;32mNone\u001b[0m\u001b[0;34m,\u001b[0m  \u001b[0;31m# type: ignore\u001b[0m\u001b[0;34m\u001b[0m\u001b[0;34m\u001b[0m\u001b[0m\n\u001b[1;32m    839\u001b[0m                     )\n\u001b[0;32m--> 840\u001b[0;31m                 return _fast_slow_function_call(\n\u001b[0m\u001b[1;32m    841\u001b[0m                     \u001b[0mgetattr\u001b[0m\u001b[0;34m,\u001b[0m\u001b[0;34m\u001b[0m\u001b[0;34m\u001b[0m\u001b[0m\n\u001b[1;32m    842\u001b[0m                     \u001b[0minstance\u001b[0m\u001b[0;34m,\u001b[0m\u001b[0;34m\u001b[0m\u001b[0;34m\u001b[0m\u001b[0m\n",
            "\u001b[0;32m/usr/local/lib/python3.10/dist-packages/cudf/pandas/fast_slow_proxy.py\u001b[0m in \u001b[0;36m_fast_slow_function_call\u001b[0;34m(func, *args, **kwargs)\u001b[0m\n\u001b[1;32m    981\u001b[0m             \u001b[0;32mwith\u001b[0m \u001b[0mdisable_module_accelerator\u001b[0m\u001b[0;34m(\u001b[0m\u001b[0;34m)\u001b[0m\u001b[0;34m:\u001b[0m\u001b[0;34m\u001b[0m\u001b[0;34m\u001b[0m\u001b[0m\n\u001b[1;32m    982\u001b[0m                 \u001b[0mresult\u001b[0m \u001b[0;34m=\u001b[0m \u001b[0mfunc\u001b[0m\u001b[0;34m(\u001b[0m\u001b[0;34m*\u001b[0m\u001b[0mslow_args\u001b[0m\u001b[0;34m,\u001b[0m \u001b[0;34m**\u001b[0m\u001b[0mslow_kwargs\u001b[0m\u001b[0;34m)\u001b[0m\u001b[0;34m\u001b[0m\u001b[0;34m\u001b[0m\u001b[0m\n\u001b[0;32m--> 983\u001b[0;31m     \u001b[0;32mreturn\u001b[0m \u001b[0m_maybe_wrap_result\u001b[0m\u001b[0;34m(\u001b[0m\u001b[0mresult\u001b[0m\u001b[0;34m,\u001b[0m \u001b[0mfunc\u001b[0m\u001b[0;34m,\u001b[0m \u001b[0;34m*\u001b[0m\u001b[0margs\u001b[0m\u001b[0;34m,\u001b[0m \u001b[0;34m**\u001b[0m\u001b[0mkwargs\u001b[0m\u001b[0;34m)\u001b[0m\u001b[0;34m,\u001b[0m \u001b[0mfast\u001b[0m\u001b[0;34m\u001b[0m\u001b[0;34m\u001b[0m\u001b[0m\n\u001b[0m\u001b[1;32m    984\u001b[0m \u001b[0;34m\u001b[0m\u001b[0m\n\u001b[1;32m    985\u001b[0m \u001b[0;34m\u001b[0m\u001b[0m\n",
            "\u001b[0;32m/usr/local/lib/python3.10/dist-packages/cudf/pandas/fast_slow_proxy.py\u001b[0m in \u001b[0;36m_maybe_wrap_result\u001b[0;34m(result, func, *args, **kwargs)\u001b[0m\n\u001b[1;32m   1102\u001b[0m     \u001b[0;32mif\u001b[0m \u001b[0m_is_final_type\u001b[0m\u001b[0;34m(\u001b[0m\u001b[0mresult\u001b[0m\u001b[0;34m)\u001b[0m\u001b[0;34m:\u001b[0m\u001b[0;34m\u001b[0m\u001b[0;34m\u001b[0m\u001b[0m\n\u001b[1;32m   1103\u001b[0m         \u001b[0mtyp\u001b[0m \u001b[0;34m=\u001b[0m \u001b[0mget_final_type_map\u001b[0m\u001b[0;34m(\u001b[0m\u001b[0;34m)\u001b[0m\u001b[0;34m[\u001b[0m\u001b[0mtype\u001b[0m\u001b[0;34m(\u001b[0m\u001b[0mresult\u001b[0m\u001b[0;34m)\u001b[0m\u001b[0;34m]\u001b[0m\u001b[0;34m\u001b[0m\u001b[0;34m\u001b[0m\u001b[0m\n\u001b[0;32m-> 1104\u001b[0;31m         \u001b[0;32mreturn\u001b[0m \u001b[0mtyp\u001b[0m\u001b[0;34m.\u001b[0m\u001b[0m_fsproxy_wrap\u001b[0m\u001b[0;34m(\u001b[0m\u001b[0mresult\u001b[0m\u001b[0;34m,\u001b[0m \u001b[0mfunc\u001b[0m\u001b[0;34m)\u001b[0m\u001b[0;34m\u001b[0m\u001b[0;34m\u001b[0m\u001b[0m\n\u001b[0m\u001b[1;32m   1105\u001b[0m     \u001b[0;32melif\u001b[0m \u001b[0m_is_intermediate_type\u001b[0m\u001b[0;34m(\u001b[0m\u001b[0mresult\u001b[0m\u001b[0;34m)\u001b[0m\u001b[0;34m:\u001b[0m\u001b[0;34m\u001b[0m\u001b[0;34m\u001b[0m\u001b[0m\n\u001b[1;32m   1106\u001b[0m         \u001b[0mtyp\u001b[0m \u001b[0;34m=\u001b[0m \u001b[0mget_intermediate_type_map\u001b[0m\u001b[0;34m(\u001b[0m\u001b[0;34m)\u001b[0m\u001b[0;34m[\u001b[0m\u001b[0mtype\u001b[0m\u001b[0;34m(\u001b[0m\u001b[0mresult\u001b[0m\u001b[0;34m)\u001b[0m\u001b[0;34m]\u001b[0m\u001b[0;34m\u001b[0m\u001b[0;34m\u001b[0m\u001b[0m\n",
            "\u001b[0;32m/usr/local/lib/python3.10/dist-packages/cudf/pandas/_wrappers/numpy.py\u001b[0m in \u001b[0;36mwrap_ndarray\u001b[0;34m(cls, arr, constructor)\u001b[0m\n\u001b[1;32m    106\u001b[0m         \u001b[0;31m# super(ndarray, cls) == super(ndarray, ndarray) == super(cls,\u001b[0m\u001b[0;34m\u001b[0m\u001b[0;34m\u001b[0m\u001b[0m\n\u001b[1;32m    107\u001b[0m         \u001b[0;31m# cls)\u001b[0m\u001b[0;34m\u001b[0m\u001b[0;34m\u001b[0m\u001b[0m\n\u001b[0;32m--> 108\u001b[0;31m         \u001b[0;32mreturn\u001b[0m \u001b[0msuper\u001b[0m\u001b[0;34m(\u001b[0m\u001b[0mcls\u001b[0m\u001b[0;34m,\u001b[0m \u001b[0mcls\u001b[0m\u001b[0;34m)\u001b[0m\u001b[0;34m.\u001b[0m\u001b[0m_fsproxy_wrap\u001b[0m\u001b[0;34m(\u001b[0m\u001b[0marr\u001b[0m\u001b[0;34m,\u001b[0m \u001b[0mconstructor\u001b[0m\u001b[0;34m)\u001b[0m\u001b[0;34m\u001b[0m\u001b[0;34m\u001b[0m\u001b[0m\n\u001b[0m\u001b[1;32m    109\u001b[0m \u001b[0;34m\u001b[0m\u001b[0m\n\u001b[1;32m    110\u001b[0m \u001b[0;34m\u001b[0m\u001b[0m\n",
            "\u001b[0;32m/usr/local/lib/python3.10/dist-packages/cudf/pandas/fast_slow_proxy.py\u001b[0m in \u001b[0;36m_fsproxy_wrap\u001b[0;34m(cls, value, func)\u001b[0m\n\u001b[1;32m    571\u001b[0m             \u001b[0mproxy\u001b[0m \u001b[0;34m=\u001b[0m \u001b[0mbase_class\u001b[0m\u001b[0;34m.\u001b[0m\u001b[0m__new__\u001b[0m\u001b[0;34m(\u001b[0m\u001b[0mcls\u001b[0m\u001b[0;34m)\u001b[0m\u001b[0;34m\u001b[0m\u001b[0;34m\u001b[0m\u001b[0m\n\u001b[1;32m    572\u001b[0m         \u001b[0;32melif\u001b[0m \u001b[0mbase_class\u001b[0m \u001b[0;32mis\u001b[0m \u001b[0mProxyNDarrayBase\u001b[0m\u001b[0;34m:\u001b[0m\u001b[0;34m\u001b[0m\u001b[0;34m\u001b[0m\u001b[0m\n\u001b[0;32m--> 573\u001b[0;31m             \u001b[0mproxy\u001b[0m \u001b[0;34m=\u001b[0m \u001b[0mbase_class\u001b[0m\u001b[0;34m.\u001b[0m\u001b[0m__new__\u001b[0m\u001b[0;34m(\u001b[0m\u001b[0mcls\u001b[0m\u001b[0;34m,\u001b[0m \u001b[0mvalue\u001b[0m\u001b[0;34m)\u001b[0m\u001b[0;34m\u001b[0m\u001b[0;34m\u001b[0m\u001b[0m\n\u001b[0m\u001b[1;32m    574\u001b[0m         \u001b[0;32melse\u001b[0m\u001b[0;34m:\u001b[0m\u001b[0;34m\u001b[0m\u001b[0;34m\u001b[0m\u001b[0m\n\u001b[1;32m    575\u001b[0m             raise TypeError(\n",
            "\u001b[0;32m/usr/local/lib/python3.10/dist-packages/cudf/pandas/proxy_base.py\u001b[0m in \u001b[0;36m__new__\u001b[0;34m(cls, arr)\u001b[0m\n\u001b[1;32m     10\u001b[0m     \u001b[0;32mdef\u001b[0m \u001b[0m__new__\u001b[0m\u001b[0;34m(\u001b[0m\u001b[0mcls\u001b[0m\u001b[0;34m,\u001b[0m \u001b[0marr\u001b[0m\u001b[0;34m)\u001b[0m\u001b[0;34m:\u001b[0m\u001b[0;34m\u001b[0m\u001b[0;34m\u001b[0m\u001b[0m\n\u001b[1;32m     11\u001b[0m         \u001b[0;32mif\u001b[0m \u001b[0misinstance\u001b[0m\u001b[0;34m(\u001b[0m\u001b[0marr\u001b[0m\u001b[0;34m,\u001b[0m \u001b[0mcp\u001b[0m\u001b[0;34m.\u001b[0m\u001b[0mndarray\u001b[0m\u001b[0;34m)\u001b[0m\u001b[0;34m:\u001b[0m\u001b[0;34m\u001b[0m\u001b[0;34m\u001b[0m\u001b[0m\n\u001b[0;32m---> 12\u001b[0;31m             \u001b[0marr\u001b[0m \u001b[0;34m=\u001b[0m \u001b[0marr\u001b[0m\u001b[0;34m.\u001b[0m\u001b[0mget\u001b[0m\u001b[0;34m(\u001b[0m\u001b[0;34m)\u001b[0m\u001b[0;34m\u001b[0m\u001b[0;34m\u001b[0m\u001b[0m\n\u001b[0m\u001b[1;32m     13\u001b[0m         \u001b[0;32mif\u001b[0m \u001b[0;32mnot\u001b[0m \u001b[0misinstance\u001b[0m\u001b[0;34m(\u001b[0m\u001b[0marr\u001b[0m\u001b[0;34m,\u001b[0m \u001b[0mnp\u001b[0m\u001b[0;34m.\u001b[0m\u001b[0mndarray\u001b[0m\u001b[0;34m)\u001b[0m\u001b[0;34m:\u001b[0m\u001b[0;34m\u001b[0m\u001b[0;34m\u001b[0m\u001b[0m\n\u001b[1;32m     14\u001b[0m             raise TypeError(\n",
            "\u001b[0;31mKeyboardInterrupt\u001b[0m: "
          ]
        }
      ]
    },
    {
      "cell_type": "code",
      "source": [
        "# Train model\n",
        "params = {\n",
        "    'objective': 'regression',\n",
        "    'metric': 'rmse',\n",
        "    'boosting_type': 'gbdt',\n",
        "    'gpu_platform_id': 0,\n",
        "    'gpu_device_id': 0,\n",
        "    'learning_rate': 0.05,\n",
        "    'num_leaves': 31,\n",
        "    'max_depth': 6,\n",
        "    'min_child_samples': 30,\n",
        "    'feature_fraction': 0.7,\n",
        "    'bagging_fraction': 0.7,\n",
        "    'bagging_freq': 5,\n",
        "    'lambda_l1': 0.1,\n",
        "    'lambda_l2': 0.1,\n",
        "    'verbose': -1,\n",
        "    'device': 'gpu',\n",
        "}\n",
        "\n",
        "callbacks = [\n",
        "    lgb.early_stopping(stopping_rounds=50),\n",
        "    lgb.log_evaluation(period=100)\n",
        "]"
      ],
      "metadata": {
        "id": "jf14bjFrTJ18"
      },
      "execution_count": 13,
      "outputs": []
    },
    {
      "cell_type": "code",
      "source": [
        "\n",
        "print(\"Training model...\")\n",
        "model = lgb.train(\n",
        "    params,\n",
        "    lgb_train,\n",
        "    num_boost_round=2000,\n",
        "    valid_sets=[lgb_valid],\n",
        "    callbacks=callbacks\n",
        ")\n"
      ],
      "metadata": {
        "colab": {
          "base_uri": "https://localhost:8080/"
        },
        "id": "w532f0SPUt8b",
        "outputId": "1ebbcb09-5acf-49ba-b937-7d47221dd61b"
      },
      "execution_count": 14,
      "outputs": [
        {
          "output_type": "stream",
          "name": "stdout",
          "text": [
            "Training model...\n",
            "Training until validation scores don't improve for 50 rounds\n",
            "[100]\tvalid_0's rmse: 648.719\n",
            "[200]\tvalid_0's rmse: 648.71\n",
            "Early stopping, best iteration is:\n",
            "[180]\tvalid_0's rmse: 648.709\n"
          ]
        }
      ]
    },
    {
      "cell_type": "code",
      "source": [
        "\n",
        "# Make predictions on validation data\n",
        "# valid_preds = model.predict(train_bins.iloc[validation_indices].values, num_iteration=model.best_iteration)\n",
        "\n",
        "# # Calculate RMSE\n",
        "# validation_rmse = np.sqrt(mean_squared_error(target.iloc[validation_indices], valid_preds))\n",
        "# print(f'\\nValidation RMSE: {validation_rmse:.4f}')\n",
        "\n",
        "# # Make predictions on test data\n",
        "# test_preds = model.predict(test_bins.values, num_iteration=model.best_iteration)\n",
        "# test_preds = np.round(test_preds, 2)\n",
        "\n",
        "# Create and save submission file\n",
        "submission = pd.DataFrame({\n",
        "    'id': test['id'],\n",
        "    'y': test_preds\n",
        "})\n",
        "submission.to_csv('submission.csv', index=False)\n",
        "print(\"\\nSubmission file created successfully!\")"
      ],
      "metadata": {
        "colab": {
          "base_uri": "https://localhost:8080/"
        },
        "id": "pfHxMCoFYRMl",
        "outputId": "0707a57b-d5be-4212-97cb-6191d53511aa"
      },
      "execution_count": 28,
      "outputs": [
        {
          "output_type": "stream",
          "name": "stdout",
          "text": [
            "\n",
            "Submission file created successfully!\n"
          ]
        }
      ]
    },
    {
      "cell_type": "code",
      "execution_count": null,
      "metadata": {
        "colab": {
          "base_uri": "https://localhost:8080/"
        },
        "id": "ih_Rwk6h9RFq",
        "outputId": "9e7dea78-f7f5-4e16-b2d0-ad65c6d639e0"
      },
      "outputs": [
        {
          "name": "stdout",
          "output_type": "stream",
          "text": [
            "Creating statistical features...\n"
          ]
        },
        {
          "ename": "KeyboardInterrupt",
          "evalue": "",
          "output_type": "error",
          "traceback": [
            "\u001b[0;31m---------------------------------------------------------------------------\u001b[0m",
            "\u001b[0;31mKeyboardInterrupt\u001b[0m                         Traceback (most recent call last)",
            "\u001b[0;32m<ipython-input-21-cb7746955b01>\u001b[0m in \u001b[0;36m<cell line: 2>\u001b[0;34m()\u001b[0m\n\u001b[1;32m      1\u001b[0m \u001b[0mprint\u001b[0m\u001b[0;34m(\u001b[0m\u001b[0;34m\"Creating statistical features...\"\u001b[0m\u001b[0;34m)\u001b[0m\u001b[0;34m\u001b[0m\u001b[0;34m\u001b[0m\u001b[0m\n\u001b[0;32m----> 2\u001b[0;31m \u001b[0mtrain_stats\u001b[0m \u001b[0;34m=\u001b[0m \u001b[0mcreate_statistical_features_optimized\u001b[0m\u001b[0;34m(\u001b[0m\u001b[0mtrain\u001b[0m\u001b[0;34m,\u001b[0m \u001b[0mnumeric_cols\u001b[0m\u001b[0;34m)\u001b[0m\u001b[0;34m\u001b[0m\u001b[0;34m\u001b[0m\u001b[0m\n\u001b[0m\u001b[1;32m      3\u001b[0m \u001b[0mtest_stats\u001b[0m \u001b[0;34m=\u001b[0m \u001b[0mcreate_statistical_features_optimized\u001b[0m\u001b[0;34m(\u001b[0m\u001b[0mtest\u001b[0m\u001b[0;34m,\u001b[0m \u001b[0mnumeric_cols\u001b[0m\u001b[0;34m)\u001b[0m\u001b[0;34m\u001b[0m\u001b[0;34m\u001b[0m\u001b[0m\n\u001b[1;32m      4\u001b[0m \u001b[0;34m\u001b[0m\u001b[0m\n",
            "\u001b[0;32m<ipython-input-19-4fe461adebdf>\u001b[0m in \u001b[0;36mcreate_statistical_features_optimized\u001b[0;34m(df, numeric_cols)\u001b[0m\n\u001b[1;32m     58\u001b[0m \u001b[0;34m\u001b[0m\u001b[0m\n\u001b[1;32m     59\u001b[0m     \u001b[0;31m# Use numpy percentile for quartiles (faster than pandas quantile)\u001b[0m\u001b[0;34m\u001b[0m\u001b[0;34m\u001b[0m\u001b[0m\n\u001b[0;32m---> 60\u001b[0;31m     \u001b[0mstats_df\u001b[0m\u001b[0;34m[\u001b[0m\u001b[0;34m'row_q25'\u001b[0m\u001b[0;34m]\u001b[0m \u001b[0;34m=\u001b[0m \u001b[0mnp\u001b[0m\u001b[0;34m.\u001b[0m\u001b[0mnanpercentile\u001b[0m\u001b[0;34m(\u001b[0m\u001b[0mdata\u001b[0m\u001b[0;34m,\u001b[0m \u001b[0;36m25\u001b[0m\u001b[0;34m,\u001b[0m \u001b[0maxis\u001b[0m\u001b[0;34m=\u001b[0m\u001b[0;36m1\u001b[0m\u001b[0;34m)\u001b[0m\u001b[0;34m.\u001b[0m\u001b[0mround\u001b[0m\u001b[0;34m(\u001b[0m\u001b[0;36m2\u001b[0m\u001b[0;34m)\u001b[0m\u001b[0;34m\u001b[0m\u001b[0;34m\u001b[0m\u001b[0m\n\u001b[0m\u001b[1;32m     61\u001b[0m     \u001b[0mstats_df\u001b[0m\u001b[0;34m[\u001b[0m\u001b[0;34m'row_q75'\u001b[0m\u001b[0;34m]\u001b[0m \u001b[0;34m=\u001b[0m \u001b[0mnp\u001b[0m\u001b[0;34m.\u001b[0m\u001b[0mnanpercentile\u001b[0m\u001b[0;34m(\u001b[0m\u001b[0mdata\u001b[0m\u001b[0;34m,\u001b[0m \u001b[0;36m75\u001b[0m\u001b[0;34m,\u001b[0m \u001b[0maxis\u001b[0m\u001b[0;34m=\u001b[0m\u001b[0;36m1\u001b[0m\u001b[0;34m)\u001b[0m\u001b[0;34m.\u001b[0m\u001b[0mround\u001b[0m\u001b[0;34m(\u001b[0m\u001b[0;36m2\u001b[0m\u001b[0;34m)\u001b[0m\u001b[0;34m\u001b[0m\u001b[0;34m\u001b[0m\u001b[0m\n\u001b[1;32m     62\u001b[0m \u001b[0;34m\u001b[0m\u001b[0m\n",
            "\u001b[0;32m/usr/local/lib/python3.10/dist-packages/numpy/lib/nanfunctions.py\u001b[0m in \u001b[0;36mnanpercentile\u001b[0;34m(a, q, axis, out, overwrite_input, method, keepdims, interpolation)\u001b[0m\n\u001b[1;32m   1382\u001b[0m     \u001b[0;32mif\u001b[0m \u001b[0;32mnot\u001b[0m \u001b[0mfunction_base\u001b[0m\u001b[0;34m.\u001b[0m\u001b[0m_quantile_is_valid\u001b[0m\u001b[0;34m(\u001b[0m\u001b[0mq\u001b[0m\u001b[0;34m)\u001b[0m\u001b[0;34m:\u001b[0m\u001b[0;34m\u001b[0m\u001b[0;34m\u001b[0m\u001b[0m\n\u001b[1;32m   1383\u001b[0m         \u001b[0;32mraise\u001b[0m \u001b[0mValueError\u001b[0m\u001b[0;34m(\u001b[0m\u001b[0;34m\"Percentiles must be in the range [0, 100]\"\u001b[0m\u001b[0;34m)\u001b[0m\u001b[0;34m\u001b[0m\u001b[0;34m\u001b[0m\u001b[0m\n\u001b[0;32m-> 1384\u001b[0;31m     return _nanquantile_unchecked(\n\u001b[0m\u001b[1;32m   1385\u001b[0m         a, q, axis, out, overwrite_input, method, keepdims)\n\u001b[1;32m   1386\u001b[0m \u001b[0;34m\u001b[0m\u001b[0m\n",
            "\u001b[0;32m/usr/local/lib/python3.10/dist-packages/numpy/lib/nanfunctions.py\u001b[0m in \u001b[0;36m_nanquantile_unchecked\u001b[0;34m(a, q, axis, out, overwrite_input, method, keepdims)\u001b[0m\n\u001b[1;32m   1561\u001b[0m     \u001b[0;32mif\u001b[0m \u001b[0ma\u001b[0m\u001b[0;34m.\u001b[0m\u001b[0msize\u001b[0m \u001b[0;34m==\u001b[0m \u001b[0;36m0\u001b[0m\u001b[0;34m:\u001b[0m\u001b[0;34m\u001b[0m\u001b[0;34m\u001b[0m\u001b[0m\n\u001b[1;32m   1562\u001b[0m         \u001b[0;32mreturn\u001b[0m \u001b[0mnp\u001b[0m\u001b[0;34m.\u001b[0m\u001b[0mnanmean\u001b[0m\u001b[0;34m(\u001b[0m\u001b[0ma\u001b[0m\u001b[0;34m,\u001b[0m \u001b[0maxis\u001b[0m\u001b[0;34m,\u001b[0m \u001b[0mout\u001b[0m\u001b[0;34m=\u001b[0m\u001b[0mout\u001b[0m\u001b[0;34m,\u001b[0m \u001b[0mkeepdims\u001b[0m\u001b[0;34m=\u001b[0m\u001b[0mkeepdims\u001b[0m\u001b[0;34m)\u001b[0m\u001b[0;34m\u001b[0m\u001b[0;34m\u001b[0m\u001b[0m\n\u001b[0;32m-> 1563\u001b[0;31m     return function_base._ureduce(a,\n\u001b[0m\u001b[1;32m   1564\u001b[0m                                   \u001b[0mfunc\u001b[0m\u001b[0;34m=\u001b[0m\u001b[0m_nanquantile_ureduce_func\u001b[0m\u001b[0;34m,\u001b[0m\u001b[0;34m\u001b[0m\u001b[0;34m\u001b[0m\u001b[0m\n\u001b[1;32m   1565\u001b[0m                                   \u001b[0mq\u001b[0m\u001b[0;34m=\u001b[0m\u001b[0mq\u001b[0m\u001b[0;34m,\u001b[0m\u001b[0;34m\u001b[0m\u001b[0;34m\u001b[0m\u001b[0m\n",
            "\u001b[0;32m/usr/local/lib/python3.10/dist-packages/numpy/lib/function_base.py\u001b[0m in \u001b[0;36m_ureduce\u001b[0;34m(a, func, keepdims, **kwargs)\u001b[0m\n\u001b[1;32m   3821\u001b[0m                 \u001b[0mkwargs\u001b[0m\u001b[0;34m[\u001b[0m\u001b[0;34m'out'\u001b[0m\u001b[0;34m]\u001b[0m \u001b[0;34m=\u001b[0m \u001b[0mout\u001b[0m\u001b[0;34m[\u001b[0m\u001b[0;34m(\u001b[0m\u001b[0mEllipsis\u001b[0m\u001b[0;34m,\u001b[0m \u001b[0;34m)\u001b[0m \u001b[0;34m+\u001b[0m \u001b[0mindex_out\u001b[0m\u001b[0;34m]\u001b[0m\u001b[0;34m\u001b[0m\u001b[0;34m\u001b[0m\u001b[0m\n\u001b[1;32m   3822\u001b[0m \u001b[0;34m\u001b[0m\u001b[0m\n\u001b[0;32m-> 3823\u001b[0;31m     \u001b[0mr\u001b[0m \u001b[0;34m=\u001b[0m \u001b[0mfunc\u001b[0m\u001b[0;34m(\u001b[0m\u001b[0ma\u001b[0m\u001b[0;34m,\u001b[0m \u001b[0;34m**\u001b[0m\u001b[0mkwargs\u001b[0m\u001b[0;34m)\u001b[0m\u001b[0;34m\u001b[0m\u001b[0;34m\u001b[0m\u001b[0m\n\u001b[0m\u001b[1;32m   3824\u001b[0m \u001b[0;34m\u001b[0m\u001b[0m\n\u001b[1;32m   3825\u001b[0m     \u001b[0;32mif\u001b[0m \u001b[0mout\u001b[0m \u001b[0;32mis\u001b[0m \u001b[0;32mnot\u001b[0m \u001b[0;32mNone\u001b[0m\u001b[0;34m:\u001b[0m\u001b[0;34m\u001b[0m\u001b[0;34m\u001b[0m\u001b[0m\n",
            "\u001b[0;32m/usr/local/lib/python3.10/dist-packages/numpy/lib/nanfunctions.py\u001b[0m in \u001b[0;36m_nanquantile_ureduce_func\u001b[0;34m(a, q, axis, out, overwrite_input, method)\u001b[0m\n\u001b[1;32m   1582\u001b[0m         \u001b[0mresult\u001b[0m \u001b[0;34m=\u001b[0m \u001b[0m_nanquantile_1d\u001b[0m\u001b[0;34m(\u001b[0m\u001b[0mpart\u001b[0m\u001b[0;34m,\u001b[0m \u001b[0mq\u001b[0m\u001b[0;34m,\u001b[0m \u001b[0moverwrite_input\u001b[0m\u001b[0;34m,\u001b[0m \u001b[0mmethod\u001b[0m\u001b[0;34m)\u001b[0m\u001b[0;34m\u001b[0m\u001b[0;34m\u001b[0m\u001b[0m\n\u001b[1;32m   1583\u001b[0m     \u001b[0;32melse\u001b[0m\u001b[0;34m:\u001b[0m\u001b[0;34m\u001b[0m\u001b[0;34m\u001b[0m\u001b[0m\n\u001b[0;32m-> 1584\u001b[0;31m         result = np.apply_along_axis(_nanquantile_1d, axis, a, q,\n\u001b[0m\u001b[1;32m   1585\u001b[0m                                      overwrite_input, method)\n\u001b[1;32m   1586\u001b[0m         \u001b[0;31m# apply_along_axis fills in collapsed axis with results.\u001b[0m\u001b[0;34m\u001b[0m\u001b[0;34m\u001b[0m\u001b[0m\n",
            "\u001b[0;32m/usr/local/lib/python3.10/dist-packages/numpy/lib/shape_base.py\u001b[0m in \u001b[0;36mapply_along_axis\u001b[0;34m(func1d, axis, arr, *args, **kwargs)\u001b[0m\n\u001b[1;32m    400\u001b[0m     \u001b[0mbuff\u001b[0m\u001b[0;34m[\u001b[0m\u001b[0mind0\u001b[0m\u001b[0;34m]\u001b[0m \u001b[0;34m=\u001b[0m \u001b[0mres\u001b[0m\u001b[0;34m\u001b[0m\u001b[0;34m\u001b[0m\u001b[0m\n\u001b[1;32m    401\u001b[0m     \u001b[0;32mfor\u001b[0m \u001b[0mind\u001b[0m \u001b[0;32min\u001b[0m \u001b[0minds\u001b[0m\u001b[0;34m:\u001b[0m\u001b[0;34m\u001b[0m\u001b[0;34m\u001b[0m\u001b[0m\n\u001b[0;32m--> 402\u001b[0;31m         \u001b[0mbuff\u001b[0m\u001b[0;34m[\u001b[0m\u001b[0mind\u001b[0m\u001b[0;34m]\u001b[0m \u001b[0;34m=\u001b[0m \u001b[0masanyarray\u001b[0m\u001b[0;34m(\u001b[0m\u001b[0mfunc1d\u001b[0m\u001b[0;34m(\u001b[0m\u001b[0minarr_view\u001b[0m\u001b[0;34m[\u001b[0m\u001b[0mind\u001b[0m\u001b[0;34m]\u001b[0m\u001b[0;34m,\u001b[0m \u001b[0;34m*\u001b[0m\u001b[0margs\u001b[0m\u001b[0;34m,\u001b[0m \u001b[0;34m**\u001b[0m\u001b[0mkwargs\u001b[0m\u001b[0;34m)\u001b[0m\u001b[0;34m)\u001b[0m\u001b[0;34m\u001b[0m\u001b[0;34m\u001b[0m\u001b[0m\n\u001b[0m\u001b[1;32m    403\u001b[0m \u001b[0;34m\u001b[0m\u001b[0m\n\u001b[1;32m    404\u001b[0m     \u001b[0;32mif\u001b[0m \u001b[0;32mnot\u001b[0m \u001b[0misinstance\u001b[0m\u001b[0;34m(\u001b[0m\u001b[0mres\u001b[0m\u001b[0;34m,\u001b[0m \u001b[0mmatrix\u001b[0m\u001b[0;34m)\u001b[0m\u001b[0;34m:\u001b[0m\u001b[0;34m\u001b[0m\u001b[0;34m\u001b[0m\u001b[0m\n",
            "\u001b[0;32m/usr/local/lib/python3.10/dist-packages/numpy/lib/nanfunctions.py\u001b[0m in \u001b[0;36m_nanquantile_1d\u001b[0;34m(arr1d, q, overwrite_input, method)\u001b[0m\n\u001b[1;32m   1606\u001b[0m         \u001b[0;32mreturn\u001b[0m \u001b[0mnp\u001b[0m\u001b[0;34m.\u001b[0m\u001b[0mfull\u001b[0m\u001b[0;34m(\u001b[0m\u001b[0mq\u001b[0m\u001b[0;34m.\u001b[0m\u001b[0mshape\u001b[0m\u001b[0;34m,\u001b[0m \u001b[0mnp\u001b[0m\u001b[0;34m.\u001b[0m\u001b[0mnan\u001b[0m\u001b[0;34m,\u001b[0m \u001b[0mdtype\u001b[0m\u001b[0;34m=\u001b[0m\u001b[0marr1d\u001b[0m\u001b[0;34m.\u001b[0m\u001b[0mdtype\u001b[0m\u001b[0;34m)\u001b[0m\u001b[0;34m[\u001b[0m\u001b[0;34m(\u001b[0m\u001b[0;34m)\u001b[0m\u001b[0;34m]\u001b[0m\u001b[0;34m\u001b[0m\u001b[0;34m\u001b[0m\u001b[0m\n\u001b[1;32m   1607\u001b[0m \u001b[0;34m\u001b[0m\u001b[0m\n\u001b[0;32m-> 1608\u001b[0;31m     return function_base._quantile_unchecked(\n\u001b[0m\u001b[1;32m   1609\u001b[0m         arr1d, q, overwrite_input=overwrite_input, method=method)\n\u001b[1;32m   1610\u001b[0m \u001b[0;34m\u001b[0m\u001b[0m\n",
            "\u001b[0;32m/usr/local/lib/python3.10/dist-packages/numpy/lib/function_base.py\u001b[0m in \u001b[0;36m_quantile_unchecked\u001b[0;34m(a, q, axis, out, overwrite_input, method, keepdims)\u001b[0m\n\u001b[1;32m   4553\u001b[0m                         keepdims=False):\n\u001b[1;32m   4554\u001b[0m     \u001b[0;34m\"\"\"Assumes that q is in [0, 1], and is an ndarray\"\"\"\u001b[0m\u001b[0;34m\u001b[0m\u001b[0;34m\u001b[0m\u001b[0m\n\u001b[0;32m-> 4555\u001b[0;31m     return _ureduce(a,\n\u001b[0m\u001b[1;32m   4556\u001b[0m                     \u001b[0mfunc\u001b[0m\u001b[0;34m=\u001b[0m\u001b[0m_quantile_ureduce_func\u001b[0m\u001b[0;34m,\u001b[0m\u001b[0;34m\u001b[0m\u001b[0;34m\u001b[0m\u001b[0m\n\u001b[1;32m   4557\u001b[0m                     \u001b[0mq\u001b[0m\u001b[0;34m=\u001b[0m\u001b[0mq\u001b[0m\u001b[0;34m,\u001b[0m\u001b[0;34m\u001b[0m\u001b[0;34m\u001b[0m\u001b[0m\n",
            "\u001b[0;32m/usr/local/lib/python3.10/dist-packages/numpy/lib/function_base.py\u001b[0m in \u001b[0;36m_ureduce\u001b[0;34m(a, func, keepdims, **kwargs)\u001b[0m\n\u001b[1;32m   3821\u001b[0m                 \u001b[0mkwargs\u001b[0m\u001b[0;34m[\u001b[0m\u001b[0;34m'out'\u001b[0m\u001b[0;34m]\u001b[0m \u001b[0;34m=\u001b[0m \u001b[0mout\u001b[0m\u001b[0;34m[\u001b[0m\u001b[0;34m(\u001b[0m\u001b[0mEllipsis\u001b[0m\u001b[0;34m,\u001b[0m \u001b[0;34m)\u001b[0m \u001b[0;34m+\u001b[0m \u001b[0mindex_out\u001b[0m\u001b[0;34m]\u001b[0m\u001b[0;34m\u001b[0m\u001b[0;34m\u001b[0m\u001b[0m\n\u001b[1;32m   3822\u001b[0m \u001b[0;34m\u001b[0m\u001b[0m\n\u001b[0;32m-> 3823\u001b[0;31m     \u001b[0mr\u001b[0m \u001b[0;34m=\u001b[0m \u001b[0mfunc\u001b[0m\u001b[0;34m(\u001b[0m\u001b[0ma\u001b[0m\u001b[0;34m,\u001b[0m \u001b[0;34m**\u001b[0m\u001b[0mkwargs\u001b[0m\u001b[0;34m)\u001b[0m\u001b[0;34m\u001b[0m\u001b[0;34m\u001b[0m\u001b[0m\n\u001b[0m\u001b[1;32m   3824\u001b[0m \u001b[0;34m\u001b[0m\u001b[0m\n\u001b[1;32m   3825\u001b[0m     \u001b[0;32mif\u001b[0m \u001b[0mout\u001b[0m \u001b[0;32mis\u001b[0m \u001b[0;32mnot\u001b[0m \u001b[0;32mNone\u001b[0m\u001b[0;34m:\u001b[0m\u001b[0;34m\u001b[0m\u001b[0;34m\u001b[0m\u001b[0m\n",
            "\u001b[0;32m/usr/local/lib/python3.10/dist-packages/numpy/lib/function_base.py\u001b[0m in \u001b[0;36m_quantile_ureduce_func\u001b[0;34m(a, q, axis, out, overwrite_input, method)\u001b[0m\n\u001b[1;32m   4720\u001b[0m         \u001b[0;32melse\u001b[0m\u001b[0;34m:\u001b[0m\u001b[0;34m\u001b[0m\u001b[0;34m\u001b[0m\u001b[0m\n\u001b[1;32m   4721\u001b[0m             \u001b[0marr\u001b[0m \u001b[0;34m=\u001b[0m \u001b[0ma\u001b[0m\u001b[0;34m.\u001b[0m\u001b[0mcopy\u001b[0m\u001b[0;34m(\u001b[0m\u001b[0;34m)\u001b[0m\u001b[0;34m\u001b[0m\u001b[0;34m\u001b[0m\u001b[0m\n\u001b[0;32m-> 4722\u001b[0;31m     result = _quantile(arr,\n\u001b[0m\u001b[1;32m   4723\u001b[0m                        \u001b[0mquantiles\u001b[0m\u001b[0;34m=\u001b[0m\u001b[0mq\u001b[0m\u001b[0;34m,\u001b[0m\u001b[0;34m\u001b[0m\u001b[0;34m\u001b[0m\u001b[0m\n\u001b[1;32m   4724\u001b[0m                        \u001b[0maxis\u001b[0m\u001b[0;34m=\u001b[0m\u001b[0maxis\u001b[0m\u001b[0;34m,\u001b[0m\u001b[0;34m\u001b[0m\u001b[0;34m\u001b[0m\u001b[0m\n",
            "\u001b[0;32m/usr/local/lib/python3.10/dist-packages/numpy/lib/function_base.py\u001b[0m in \u001b[0;36m_quantile\u001b[0;34m(arr, quantiles, axis, method, out)\u001b[0m\n\u001b[1;32m   4834\u001b[0m         \u001b[0;31m# --- Get values from indexes\u001b[0m\u001b[0;34m\u001b[0m\u001b[0;34m\u001b[0m\u001b[0m\n\u001b[1;32m   4835\u001b[0m         \u001b[0mprevious\u001b[0m \u001b[0;34m=\u001b[0m \u001b[0marr\u001b[0m\u001b[0;34m[\u001b[0m\u001b[0mprevious_indexes\u001b[0m\u001b[0;34m]\u001b[0m\u001b[0;34m\u001b[0m\u001b[0;34m\u001b[0m\u001b[0m\n\u001b[0;32m-> 4836\u001b[0;31m         \u001b[0mnext\u001b[0m \u001b[0;34m=\u001b[0m \u001b[0marr\u001b[0m\u001b[0;34m[\u001b[0m\u001b[0mnext_indexes\u001b[0m\u001b[0;34m]\u001b[0m\u001b[0;34m\u001b[0m\u001b[0;34m\u001b[0m\u001b[0m\n\u001b[0m\u001b[1;32m   4837\u001b[0m         \u001b[0;31m# --- Linear interpolation\u001b[0m\u001b[0;34m\u001b[0m\u001b[0;34m\u001b[0m\u001b[0m\n\u001b[1;32m   4838\u001b[0m         \u001b[0mgamma\u001b[0m \u001b[0;34m=\u001b[0m \u001b[0m_get_gamma\u001b[0m\u001b[0;34m(\u001b[0m\u001b[0mvirtual_indexes\u001b[0m\u001b[0;34m,\u001b[0m \u001b[0mprevious_indexes\u001b[0m\u001b[0;34m,\u001b[0m \u001b[0mmethod\u001b[0m\u001b[0;34m)\u001b[0m\u001b[0;34m\u001b[0m\u001b[0;34m\u001b[0m\u001b[0m\n",
            "\u001b[0;32m/usr/local/lib/python3.10/dist-packages/cudf/pandas/fast_slow_proxy.py\u001b[0m in \u001b[0;36m__call__\u001b[0;34m(self, *args, **kwargs)\u001b[0m\n\u001b[1;32m    695\u001b[0m \u001b[0;34m\u001b[0m\u001b[0m\n\u001b[1;32m    696\u001b[0m     \u001b[0;32mdef\u001b[0m \u001b[0m__call__\u001b[0m\u001b[0;34m(\u001b[0m\u001b[0mself\u001b[0m\u001b[0;34m,\u001b[0m \u001b[0;34m*\u001b[0m\u001b[0margs\u001b[0m\u001b[0;34m,\u001b[0m \u001b[0;34m**\u001b[0m\u001b[0mkwargs\u001b[0m\u001b[0;34m)\u001b[0m \u001b[0;34m->\u001b[0m \u001b[0mAny\u001b[0m\u001b[0;34m:\u001b[0m\u001b[0;34m\u001b[0m\u001b[0;34m\u001b[0m\u001b[0m\n\u001b[0;32m--> 697\u001b[0;31m         result, _ = _fast_slow_function_call(\n\u001b[0m\u001b[1;32m    698\u001b[0m             \u001b[0;31m# We cannot directly call self here because we need it to be\u001b[0m\u001b[0;34m\u001b[0m\u001b[0;34m\u001b[0m\u001b[0m\n\u001b[1;32m    699\u001b[0m             \u001b[0;31m# converted into either the fast or slow object (by\u001b[0m\u001b[0;34m\u001b[0m\u001b[0;34m\u001b[0m\u001b[0m\n",
            "\u001b[0;32m/usr/local/lib/python3.10/dist-packages/cudf/pandas/fast_slow_proxy.py\u001b[0m in \u001b[0;36m_fast_slow_function_call\u001b[0;34m(func, *args, **kwargs)\u001b[0m\n\u001b[1;32m    981\u001b[0m             \u001b[0;32mwith\u001b[0m \u001b[0mdisable_module_accelerator\u001b[0m\u001b[0;34m(\u001b[0m\u001b[0;34m)\u001b[0m\u001b[0;34m:\u001b[0m\u001b[0;34m\u001b[0m\u001b[0;34m\u001b[0m\u001b[0m\n\u001b[1;32m    982\u001b[0m                 \u001b[0mresult\u001b[0m \u001b[0;34m=\u001b[0m \u001b[0mfunc\u001b[0m\u001b[0;34m(\u001b[0m\u001b[0;34m*\u001b[0m\u001b[0mslow_args\u001b[0m\u001b[0;34m,\u001b[0m \u001b[0;34m**\u001b[0m\u001b[0mslow_kwargs\u001b[0m\u001b[0;34m)\u001b[0m\u001b[0;34m\u001b[0m\u001b[0;34m\u001b[0m\u001b[0m\n\u001b[0;32m--> 983\u001b[0;31m     \u001b[0;32mreturn\u001b[0m \u001b[0m_maybe_wrap_result\u001b[0m\u001b[0;34m(\u001b[0m\u001b[0mresult\u001b[0m\u001b[0;34m,\u001b[0m \u001b[0mfunc\u001b[0m\u001b[0;34m,\u001b[0m \u001b[0;34m*\u001b[0m\u001b[0margs\u001b[0m\u001b[0;34m,\u001b[0m \u001b[0;34m**\u001b[0m\u001b[0mkwargs\u001b[0m\u001b[0;34m)\u001b[0m\u001b[0;34m,\u001b[0m \u001b[0mfast\u001b[0m\u001b[0;34m\u001b[0m\u001b[0;34m\u001b[0m\u001b[0m\n\u001b[0m\u001b[1;32m    984\u001b[0m \u001b[0;34m\u001b[0m\u001b[0m\n\u001b[1;32m    985\u001b[0m \u001b[0;34m\u001b[0m\u001b[0m\n",
            "\u001b[0;32m/usr/local/lib/python3.10/dist-packages/cudf/pandas/fast_slow_proxy.py\u001b[0m in \u001b[0;36m_maybe_wrap_result\u001b[0;34m(result, func, *args, **kwargs)\u001b[0m\n\u001b[1;32m   1102\u001b[0m     \u001b[0;32mif\u001b[0m \u001b[0m_is_final_type\u001b[0m\u001b[0;34m(\u001b[0m\u001b[0mresult\u001b[0m\u001b[0;34m)\u001b[0m\u001b[0;34m:\u001b[0m\u001b[0;34m\u001b[0m\u001b[0;34m\u001b[0m\u001b[0m\n\u001b[1;32m   1103\u001b[0m         \u001b[0mtyp\u001b[0m \u001b[0;34m=\u001b[0m \u001b[0mget_final_type_map\u001b[0m\u001b[0;34m(\u001b[0m\u001b[0;34m)\u001b[0m\u001b[0;34m[\u001b[0m\u001b[0mtype\u001b[0m\u001b[0;34m(\u001b[0m\u001b[0mresult\u001b[0m\u001b[0;34m)\u001b[0m\u001b[0;34m]\u001b[0m\u001b[0;34m\u001b[0m\u001b[0;34m\u001b[0m\u001b[0m\n\u001b[0;32m-> 1104\u001b[0;31m         \u001b[0;32mreturn\u001b[0m \u001b[0mtyp\u001b[0m\u001b[0;34m.\u001b[0m\u001b[0m_fsproxy_wrap\u001b[0m\u001b[0;34m(\u001b[0m\u001b[0mresult\u001b[0m\u001b[0;34m,\u001b[0m \u001b[0mfunc\u001b[0m\u001b[0;34m)\u001b[0m\u001b[0;34m\u001b[0m\u001b[0;34m\u001b[0m\u001b[0m\n\u001b[0m\u001b[1;32m   1105\u001b[0m     \u001b[0;32melif\u001b[0m \u001b[0m_is_intermediate_type\u001b[0m\u001b[0;34m(\u001b[0m\u001b[0mresult\u001b[0m\u001b[0;34m)\u001b[0m\u001b[0;34m:\u001b[0m\u001b[0;34m\u001b[0m\u001b[0;34m\u001b[0m\u001b[0m\n\u001b[1;32m   1106\u001b[0m         \u001b[0mtyp\u001b[0m \u001b[0;34m=\u001b[0m \u001b[0mget_intermediate_type_map\u001b[0m\u001b[0;34m(\u001b[0m\u001b[0;34m)\u001b[0m\u001b[0;34m[\u001b[0m\u001b[0mtype\u001b[0m\u001b[0;34m(\u001b[0m\u001b[0mresult\u001b[0m\u001b[0;34m)\u001b[0m\u001b[0;34m]\u001b[0m\u001b[0;34m\u001b[0m\u001b[0;34m\u001b[0m\u001b[0m\n",
            "\u001b[0;32m/usr/local/lib/python3.10/dist-packages/cudf/pandas/_wrappers/numpy.py\u001b[0m in \u001b[0;36mwrap_ndarray\u001b[0;34m(cls, arr, constructor)\u001b[0m\n\u001b[1;32m     96\u001b[0m         \u001b[0;32mand\u001b[0m \u001b[0mconstructor\u001b[0m \u001b[0;32mnot\u001b[0m \u001b[0;32min\u001b[0m \u001b[0m_CONSTRUCTORS\u001b[0m\u001b[0;34m\u001b[0m\u001b[0;34m\u001b[0m\u001b[0m\n\u001b[1;32m     97\u001b[0m     ):\n\u001b[0;32m---> 98\u001b[0;31m         \u001b[0;32mreturn\u001b[0m \u001b[0marr\u001b[0m\u001b[0;34m.\u001b[0m\u001b[0mdtype\u001b[0m\u001b[0;34m.\u001b[0m\u001b[0mtype\u001b[0m\u001b[0;34m(\u001b[0m\u001b[0marr\u001b[0m\u001b[0;34m.\u001b[0m\u001b[0mitem\u001b[0m\u001b[0;34m(\u001b[0m\u001b[0;34m)\u001b[0m\u001b[0;34m)\u001b[0m\u001b[0;34m\u001b[0m\u001b[0;34m\u001b[0m\u001b[0m\n\u001b[0m\u001b[1;32m     99\u001b[0m     \u001b[0;32melse\u001b[0m\u001b[0;34m:\u001b[0m\u001b[0;34m\u001b[0m\u001b[0;34m\u001b[0m\u001b[0m\n\u001b[1;32m    100\u001b[0m         \u001b[0;31m# Note, this super call means that the constructed ndarray\u001b[0m\u001b[0;34m\u001b[0m\u001b[0;34m\u001b[0m\u001b[0m\n",
            "\u001b[0;31mKeyboardInterrupt\u001b[0m: "
          ]
        }
      ],
      "source": [
        "print(\"Creating statistical features...\")\n",
        "train_stats = create_statistical_features_optimized(train, numeric_cols)\n",
        "test_stats = create_statistical_features_optimized(test, numeric_cols)\n",
        "\n"
      ]
    },
    {
      "cell_type": "code",
      "execution_count": null,
      "metadata": {
        "colab": {
          "base_uri": "https://localhost:8080/"
        },
        "id": "o223c_wV9Syd",
        "outputId": "d0b5c82e-8442-4c0b-f6c0-9f4ebc07a9e3"
      },
      "outputs": [
        {
          "ename": "NameError",
          "evalue": "name 'extract_word_parts' is not defined",
          "output_type": "error",
          "traceback": [
            "\u001b[0;31m---------------------------------------------------------------------------\u001b[0m",
            "\u001b[0;31mNameError\u001b[0m                                 Traceback (most recent call last)",
            "\u001b[0;32m<ipython-input-23-8555f8bfa446>\u001b[0m in \u001b[0;36m<cell line: 2>\u001b[0;34m()\u001b[0m\n\u001b[1;32m      1\u001b[0m \u001b[0;31m# Basic feature extraction\u001b[0m\u001b[0;34m\u001b[0m\u001b[0;34m\u001b[0m\u001b[0m\n\u001b[0;32m----> 2\u001b[0;31m \u001b[0mtrain_word_features\u001b[0m \u001b[0;34m=\u001b[0m \u001b[0mextract_word_parts\u001b[0m\u001b[0;34m(\u001b[0m\u001b[0mtrain\u001b[0m\u001b[0;34m)\u001b[0m\u001b[0;34m\u001b[0m\u001b[0;34m\u001b[0m\u001b[0m\n\u001b[0m\u001b[1;32m      3\u001b[0m \u001b[0mtest_word_features\u001b[0m \u001b[0;34m=\u001b[0m \u001b[0mextract_word_parts\u001b[0m\u001b[0;34m(\u001b[0m\u001b[0mtest\u001b[0m\u001b[0;34m)\u001b[0m\u001b[0;34m\u001b[0m\u001b[0;34m\u001b[0m\u001b[0m\n",
            "\u001b[0;31mNameError\u001b[0m: name 'extract_word_parts' is not defined"
          ]
        }
      ],
      "source": [
        "# Basic feature extraction\n",
        "train_word_features = extract_word_parts(train)\n",
        "test_word_features = extract_word_parts(test)"
      ]
    },
    {
      "cell_type": "code",
      "execution_count": null,
      "metadata": {
        "id": "brorvyN39UL1"
      },
      "outputs": [],
      "source": [
        "train_flags = create_binary_flags(train)\n",
        "test_flags = create_binary_flags(test)\n"
      ]
    },
    {
      "cell_type": "code",
      "execution_count": null,
      "metadata": {
        "id": "RiTiWJDC9V-_"
      },
      "outputs": [],
      "source": [
        "# Create interaction features (with rounding)\n",
        "train_interactions = create_interaction_features(train, numeric_cols[:10])\n",
        "test_interactions = create_interaction_features(test, numeric_cols[:10])\n"
      ]
    },
    {
      "cell_type": "code",
      "execution_count": null,
      "metadata": {
        "id": "nqgy4hOm9Xzo"
      },
      "outputs": [],
      "source": [
        "# Round interaction features\n",
        "train_interactions = round_float_columns(train_interactions)\n",
        "test_interactions = round_float_columns(test_interactions)\n"
      ]
    },
    {
      "cell_type": "code",
      "execution_count": null,
      "metadata": {
        "id": "1CUnX-9krvei"
      },
      "outputs": [],
      "source": [
        "\n",
        "# Combine all features\n",
        "features = train.drop(['id', 'y'], axis=1)\n",
        "test_features = test.drop(['id'], axis=1)"
      ]
    },
    {
      "cell_type": "code",
      "execution_count": null,
      "metadata": {
        "id": "Vp75lkbJ9bgq"
      },
      "outputs": [],
      "source": [
        "# Label Encoding for categorical columns\n",
        "categorical_cols = features.select_dtypes(include=['object']).columns\n",
        "le = LabelEncoder()\n",
        "for col in categorical_cols:\n",
        "    features[col] = le.fit_transform(features[col].astype(str))\n",
        "    if col in test_features.columns:\n",
        "        test_features[col] = le.transform(test_features[col].astype(str))\n"
      ]
    },
    {
      "cell_type": "code",
      "execution_count": null,
      "metadata": {
        "id": "_JE3KM449eOU"
      },
      "outputs": [],
      "source": [
        "# Combine all feature sets\n",
        "features = pd.concat([\n",
        "    features,\n",
        "    train_word_features,\n",
        "    train_flags,\n",
        "    train_stats,\n",
        "    train_interactions,\n",
        "    train_bins\n",
        "], axis=1)\n",
        "\n",
        "test_features = pd.concat([\n",
        "    test_features,\n",
        "    test_word_features,\n",
        "    test_flags,\n",
        "    test_stats,\n",
        "    test_interactions,\n",
        "    test_bins\n",
        "], axis=1)"
      ]
    },
    {
      "cell_type": "code",
      "execution_count": null,
      "metadata": {
        "id": "duNa3zsk9i1A"
      },
      "outputs": [],
      "source": [
        "scaler = StandardScaler()\n",
        "numeric_features = features.select_dtypes(include=['int64', 'float64']).columns\n",
        "features[numeric_features] = scaler.fit_transform(features[numeric_features])\n",
        "test_features[numeric_features] = scaler.transform(test_features[numeric_features])\n"
      ]
    },
    {
      "cell_type": "code",
      "execution_count": null,
      "metadata": {
        "id": "zRKd0zX-9kai"
      },
      "outputs": [],
      "source": [
        "\n",
        "# Round scaled features\n",
        "features = round_float_columns(features)\n",
        "test_features = round_float_columns(test_features)\n"
      ]
    },
    {
      "cell_type": "code",
      "execution_count": null,
      "metadata": {
        "id": "gUM9zd4a9m_s"
      },
      "outputs": [],
      "source": [
        "# Feature selection\n",
        "selected_features = select_features(features, target, k=min(100, features.shape[1]))\n",
        "features = features.loc[:, selected_features]\n",
        "test_features = test_features.loc[:, selected_features]\n",
        "\n",
        "# Split data\n",
        "X_train, X_valid, y_train, y_valid = train_test_split(features, target, test_size=0.2, random_state=42)\n",
        "\n",
        "# Convert to NumPy arrays\n",
        "X_train = X_train.values\n",
        "y_train = y_train.values\n",
        "X_valid = X_valid.values\n",
        "y_valid = y_valid.values\n"
      ]
    },
    {
      "cell_type": "code",
      "execution_count": null,
      "metadata": {
        "colab": {
          "base_uri": "https://localhost:8080/"
        },
        "collapsed": true,
        "id": "o0TBlshxr-Qy",
        "outputId": "7bd13a9e-5902-4039-c050-a584500020af"
      },
      "outputs": [
        {
          "name": "stdout",
          "output_type": "stream",
          "text": [
            "Training until validation scores don't improve for 50 rounds\n",
            "[100]\tvalid_0's rmse: 643.501\n",
            "[200]\tvalid_0's rmse: 643.037\n",
            "[300]\tvalid_0's rmse: 642.911\n",
            "[400]\tvalid_0's rmse: 642.854\n",
            "[500]\tvalid_0's rmse: 642.821\n",
            "[600]\tvalid_0's rmse: 642.796\n",
            "[700]\tvalid_0's rmse: 642.79\n",
            "[800]\tvalid_0's rmse: 642.78\n",
            "[900]\tvalid_0's rmse: 642.772\n",
            "Early stopping, best iteration is:\n",
            "[921]\tvalid_0's rmse: 642.77\n"
          ]
        }
      ],
      "source": [
        "# LightGBM Dataset Construction\n",
        "lgb_train = lgb.Dataset(X_train, y_train, free_raw_data=False)\n",
        "lgb_valid = lgb.Dataset(X_valid, y_valid, reference=lgb_train, free_raw_data=False)\n",
        "\n",
        "# Set LightGBM Parameters\n",
        "params = {\n",
        "    'objective': 'regression',\n",
        "    'metric': 'rmse',\n",
        "    'boosting_type': 'gbdt',\n",
        "    'gpu_platform_id': 0,  # Specify GPU platform (optional, depending on the setup)\n",
        "    'gpu_device_id': 0,    # Specify GPU device ID (optional, depending on the setup)\n",
        "    'learning_rate': 0.1,\n",
        "    'max_depth': -1,\n",
        "    'num_leaves': 31,\n",
        "    'verbose': -1,\n",
        "    'device': 'gpu',  # Enable GPU with CUDA for faster training  # Utilize GPU for faster training if available\n",
        "}\n",
        "\n",
        "# Train LightGBM Model with Callbacks\n",
        "callbacks = [\n",
        "    lgb.early_stopping(stopping_rounds=50),\n",
        "    lgb.log_evaluation(period=100)\n",
        "]\n",
        "\n",
        "model = lgb.train(params, lgb_train, num_boost_round=1000, valid_sets=[lgb_valid], callbacks=callbacks)\n"
      ]
    },
    {
      "cell_type": "code",
      "execution_count": null,
      "metadata": {
        "colab": {
          "base_uri": "https://localhost:8080/"
        },
        "id": "ppHlV0NwwUCl",
        "outputId": "cc4075c7-c56c-4a64-8d3c-8fbad7fa46ad"
      },
      "outputs": [
        {
          "name": "stdout",
          "output_type": "stream",
          "text": [
            "Validation RMSE: 642.7704077659927\n"
          ]
        }
      ],
      "source": [
        "# Feature importance analysis\n",
        "feature_importance = pd.DataFrame({\n",
        "    'feature': features.columns,\n",
        "    'importance': model.feature_importance()\n",
        "})\n",
        "print(\"\\nTop 10 Most Important Features:\")\n",
        "print(feature_importance.sort_values('importance', ascending=False).head(10))\n",
        "\n",
        "# Evaluate and predict\n",
        "y_pred_valid = model.predict(X_valid, num_iteration=model.best_iteration)\n",
        "rmse_valid = np.sqrt(mean_squared_error(y_valid, y_pred_valid))\n",
        "print(f'\\nValidation RMSE: {rmse_valid}')\n",
        "\n",
        "# Predict on Test Set\n",
        "test_features = test_features.values\n",
        "test_preds = model.predict(test_features, num_iteration=model.best_iteration)\n",
        "\n",
        "# Round predictions to 2 decimal places\n",
        "# test_preds = np.round(test_preds, 2)"
      ]
    },
    {
      "cell_type": "code",
      "execution_count": null,
      "metadata": {
        "colab": {
          "base_uri": "https://localhost:8080/"
        },
        "id": "AceMUWkFwijP",
        "outputId": "49ea7a4d-7b31-473e-c983-93c6b3852b01"
      },
      "outputs": [
        {
          "name": "stdout",
          "output_type": "stream",
          "text": [
            "Submission saved as 'submission.csv'\n"
          ]
        }
      ],
      "source": [
        "# Create Submission File\n",
        "submission = pd.DataFrame({'id': test['id'], 'y': test_preds})\n",
        "submission.to_csv('submission.csv', index=False)\n",
        "\n",
        "print(\"Submission saved as 'submission.csv'\")\n"
      ]
    },
    {
      "cell_type": "code",
      "execution_count": null,
      "metadata": {
        "colab": {
          "base_uri": "https://localhost:8080/"
        },
        "id": "03Y0rtLYwkPn",
        "outputId": "dd950a98-08fb-4f31-bc3b-3494220ecfa4"
      },
      "outputs": [
        {
          "name": "stdout",
          "output_type": "stream",
          "text": [
            "Number of rows in submission.csv: 1000000\n"
          ]
        }
      ],
      "source": [
        "# prompt: read submission.csv and count the number of rows\n",
        "\n",
        "submission = pd.read_csv('submission.csv')\n",
        "num_rows = len(submission)\n",
        "print(f\"Number of rows in submission.csv: {num_rows}\")"
      ]
    },
    {
      "cell_type": "code",
      "execution_count": 29,
      "metadata": {
        "colab": {
          "base_uri": "https://localhost:8080/"
        },
        "id": "6jKA8Jjzw1pn",
        "outputId": "b87d2a3d-3f31-4999-ea11-a78dd6c4aa31"
      },
      "outputs": [
        {
          "output_type": "stream",
          "name": "stdout",
          "text": [
            "100% 17.1M/17.1M [00:00<00:00, 33.1MB/s]\n",
            "Successfully submitted to 🎃 Spooktacular NVIDIA Data Science Competition"
          ]
        }
      ],
      "source": [
        "# prompt: kaggle competitions ubmit -c odsc-2024-nvidia-hackathon -f submission.csv -m \"First submission using 1M rows of training\"\n",
        "\n",
        "!kaggle competitions submit -c odsc-2024-nvidia-hackathon -f submission.csv -m \"Third Submission\"\n"
      ]
    }
  ],
  "metadata": {
    "accelerator": "GPU",
    "colab": {
      "gpuType": "A100",
      "provenance": [],
      "include_colab_link": true
    },
    "kernelspec": {
      "display_name": "Python 3",
      "name": "python3"
    },
    "language_info": {
      "name": "python"
    }
  },
  "nbformat": 4,
  "nbformat_minor": 0
}