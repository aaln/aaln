{
  "nbformat": 4,
  "nbformat_minor": 0,
  "metadata": {
    "colab": {
      "provenance": [],
      "gpuType": "A100",
      "include_colab_link": true
    },
    "kernelspec": {
      "name": "python3",
      "display_name": "Python 3"
    },
    "language_info": {
      "name": "python"
    },
    "accelerator": "GPU"
  },
  "cells": [
    {
      "cell_type": "markdown",
      "metadata": {
        "id": "view-in-github",
        "colab_type": "text"
      },
      "source": [
        "<a href=\"https://colab.research.google.com/github/aaln/aaln/blob/main/rapids_cudf_pandas_accelerator_mode.ipynb\" target=\"_parent\"><img src=\"https://colab.research.google.com/assets/colab-badge.svg\" alt=\"Open In Colab\"/></a>"
      ]
    },
    {
      "cell_type": "markdown",
      "source": [
        "# 10 Minutes to RAPIDS cuDF's pandas accelerator mode (cudf.pandas)\n",
        "\n",
        "cuDF is a Python GPU DataFrame library (built on the Apache Arrow columnar memory format) for loading, joining, aggregating, filtering, and otherwise manipulating tabular data using a DataFrame style API in the style of pandas.\n",
        "\n",
        "cuDF now provides a pandas accelerator mode (`cudf.pandas`), allowing you to bring accelerated computing to your pandas workflows without requiring any code change.\n",
        "\n",
        "This notebook is a short introduction to `cudf.pandas`."
      ],
      "metadata": {
        "id": "kcF9ZWvjSybR"
      }
    },
    {
      "cell_type": "markdown",
      "source": [
        "# ⚠️ Verify your setup\n",
        "\n",
        "First, we'll verify that you are running with an NVIDIA GPU."
      ],
      "metadata": {
        "id": "SH_h6ci1Sx0u"
      }
    },
    {
      "cell_type": "code",
      "execution_count": 4,
      "metadata": {
        "colab": {
          "base_uri": "https://localhost:8080/"
        },
        "id": "Y2vPCtXcCvUR",
        "outputId": "0f4d427b-5e4e-4afb-80cf-7874a70578a0"
      },
      "outputs": [
        {
          "output_type": "stream",
          "name": "stdout",
          "text": [
            "Wed Oct 30 18:13:07 2024       \n",
            "+---------------------------------------------------------------------------------------+\n",
            "| NVIDIA-SMI 535.104.05             Driver Version: 535.104.05   CUDA Version: 12.2     |\n",
            "|-----------------------------------------+----------------------+----------------------+\n",
            "| GPU  Name                 Persistence-M | Bus-Id        Disp.A | Volatile Uncorr. ECC |\n",
            "| Fan  Temp   Perf          Pwr:Usage/Cap |         Memory-Usage | GPU-Util  Compute M. |\n",
            "|                                         |                      |               MIG M. |\n",
            "|=========================================+======================+======================|\n",
            "|   0  Tesla T4                       Off | 00000000:00:04.0 Off |                    0 |\n",
            "| N/A   40C    P8               9W /  70W |      3MiB / 15360MiB |      0%      Default |\n",
            "|                                         |                      |                  N/A |\n",
            "+-----------------------------------------+----------------------+----------------------+\n",
            "                                                                                         \n",
            "+---------------------------------------------------------------------------------------+\n",
            "| Processes:                                                                            |\n",
            "|  GPU   GI   CI        PID   Type   Process name                            GPU Memory |\n",
            "|        ID   ID                                                             Usage      |\n",
            "|=======================================================================================|\n",
            "|  No running processes found                                                           |\n",
            "+---------------------------------------------------------------------------------------+\n"
          ]
        }
      ],
      "source": [
        "!nvidia-smi  # this should display information about available GPUs"
      ]
    },
    {
      "cell_type": "code",
      "source": [
        "get_ipython().kernel.do_shutdown(restart=True)"
      ],
      "metadata": {
        "id": "5duS0Nx7zLel",
        "outputId": "7f47194d-a617-4494-fc33-af6471e827ec",
        "colab": {
          "base_uri": "https://localhost:8080/"
        }
      },
      "execution_count": 24,
      "outputs": [
        {
          "output_type": "execute_result",
          "data": {
            "text/plain": [
              "{'status': 'ok', 'restart': True}"
            ]
          },
          "metadata": {},
          "execution_count": 24
        }
      ]
    },
    {
      "cell_type": "markdown",
      "source": [
        "With our GPU-enabled Colab runtime active, we're ready to go. cuDF is available by default in the GPU-enabled runtime.\n",
        "\n",
        "If you're interested in installing on other platforms, please visit https://rapids.ai/#quick-start to learn more."
      ],
      "metadata": {
        "id": "KP0oc3PboQDv"
      }
    },
    {
      "cell_type": "code",
      "source": [
        "import locale\n",
        "locale.getpreferredencoding = lambda: \"UTF-8\"\n",
        "# Installing GPU driver for LightGBM:-\n",
        "!mkdir -p /etc/OpenCL/vendors && echo \"libnvidia-opencl.so.1\" > /etc/OpenCL/vendors/nvidia.icd\n",
        "!sudo apt install nvidia-driver-460 nvidia-cuda-toolkit clinfo\n",
        "!apt-get update --fix-missing\n",
        "!pip install -q  lightgbm==4.1.0 \\\n",
        "  --config-settings=cmake.define.USE_GPU=ON \\\n",
        "  --config-settings=cmake.define.OpenCL_INCLUDE_DIR=\"/usr/local/cuda/include/\" \\\n",
        "  --config-settings=cmake.define.OpenCL_LIBRARY=\"/usr/local/cuda/lib64/libOpenCL.so\""
      ],
      "metadata": {
        "id": "RGDhiXJK_3cz"
      },
      "execution_count": null,
      "outputs": []
    },
    {
      "cell_type": "code",
      "source": [
        "%load_ext cudf.pandas\n",
        "\n",
        "import cudf  # this should work without any errors\n",
        "import cupy as cp\n",
        "import lightgbm as lgb\n",
        "import pandas as pd\n",
        "import numpy as np\n",
        "\n",
        "\n",
        "from sklearn.model_selection import train_test_split\n",
        "from sklearn.metrics import mean_squared_error\n",
        "\n"
      ],
      "metadata": {
        "id": "zhPt4Xj8THgo",
        "outputId": "56b4acf4-6d0b-4fbe-80bb-407a173f7578",
        "colab": {
          "base_uri": "https://localhost:8080/"
        }
      },
      "execution_count": 2,
      "outputs": [
        {
          "output_type": "stream",
          "name": "stderr",
          "text": [
            "/usr/local/lib/python3.10/dist-packages/dask/dataframe/__init__.py:42: FutureWarning: \n",
            "Dask dataframe query planning is disabled because dask-expr is not installed.\n",
            "\n",
            "You can install it with `pip install dask[dataframe]` or `conda install dask`.\n",
            "This will raise in a future version.\n",
            "\n",
            "  warnings.warn(msg, FutureWarning)\n"
          ]
        }
      ]
    },
    {
      "cell_type": "code",
      "source": [
        "from google.colab import files\n",
        "files.upload()  # Select kaggle.json from your local files (the api key)"
      ],
      "metadata": {
        "id": "7B1QOEWPpyvF",
        "outputId": "52e6c1dc-59fa-4f2c-9441-43f222c4084a",
        "colab": {
          "base_uri": "https://localhost:8080/",
          "height": 92
        }
      },
      "execution_count": 3,
      "outputs": [
        {
          "output_type": "display_data",
          "data": {
            "text/plain": [
              "<IPython.core.display.HTML object>"
            ],
            "text/html": [
              "\n",
              "     <input type=\"file\" id=\"files-0ab4f61e-c0c7-4c95-9771-99030733109f\" name=\"files[]\" multiple disabled\n",
              "        style=\"border:none\" />\n",
              "     <output id=\"result-0ab4f61e-c0c7-4c95-9771-99030733109f\">\n",
              "      Upload widget is only available when the cell has been executed in the\n",
              "      current browser session. Please rerun this cell to enable.\n",
              "      </output>\n",
              "      <script>// Copyright 2017 Google LLC\n",
              "//\n",
              "// Licensed under the Apache License, Version 2.0 (the \"License\");\n",
              "// you may not use this file except in compliance with the License.\n",
              "// You may obtain a copy of the License at\n",
              "//\n",
              "//      http://www.apache.org/licenses/LICENSE-2.0\n",
              "//\n",
              "// Unless required by applicable law or agreed to in writing, software\n",
              "// distributed under the License is distributed on an \"AS IS\" BASIS,\n",
              "// WITHOUT WARRANTIES OR CONDITIONS OF ANY KIND, either express or implied.\n",
              "// See the License for the specific language governing permissions and\n",
              "// limitations under the License.\n",
              "\n",
              "/**\n",
              " * @fileoverview Helpers for google.colab Python module.\n",
              " */\n",
              "(function(scope) {\n",
              "function span(text, styleAttributes = {}) {\n",
              "  const element = document.createElement('span');\n",
              "  element.textContent = text;\n",
              "  for (const key of Object.keys(styleAttributes)) {\n",
              "    element.style[key] = styleAttributes[key];\n",
              "  }\n",
              "  return element;\n",
              "}\n",
              "\n",
              "// Max number of bytes which will be uploaded at a time.\n",
              "const MAX_PAYLOAD_SIZE = 100 * 1024;\n",
              "\n",
              "function _uploadFiles(inputId, outputId) {\n",
              "  const steps = uploadFilesStep(inputId, outputId);\n",
              "  const outputElement = document.getElementById(outputId);\n",
              "  // Cache steps on the outputElement to make it available for the next call\n",
              "  // to uploadFilesContinue from Python.\n",
              "  outputElement.steps = steps;\n",
              "\n",
              "  return _uploadFilesContinue(outputId);\n",
              "}\n",
              "\n",
              "// This is roughly an async generator (not supported in the browser yet),\n",
              "// where there are multiple asynchronous steps and the Python side is going\n",
              "// to poll for completion of each step.\n",
              "// This uses a Promise to block the python side on completion of each step,\n",
              "// then passes the result of the previous step as the input to the next step.\n",
              "function _uploadFilesContinue(outputId) {\n",
              "  const outputElement = document.getElementById(outputId);\n",
              "  const steps = outputElement.steps;\n",
              "\n",
              "  const next = steps.next(outputElement.lastPromiseValue);\n",
              "  return Promise.resolve(next.value.promise).then((value) => {\n",
              "    // Cache the last promise value to make it available to the next\n",
              "    // step of the generator.\n",
              "    outputElement.lastPromiseValue = value;\n",
              "    return next.value.response;\n",
              "  });\n",
              "}\n",
              "\n",
              "/**\n",
              " * Generator function which is called between each async step of the upload\n",
              " * process.\n",
              " * @param {string} inputId Element ID of the input file picker element.\n",
              " * @param {string} outputId Element ID of the output display.\n",
              " * @return {!Iterable<!Object>} Iterable of next steps.\n",
              " */\n",
              "function* uploadFilesStep(inputId, outputId) {\n",
              "  const inputElement = document.getElementById(inputId);\n",
              "  inputElement.disabled = false;\n",
              "\n",
              "  const outputElement = document.getElementById(outputId);\n",
              "  outputElement.innerHTML = '';\n",
              "\n",
              "  const pickedPromise = new Promise((resolve) => {\n",
              "    inputElement.addEventListener('change', (e) => {\n",
              "      resolve(e.target.files);\n",
              "    });\n",
              "  });\n",
              "\n",
              "  const cancel = document.createElement('button');\n",
              "  inputElement.parentElement.appendChild(cancel);\n",
              "  cancel.textContent = 'Cancel upload';\n",
              "  const cancelPromise = new Promise((resolve) => {\n",
              "    cancel.onclick = () => {\n",
              "      resolve(null);\n",
              "    };\n",
              "  });\n",
              "\n",
              "  // Wait for the user to pick the files.\n",
              "  const files = yield {\n",
              "    promise: Promise.race([pickedPromise, cancelPromise]),\n",
              "    response: {\n",
              "      action: 'starting',\n",
              "    }\n",
              "  };\n",
              "\n",
              "  cancel.remove();\n",
              "\n",
              "  // Disable the input element since further picks are not allowed.\n",
              "  inputElement.disabled = true;\n",
              "\n",
              "  if (!files) {\n",
              "    return {\n",
              "      response: {\n",
              "        action: 'complete',\n",
              "      }\n",
              "    };\n",
              "  }\n",
              "\n",
              "  for (const file of files) {\n",
              "    const li = document.createElement('li');\n",
              "    li.append(span(file.name, {fontWeight: 'bold'}));\n",
              "    li.append(span(\n",
              "        `(${file.type || 'n/a'}) - ${file.size} bytes, ` +\n",
              "        `last modified: ${\n",
              "            file.lastModifiedDate ? file.lastModifiedDate.toLocaleDateString() :\n",
              "                                    'n/a'} - `));\n",
              "    const percent = span('0% done');\n",
              "    li.appendChild(percent);\n",
              "\n",
              "    outputElement.appendChild(li);\n",
              "\n",
              "    const fileDataPromise = new Promise((resolve) => {\n",
              "      const reader = new FileReader();\n",
              "      reader.onload = (e) => {\n",
              "        resolve(e.target.result);\n",
              "      };\n",
              "      reader.readAsArrayBuffer(file);\n",
              "    });\n",
              "    // Wait for the data to be ready.\n",
              "    let fileData = yield {\n",
              "      promise: fileDataPromise,\n",
              "      response: {\n",
              "        action: 'continue',\n",
              "      }\n",
              "    };\n",
              "\n",
              "    // Use a chunked sending to avoid message size limits. See b/62115660.\n",
              "    let position = 0;\n",
              "    do {\n",
              "      const length = Math.min(fileData.byteLength - position, MAX_PAYLOAD_SIZE);\n",
              "      const chunk = new Uint8Array(fileData, position, length);\n",
              "      position += length;\n",
              "\n",
              "      const base64 = btoa(String.fromCharCode.apply(null, chunk));\n",
              "      yield {\n",
              "        response: {\n",
              "          action: 'append',\n",
              "          file: file.name,\n",
              "          data: base64,\n",
              "        },\n",
              "      };\n",
              "\n",
              "      let percentDone = fileData.byteLength === 0 ?\n",
              "          100 :\n",
              "          Math.round((position / fileData.byteLength) * 100);\n",
              "      percent.textContent = `${percentDone}% done`;\n",
              "\n",
              "    } while (position < fileData.byteLength);\n",
              "  }\n",
              "\n",
              "  // All done.\n",
              "  yield {\n",
              "    response: {\n",
              "      action: 'complete',\n",
              "    }\n",
              "  };\n",
              "}\n",
              "\n",
              "scope.google = scope.google || {};\n",
              "scope.google.colab = scope.google.colab || {};\n",
              "scope.google.colab._files = {\n",
              "  _uploadFiles,\n",
              "  _uploadFilesContinue,\n",
              "};\n",
              "})(self);\n",
              "</script> "
            ]
          },
          "metadata": {}
        },
        {
          "output_type": "stream",
          "name": "stdout",
          "text": [
            "Saving kaggle.json to kaggle.json\n"
          ]
        },
        {
          "output_type": "execute_result",
          "data": {
            "text/plain": [
              "{'kaggle.json': b'{\"username\":\"aalndy\",\"key\":\"3d3aac3e0773862d88152e8c280a92c2\"}'}"
            ]
          },
          "metadata": {},
          "execution_count": 3
        }
      ]
    },
    {
      "cell_type": "code",
      "source": [
        "!mkdir -p ~/.kaggle  # Use -p to avoid errors if the directory exists\n",
        "!cp kaggle.json ~/.kaggle/\n",
        "!chmod 600 ~/.kaggle/kaggle.json"
      ],
      "metadata": {
        "id": "gH1KfFBLp4VU"
      },
      "execution_count": 4,
      "outputs": []
    },
    {
      "cell_type": "code",
      "source": [
        "!pip install -q kaggle"
      ],
      "metadata": {
        "id": "uDAMyczl0Ais"
      },
      "execution_count": 5,
      "outputs": []
    },
    {
      "cell_type": "code",
      "source": [
        "\n",
        "!kaggle competitions download -c odsc-2024-nvidia-hackathon"
      ],
      "metadata": {
        "id": "91ltoa2up6Uq",
        "outputId": "fe446f53-9a06-4f19-b2d3-a6e8566e059e",
        "colab": {
          "base_uri": "https://localhost:8080/"
        }
      },
      "execution_count": 6,
      "outputs": [
        {
          "output_type": "stream",
          "name": "stdout",
          "text": [
            "Downloading odsc-2024-nvidia-hackathon.zip to /content\n",
            "100% 3.71G/3.72G [02:56<00:00, 24.4MB/s]\n",
            "100% 3.72G/3.72G [02:56<00:00, 22.6MB/s]\n"
          ]
        }
      ]
    },
    {
      "cell_type": "code",
      "source": [
        "import zipfile\n",
        "with zipfile.ZipFile(\"odsc-2024-nvidia-hackathon.zip\", \"r\") as zip_ref:\n",
        "    zip_ref.extractall(\"odsc-2024-nvidia-hackathon\")"
      ],
      "metadata": {
        "id": "dcnoFWRPp-qU"
      },
      "execution_count": 7,
      "outputs": []
    },
    {
      "cell_type": "code",
      "source": [
        "# prompt: # the csvs should be in the odsc-2024-nvidia-hackathon directory\n",
        "# train = cudf.read_csv('train.csv', nrows=1000000)  # Load a sample of 1 million rows\n",
        "# test = cudf.read_csv('test.csv')\n",
        "\n",
        "# Assuming 'train.csv' and 'test.csv' are in the 'odsc-2024-nvidia-hackathon' directory\n",
        "# train = cudf.read_csv('odsc-2024-nvidia-hackathon/train.csv', nrows=1000000)  # Load a sample of 1 million rows\n",
        "# test = cudf.read_csv('odsc-2024-nvidia-hackathon/test.csv')\n",
        "\n",
        "# Load a sample of the train.csv using Pandas\n",
        "# Note: Assuming train.csv is uploaded to Colab environment.\n",
        "train = pd.read_csv('odsc-2024-nvidia-hackathon/train.csv')\n",
        "test = pd.read_csv('odsc-2024-nvidia-hackathon/test.csv')\n"
      ],
      "metadata": {
        "id": "DfaAleL5qhim"
      },
      "execution_count": 3,
      "outputs": []
    },
    {
      "cell_type": "code",
      "source": [
        "\n",
        "# Check for missing values (in case some need imputation)\n",
        "print(train.isnull().sum())\n",
        "print(test.isnull().sum())"
      ],
      "metadata": {
        "collapsed": true,
        "id": "pCPzTwWUrFHC",
        "outputId": "f12b2da3-b254-4aaf-f886-e7ca9c7aa2c7",
        "colab": {
          "base_uri": "https://localhost:8080/"
        }
      },
      "execution_count": 4,
      "outputs": [
        {
          "output_type": "stream",
          "name": "stdout",
          "text": [
            "id                       0\n",
            "y                        0\n",
            "trickortreat        976662\n",
            "kingofhalloween    1026793\n",
            "mumming            1054562\n",
            "                    ...   \n",
            "satan                    0\n",
            "monsterhunter       400267\n",
            "tabulatable         479359\n",
            "vampire                  0\n",
            "hallo               468437\n",
            "Length: 108, dtype: int64\n",
            "id                       0\n",
            "y                  1000000\n",
            "trickortreat         88960\n",
            "kingofhalloween      93404\n",
            "mumming              95907\n",
            "                    ...   \n",
            "satan                    0\n",
            "monsterhunter        36560\n",
            "tabulatable          43653\n",
            "vampire                  0\n",
            "hallo                43008\n",
            "Length: 108, dtype: int64\n"
          ]
        }
      ]
    },
    {
      "cell_type": "code",
      "source": [
        "# Basic Feature Preprocessing\n",
        "# Extract feature columns and target\n",
        "target = train['y']\n",
        "features = train.drop(['id', 'y'], axis=1)"
      ],
      "metadata": {
        "id": "1CUnX-9krvei"
      },
      "execution_count": 5,
      "outputs": []
    },
    {
      "cell_type": "code",
      "source": [
        "# Label Encoding for Categorical Features using pandas factorize\n",
        "categorical_cols = features.select_dtypes(include=['object']).columns\n",
        "for col in categorical_cols:\n",
        "    features[col], _ = pd.factorize(features[col])"
      ],
      "metadata": {
        "id": "SLRleX9xWxqX",
        "collapsed": true
      },
      "execution_count": 6,
      "outputs": []
    },
    {
      "cell_type": "code",
      "source": [
        "# Handle the test data similarly to ensure columns align with training set\n",
        "test_features = test.drop(['id'], axis=1)\n",
        "for col in categorical_cols:\n",
        "    if col in test_features.columns:\n",
        "        test_features[col], _ = pd.factorize(test_features[col])\n",
        "\n",
        "# Align train and test dataframes to have the same columns\n",
        "features, test_features = features.align(test_features, join='left', axis=1, fill_value=0)\n",
        "\n",
        "# Split data into train and validation sets\n",
        "X_train, X_valid, y_train, y_valid = train_test_split(features, target, test_size=0.2, random_state=42)\n",
        "\n",
        "# Convert to NumPy arrays for LightGBM compatibility\n",
        "X_train = X_train.values\n",
        "y_train = y_train.values\n",
        "X_valid = X_valid.values\n",
        "y_valid = y_valid.values\n"
      ],
      "metadata": {
        "id": "9Ouhu1OBr8r5"
      },
      "execution_count": 7,
      "outputs": []
    },
    {
      "cell_type": "code",
      "source": [
        "# LightGBM Dataset Construction (handle missing values automatically)\n",
        "lgb_train = lgb.Dataset(X_train, y_train, free_raw_data=False)\n",
        "lgb_valid = lgb.Dataset(X_valid, y_valid, reference=lgb_train, free_raw_data=False)\n",
        "\n",
        "# Set LightGBM Parameters\n",
        "params = {\n",
        "    'objective': 'regression',\n",
        "    'metric': 'rmse',\n",
        "    'boosting_type': 'gbdt',\n",
        "    'gpu_platform_id': 0,  # Specify GPU platform (optional, depending on the setup)\n",
        "    'gpu_device_id': 0,    # Specify GPU device ID (optional, depending on the setup)\n",
        "    'learning_rate': 0.1,\n",
        "    'max_depth': -1,\n",
        "    'num_leaves': 31,\n",
        "    'verbose': -1,\n",
        "    'device': 'gpu',  # Enable GPU with CUDA for faster training  # Utilize GPU for faster training if available\n",
        "}\n",
        "\n",
        "# Train LightGBM Model with Callbacks\n",
        "callbacks = [\n",
        "    lgb.early_stopping(stopping_rounds=50),\n",
        "    lgb.log_evaluation(period=100)\n",
        "]\n",
        "\n",
        "model = lgb.train(params, lgb_train, num_boost_round=1000, valid_sets=[lgb_valid], callbacks=callbacks)\n"
      ],
      "metadata": {
        "collapsed": true,
        "id": "o0TBlshxr-Qy",
        "outputId": "7bd13a9e-5902-4039-c050-a584500020af",
        "colab": {
          "base_uri": "https://localhost:8080/"
        }
      },
      "execution_count": 8,
      "outputs": [
        {
          "output_type": "stream",
          "name": "stdout",
          "text": [
            "Training until validation scores don't improve for 50 rounds\n",
            "[100]\tvalid_0's rmse: 643.501\n",
            "[200]\tvalid_0's rmse: 643.037\n",
            "[300]\tvalid_0's rmse: 642.911\n",
            "[400]\tvalid_0's rmse: 642.854\n",
            "[500]\tvalid_0's rmse: 642.821\n",
            "[600]\tvalid_0's rmse: 642.796\n",
            "[700]\tvalid_0's rmse: 642.79\n",
            "[800]\tvalid_0's rmse: 642.78\n",
            "[900]\tvalid_0's rmse: 642.772\n",
            "Early stopping, best iteration is:\n",
            "[921]\tvalid_0's rmse: 642.77\n"
          ]
        }
      ]
    },
    {
      "cell_type": "code",
      "source": [
        "# keep track of leaderboard\n",
        "# ID\n",
        "# Predict on Validation Set\n",
        "y_pred_valid = model.predict(X_valid, num_iteration=model.best_iteration)\n",
        "rmse_valid = np.sqrt(mean_squared_error(y_valid, y_pred_valid))\n",
        "print(f'Validation RMSE: {rmse_valid}')\n",
        "\n",
        "# Predict on Test Set\n",
        "test_features = test_features.values\n",
        "test_preds = model.predict(test_features, num_iteration=model.best_iteration)\n"
      ],
      "metadata": {
        "id": "ppHlV0NwwUCl",
        "outputId": "cc4075c7-c56c-4a64-8d3c-8fbad7fa46ad",
        "colab": {
          "base_uri": "https://localhost:8080/"
        }
      },
      "execution_count": 9,
      "outputs": [
        {
          "output_type": "stream",
          "name": "stdout",
          "text": [
            "Validation RMSE: 642.7704077659927\n"
          ]
        }
      ]
    },
    {
      "cell_type": "code",
      "source": [
        "# Create Submission File\n",
        "submission = pd.DataFrame({'id': test['id'], 'y': test_preds})\n",
        "submission.to_csv('submission.csv', index=False)\n",
        "\n",
        "print(\"Submission saved as 'submission.csv'\")\n"
      ],
      "metadata": {
        "id": "AceMUWkFwijP",
        "outputId": "49ea7a4d-7b31-473e-c983-93c6b3852b01",
        "colab": {
          "base_uri": "https://localhost:8080/"
        }
      },
      "execution_count": 10,
      "outputs": [
        {
          "output_type": "stream",
          "name": "stdout",
          "text": [
            "Submission saved as 'submission.csv'\n"
          ]
        }
      ]
    },
    {
      "cell_type": "code",
      "source": [
        "# prompt: read submission.csv and count the number of rows\n",
        "\n",
        "submission = pd.read_csv('submission.csv')\n",
        "num_rows = len(submission)\n",
        "print(f\"Number of rows in submission.csv: {num_rows}\")"
      ],
      "metadata": {
        "id": "03Y0rtLYwkPn",
        "outputId": "dd950a98-08fb-4f31-bc3b-3494220ecfa4",
        "colab": {
          "base_uri": "https://localhost:8080/"
        }
      },
      "execution_count": 11,
      "outputs": [
        {
          "output_type": "stream",
          "name": "stdout",
          "text": [
            "Number of rows in submission.csv: 1000000\n"
          ]
        }
      ]
    },
    {
      "cell_type": "code",
      "source": [
        "# prompt: kaggle competitions ubmit -c odsc-2024-nvidia-hackathon -f submission.csv -m \"First submission using 1M rows of training\"\n",
        "\n",
        "!kaggle competitions submit -c odsc-2024-nvidia-hackathon -f submission.csv -m \"First submission using 1M rows of training\"\n"
      ],
      "metadata": {
        "id": "6jKA8Jjzw1pn",
        "outputId": "63659ee3-10c0-4f24-9456-d61108a981a2",
        "colab": {
          "base_uri": "https://localhost:8080/"
        }
      },
      "execution_count": 12,
      "outputs": [
        {
          "output_type": "stream",
          "name": "stdout",
          "text": [
            "100% 19.9M/19.9M [00:04<00:00, 5.06MB/s]\n",
            "Successfully submitted to 🎃 Spooktacular NVIDIA Data Science Competition"
          ]
        }
      ]
    }
  ]
}